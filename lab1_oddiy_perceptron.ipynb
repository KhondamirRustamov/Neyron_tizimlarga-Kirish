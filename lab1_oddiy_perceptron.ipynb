{
  "nbformat": 4,
  "nbformat_minor": 0,
  "metadata": {
    "colab": {
      "provenance": [],
      "authorship_tag": "ABX9TyOxHNenpo16mpFAnG5RgVRe",
      "include_colab_link": true
    },
    "kernelspec": {
      "name": "python3",
      "display_name": "Python 3"
    },
    "language_info": {
      "name": "python"
    },
    "gpuClass": "standard"
  },
  "cells": [
    {
      "cell_type": "markdown",
      "metadata": {
        "id": "view-in-github",
        "colab_type": "text"
      },
      "source": [
        "<a href=\"https://colab.research.google.com/github/KhondamirRustamov/Neyron_tizimlarga-Kirish/blob/main/lab1_oddiy_perceptron.ipynb\" target=\"_parent\"><img src=\"https://colab.research.google.com/assets/colab-badge.svg\" alt=\"Open In Colab\"/></a>"
      ]
    },
    {
      "cell_type": "markdown",
      "source": [
        "Oddiy perseptron"
      ],
      "metadata": {
        "id": "YG2JfZFBF1_Z"
      }
    },
    {
      "cell_type": "code",
      "execution_count": 2,
      "metadata": {
        "id": "mIAoY5QJEAJf"
      },
      "outputs": [],
      "source": [
        "# Kerak bo'ladigan kutubxonalarni import qilib olamiz\n",
        "# Tensorflow kutubxonasi NEYRON TIZIMLAR bilan ishlash uchun\n",
        "# Numpy esa massivlar va matritsalar bilan ishlash uchun mo'ljallangan kutubxona\n",
        "\n",
        "import tensorflow as tf\n",
        "import numpy as np"
      ]
    },
    {
      "cell_type": "markdown",
      "source": [
        "**Suniy neryron tizimining modelini belgilab olamiz**\n",
        "\n",
        "Modelimiz faqat bitta neyrondan tashkil topgan buni biz **units** parametri bilan belgilab oldik. Va ushbu yagona neyronimiz bitta sonni kirishga oladi. Buni biz **input_shape** bilan belgilab oldik\n",
        "\n",
        "**model.compile** funktsiyasi modelimizni giperparametrlarini belgilaydi. Oddiy perseptron uchun standart giper parametrlarni tanlab olamiz: bu *stochastic gradient descent* optimizatori va *mean square error* loss funktsiyasi"
      ],
      "metadata": {
        "id": "jRAOd2zHHfYA"
      }
    },
    {
      "cell_type": "code",
      "source": [
        "# Suniy neryron tizimining modelini belgilab olamiz\n",
        "# Model parametrlarini belgilaymiz\n",
        "\n",
        "model = tf.keras.Sequential(tf.keras.layers.Dense(units=1, input_shape=[1]))\n",
        "model.compile(optimizer='sgd', loss='mse')"
      ],
      "metadata": {
        "id": "RxOH_LKgEZ3E"
      },
      "execution_count": 22,
      "outputs": []
    },
    {
      "cell_type": "markdown",
      "source": [
        "Modelimiz treningi uchun biz unga kirish parametrlarini berishimiz kerak. Ularni biz **x** massivida belgilab oldik. Keyin esa to'g'ri output javoblarini ham kiritamiz, ular **y** massivida berilgan"
      ],
      "metadata": {
        "id": "GgODQA9tJCCD"
      }
    },
    {
      "cell_type": "code",
      "source": [
        "# Kirishga beriladigan sonlarni belgilaymiz\n",
        "# Modelimizning tekshirish uchun to'g'ri javoblarni belgilab olamiz\n",
        "\n",
        "x = np.array([1, 2, 3, 4, 5, 6])\n",
        "y = np.array([2, 4, 6, 8, 10, 12])"
      ],
      "metadata": {
        "id": "29sIzfbwEvy6"
      },
      "execution_count": 23,
      "outputs": []
    },
    {
      "cell_type": "markdown",
      "source": [
        "Endi esa modelimizni trening qilamiz. **model.fit** funktsiyasi bu ishni qiladi.\n",
        "\n",
        "Biz unga input parametrlarni (**x**) to'g'ri javoblarni (**y**) va trening davom etadigan davrlarni (**epochs**) kiritamiz."
      ],
      "metadata": {
        "id": "EVayxiiRJzL6"
      }
    },
    {
      "cell_type": "code",
      "source": [
        "# modelimizni trening qilamiz\n",
        "\n",
        "model.fit(x, y, epochs = 500)"
      ],
      "metadata": {
        "id": "GxmKO3AVFLog"
      },
      "execution_count": null,
      "outputs": []
    },
    {
      "cell_type": "markdown",
      "source": [
        "**model.predict** funktsiyasi bilan biz modelimiz treningi tugagandan keyin uni yordamida istagan sonimiz uchun output bashorat qilishimiz mumkin."
      ],
      "metadata": {
        "id": "zNHwn7qyKbPU"
      }
    },
    {
      "cell_type": "code",
      "source": [
        "# modelimizni ishlatib 10 soniga to'g'ri output bashorat qilamiz\n",
        "\n",
        "model.predict([10])"
      ],
      "metadata": {
        "colab": {
          "base_uri": "https://localhost:8080/"
        },
        "id": "yd51aFJEFS5I",
        "outputId": "052fa563-791f-48ea-a302-695cc1b65214"
      },
      "execution_count": 25,
      "outputs": [
        {
          "output_type": "stream",
          "name": "stdout",
          "text": [
            "1/1 [==============================] - 0s 38ms/step\n"
          ]
        },
        {
          "output_type": "execute_result",
          "data": {
            "text/plain": [
              "array([[19.854301]], dtype=float32)"
            ]
          },
          "metadata": {},
          "execution_count": 25
        }
      ]
    },
    {
      "cell_type": "markdown",
      "source": [
        "E'tibor bergan bo'lsangiz output javobimiz absolut to'g'ri emas.\n",
        "\n",
        "Esingizda bo'lsa neyron tizimlar trening vaqtida tasodifiy sonlarni tanlab ularning ichidan to'g'ri javobga eng yaqin bo'lganini tanlab oladi, to'g'ri javobning o'zigacha etib bormasligi ham mumkin.\n",
        "\n",
        "Endi siz trening davom etadigan davrlarni sonini ko'paytirib ko'ring. Bunda olingan natija to'g'ri javobimizga yaqinroq bo'ladimi yoki yo'qmi."
      ],
      "metadata": {
        "id": "38qC5VjfLJGL"
      }
    }
  ]
}