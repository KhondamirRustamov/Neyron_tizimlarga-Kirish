{
  "cells": [
    {
      "cell_type": "markdown",
      "metadata": {
        "id": "view-in-github",
        "colab_type": "text"
      },
      "source": [
        "<a href=\"https://colab.research.google.com/github/KhondamirRustamov/Neyron_tizimlarga-Kirish/blob/main/Docking_Vina.ipynb\" target=\"_parent\"><img src=\"https://colab.research.google.com/assets/colab-badge.svg\" alt=\"Open In Colab\"/></a>"
      ]
    },
    {
      "cell_type": "markdown",
      "metadata": {
        "id": "hbXzjq22liUp"
      },
      "source": [
        "# **Colab для использования AutoDock Vina**\n",
        "\n",
        "Супер простой вариант использования докинга\n",
        "\n",
        "*Хондамир Рустамов*\n",
        "©\n",
        "\n"
      ]
    },
    {
      "cell_type": "code",
      "execution_count": null,
      "metadata": {
        "cellView": "form",
        "id": "-xZSbPWWJHYD"
      },
      "outputs": [],
      "source": [
        "#@title Загрузка необходимых библиотек для работы с AutoDock Vina\n",
        "\n",
        "#Installing py3Dmol using pip\n",
        "!pip -q install py3Dmol\n",
        "#Installing biopython using pip\n",
        "!pip -q install biopython\n",
        "#Installing pdb2pqr v3.0 using pip\n",
        "!pip -q install pdb2pqr\n",
        "#We will also install kora for using RDkit\n",
        "!pip -q install kora\n",
        "!pip -q install rdkit"
      ]
    },
    {
      "cell_type": "code",
      "execution_count": null,
      "metadata": {
        "cellView": "form",
        "id": "q552o2jWKKnQ"
      },
      "outputs": [],
      "source": [
        "#@title Проверка правильности работы загруженных библиотек (можно пропустить данный шаг)\n",
        "#Importing py3Dmol for safety\n",
        "import py3Dmol\n",
        "#Checking that pdb2pqr was properly installed\n",
        "!pdb2pqr30 -h"
      ]
    },
    {
      "cell_type": "code",
      "execution_count": null,
      "metadata": {
        "cellView": "form",
        "id": "ua32ALLBKK4Q"
      },
      "outputs": [],
      "source": [
        "#@title Загрузка CondaColab и сторонних программ для подготовки белка-рецептора и лиганда \n",
        "#@markdown (на данном этапе колаб может остановиться, не обращайте на это внимание и продолжайте выполнение следующего куска кода)\n",
        "\n",
        "#Install conda using the new conda-colab library\n",
        "!pip install -q condacolab\n",
        "import condacolab\n",
        "condacolab.install_miniconda()\n",
        "\n",
        "#Install MGLtools and OpenBabel from\n",
        "#the bioconda repository\n",
        "!conda install -c conda-forge -c bioconda mgltools openbabel zlib --yes"
      ]
    },
    {
      "cell_type": "code",
      "execution_count": null,
      "metadata": {
        "cellView": "form",
        "id": "2uC_IOjAKNPv"
      },
      "outputs": [],
      "source": [
        "#@title Загрузка самой программы AutoDock Vina\n",
        "\n",
        "#Download and extract Autodock Vina from SCRIPPS\n",
        "#Then, we set up an alias for vina to be treated as a native binary\n",
        "%%bash\n",
        "wget https://vina.scripps.edu/wp-content/uploads/sites/55/2020/12/autodock_vina_1_1_2_linux_x86.tgz\n",
        "tar xzvf autodock_vina_1_1_2_linux_x86.tgz"
      ]
    },
    {
      "cell_type": "code",
      "execution_count": null,
      "metadata": {
        "cellView": "form",
        "id": "GJRRIG0DKQt3"
      },
      "outputs": [],
      "source": [
        "#@title Добавление AutoDock Vina в 'PATH'\n",
        "%alias vina /content/autodock_vina_1_1_2_linux_x86/bin/vina\n",
        "%alias vina_split /content/autodock_vina_1_1_2_linux_x86/bin/vina_split"
      ]
    },
    {
      "cell_type": "code",
      "execution_count": null,
      "metadata": {
        "id": "M0zjPv2OKqyg",
        "cellView": "form"
      },
      "outputs": [],
      "source": [
        "#@title Подготовка рецептора\n",
        "#@markdown Введите название файла с .pdb белка-рецептора (только название файла без .pdb)\n",
        "receptor = '' #@param {type: 'string'}\n",
        "#First, using pdb2pqr to parameterize our receptor with AMBER99ff, maintaining\n",
        "#the chain IDs and setting up the receptor at a pH of 7.4\n",
        "!pdb2pqr30 --ff AMBER --keep-chain --titration-state-method propka --with-ph 7.4 {receptor}.pdb {receptor}.pqr\n",
        "\n",
        "#Then, convert the .pqr file into a .pdbqt file while deleting non-polar\n",
        "#hydrogens but without changing the AMBER parameters added to the protein\n",
        "!prepare_receptor4.py -r {receptor}.pqr -o {receptor}.pdbqt -C -U nphs_lps -v"
      ]
    },
    {
      "cell_type": "code",
      "execution_count": null,
      "metadata": {
        "cellView": "form",
        "id": "CHIfmUFNPP2Q"
      },
      "outputs": [],
      "source": [
        "#@title Подготовка лиганда по файлу Smiles\n",
        "\n",
        "smiles = '' #@param {type: 'string'}\n",
        "ligand = 'ligand'\n",
        "file = open('ligand.smiles', 'w')\n",
        "file.write(smiles)\n",
        "file.close()\n",
        "\n",
        "!obabel ligand.smiles -O ligand.mol2 --gen3d best -p 7.4 --canonical\n",
        "#Parameterizing and adding Gasteiger charges into our protein using MGLtools\n",
        "#Adding -z leads to a rigid ligand without any torsions\n",
        "!prepare_ligand4.py -l ligand.mol2 -o ligand.pdbqt -U nphs_lps -v\n",
        "#NOTE: for some reason, MGLtools does not recognize the ligand when inside a different folder\n",
        "#Here we are deleting the temporary PDB file required for generating the PDBQT file"
      ]
    },
    {
      "cell_type": "code",
      "execution_count": null,
      "metadata": {
        "cellView": "form",
        "id": "pSCU5P6jhPZe"
      },
      "outputs": [],
      "source": [
        "#@title Подготовка лиганда по файлy .mol2 из Charmm-GUI\n",
        "#@markdown Введите название файла .mol2 с лигандом (просто название без .mol2)\n",
        "ligand = '' #@param {type: 'string'}\n",
        "!prepare_ligand4.py -l {ligand}.mol2 -o {ligand}.pdbqt -U nphs_lps -v"
      ]
    },
    {
      "cell_type": "code",
      "execution_count": null,
      "metadata": {
        "id": "iqcmOnKcKjlP",
        "cellView": "form"
      },
      "outputs": [],
      "source": [
        "#@title Запуск функций для визуализации белка-рецептора\n",
        "#These definitions will enable loading our protein and then\n",
        "#drawing a box with a given size and centroid on the cartesian space\n",
        "#This box will enable us to set up the system coordinates for the simulation\n",
        "#\n",
        "#HINT: The active site of the HIV-2 protease is near the beta strands in green\n",
        "#\n",
        "#ACKNOWLEDGE: This script is largely based on the one created by Jose Manuel \n",
        "#Napoles Duarte, Physics Teacher at the Chemical Sciences Faculty of the \n",
        "#Autonomous University of Chihuahua (https://github.com/napoles-uach)\n",
        "#\n",
        "#First, we define the grid box\n",
        "def definegrid(object,bxi,byi,bzi,bxf,byf,bzf):\n",
        "  object.addBox({'center':{'x':bxi,'y':byi,'z':bzi},'dimensions': {'w':bxf,'h':byf,'d':bzf},'color':'blue','opacity': 0.6})\n",
        "\n",
        "#Next, we define how the protein will be shown in py3Dmol\n",
        "#Note that we are also adding a style representation for active site residues\n",
        "def viewprot(object,prot_PDBfile,resids):\n",
        "  mol1 = open(prot_PDBfile, 'r').read()\n",
        "  object.addModel(mol1,'pdb')\n",
        "  object.setStyle({'cartoon': {'color':'spectrum'}})\n",
        "  object.addStyle({'resi':resids},{'stick':{'colorscheme':'greenCarbon'}})\n",
        "\n",
        "#Lastly, we combine the box grid and protein into a single viewer\n",
        "def viewprotgrid(prot_PDBfile,resids,bxi,byi,bzi,bxf=10,byf=10,bzf=10):\n",
        "  mol_view = py3Dmol.view(1000,600)\n",
        "  definegrid(mol_view,bxi,byi,bzi,bxf,byf,bzf)\n",
        "  viewprot(mol_view,prot_PDBfile,resids)\n",
        "  mol_view.setBackgroundColor('0xffffff')\n",
        "  mol_view.zoomTo()\n",
        "  mol_view.show() "
      ]
    },
    {
      "cell_type": "markdown",
      "metadata": {
        "id": "bp22RkNQk8oi"
      },
      "source": [
        "В данной ячейке нам нужно определить:\n",
        "\n",
        "\n",
        "*   Номера подвижных аминокислот в рецепторе\n",
        "*   Расположение и размеры бокса для докинга\n",
        "\n"
      ]
    },
    {
      "cell_type": "code",
      "execution_count": null,
      "metadata": {
        "cellView": "form",
        "id": "zWNLoaMFKlRj"
      },
      "outputs": [],
      "source": [
        "#@title Визуализации белка-рецептора и определение центра и размеров бокса для докинга \n",
        "\n",
        "import py3Dmol\n",
        "\n",
        "flexible_resids='166,91,92,357,358,432,153,42,316' #@param {type: 'string'}\n",
        "flexible_resids_list = flexible_resids.split(',')\n",
        "\n",
        "x_center = '38' #@param {type: 'string'}\n",
        "y_center = '15' #@param {type: 'string'}\n",
        "z_center = '10' #@param {type: 'string'}\n",
        "\n",
        "#@markdown Вставьте размеры бокса докинга по осям x, y, z\n",
        "x_size = '20' #@param {type: 'string'}\n",
        "y_size = '20' #@param {type: 'string'}\n",
        "z_size = '20' #@param {type: 'string'}\n",
        "\n",
        "viewprotgrid(f'{receptor}.pdb', \n",
        "             flexible_resids_list, \n",
        "             bxi=int(x_center), \n",
        "             byi=int(y_center), \n",
        "             bzi=int(z_center),\n",
        "             bxf=int(x_size),\n",
        "             byf=int(y_size),\n",
        "             bzf=int(z_size),)\n"
      ]
    },
    {
      "cell_type": "code",
      "execution_count": null,
      "metadata": {
        "cellView": "form",
        "id": "wSehPLYHKnbH"
      },
      "outputs": [],
      "source": [
        "#@title Подготовка файла настроек для Докинга (config)\n",
        "\n",
        "with open(\"config_singledock\",\"w\") as f:\n",
        "  f.write(\"#CONFIGURATION FILE (options not used are commented) \\n\")\n",
        "  f.write(\"\\n\")\n",
        "  f.write(\"#INPUT OPTIONS \\n\")\n",
        "  f.write(f\"receptor = {receptor}.pdbqt \\n\")\n",
        "  f.write(f\"ligand = {ligand}.pdbqt \\n\")\n",
        "  f.write(f\"#flex = [{flexible_resids}] \\n\")\n",
        "  f.write(\"#SEARCH SPACE CONFIGURATIONS \\n\")\n",
        "  f.write(\"#Center of the box (values bxi, byi and bzi) \\n\")\n",
        "#CHANGE THE FOLLOWING DATA WITH YOUR BOX CENTER COORDINATES  \n",
        "  f.write(f\"center_x = {x_center} \\n\")\n",
        "  f.write(f\"center_y = {y_center} \\n\")\n",
        "  f.write(f\"center_z = {z_center} \\n\")\n",
        "#CHANGE THE FOLLOWING DATA WITH YOUR BOX DIMENSIONS\n",
        "  f.write(\"#Size of the box (values bxf, byf and bzf) \\n\")\n",
        "  f.write(f\"size_x = {x_size} \\n\")\n",
        "  f.write(f\"size_y = {y_size} \\n\")\n",
        "  f.write(f\"size_z = {z_size} \\n\")\n",
        "  f.write(\"#OUTPUT OPTIONS \\n\")\n",
        "  f.write(\"#out = \\n\")\n",
        "  f.write(\"#log = \\n\")\n",
        "  f.write(\"\\n\")\n",
        "  f.write(\"#OTHER OPTIONS \\n\")\n",
        "  f.write(\"#cpu =  \\n\")\n",
        "  f.write(\"#exhaustiveness = \\n\")\n",
        "  f.write(\"#num_modes = \\n\")\n",
        "  f.write(\"#energy_range = \\n\")\n",
        "  f.write(\"#seed = \")"
      ]
    },
    {
      "cell_type": "code",
      "execution_count": null,
      "metadata": {
        "cellView": "form",
        "colab": {
          "background_save": true
        },
        "id": "IFdNHZf8Kx2A"
      },
      "outputs": [],
      "source": [
        "#@title Запуск докинга на AutoDock Vina\n",
        "#Changing directory to the single docking folder\n",
        "\n",
        "#Executing AutoDock Vina with our configuration file\n",
        "%vina --config config_singledock --out output.pdbqt --log log.txt\n",
        "#Exiting the execution directory\n"
      ]
    }
  ],
  "metadata": {
    "colab": {
      "provenance": [],
      "authorship_tag": "ABX9TyPSbX8/zSZouSLWlB6+UAKt",
      "include_colab_link": true
    },
    "kernelspec": {
      "display_name": "Python 3",
      "name": "python3"
    },
    "language_info": {
      "name": "python"
    }
  },
  "nbformat": 4,
  "nbformat_minor": 0
}