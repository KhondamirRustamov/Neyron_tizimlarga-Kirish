{
  "nbformat": 4,
  "nbformat_minor": 0,
  "metadata": {
    "colab": {
      "provenance": [],
      "include_colab_link": true
    },
    "kernelspec": {
      "name": "python3",
      "display_name": "Python 3"
    },
    "language_info": {
      "name": "python"
    },
    "gpuClass": "standard",
    "accelerator": "GPU"
  },
  "cells": [
    {
      "cell_type": "markdown",
      "metadata": {
        "id": "view-in-github",
        "colab_type": "text"
      },
      "source": [
        "<a href=\"https://colab.research.google.com/github/KhondamirRustamov/Neyron_tizimlarga-Kirish/blob/main/%D0%9A%D0%BE%D0%BF%D0%B8%D1%8F_%D0%B1%D0%BB%D0%BE%D0%BA%D0%BD%D0%BE%D1%82%D0%B0_%22omegafold_ipynb%22.ipynb\" target=\"_parent\"><img src=\"https://colab.research.google.com/assets/colab-badge.svg\" alt=\"Open In Colab\"/></a>"
      ]
    },
    {
      "cell_type": "markdown",
      "source": [
        "#**OmegaFold**\n",
        "for more details see: [Github](https://github.com/HeliXonProtein/OmegaFold), [Preprint](https://www.biorxiv.org/content/10.1101/2022.07.21.500999v1)\n",
        "\n",
        "#### **Tips and Instructions**\n",
        "- click the little ▶ play icon to the left of each cell below.\n",
        "- use \"/\" to specify chainbreaks, (eg. sequence=\"AAA/AAA\")\n"
      ],
      "metadata": {
        "id": "qEgffIPOyEgk"
      }
    },
    {
      "cell_type": "markdown",
      "source": [
        "**Omegafold + MSA by Ovchinnikov**"
      ],
      "metadata": {
        "id": "jFV2IaBuvU4J"
      }
    },
    {
      "cell_type": "code",
      "source": [
        "jupyter notebook --NotebookApp.allow_origin='https://colab.research.google.com' --port=8888 --NotebookApp.port_retries=0"
      ],
      "metadata": {
        "id": "DVmULsug1szm"
      },
      "execution_count": null,
      "outputs": []
    },
    {
      "cell_type": "code",
      "source": [],
      "metadata": {
        "id": "LTTjAfAQ2qGX"
      },
      "execution_count": null,
      "outputs": []
    },
    {
      "cell_type": "code",
      "source": [
        "from __future__ import print_function\n",
        "#%matplotlib inline\n",
        "import argparse\n",
        "import os\n",
        "import random\n",
        "import torch\n",
        "import torch.nn as nn\n",
        "import torch.nn.parallel\n",
        "import torch.backends.cudnn as cudnn\n",
        "import torch.optim as optim\n",
        "import torch.utils.data\n",
        "import torchvision.datasets as dset\n",
        "import torchvision.transforms as transforms\n",
        "import torchvision.utils as vutils\n",
        "import numpy as np\n",
        "import matplotlib.pyplot as plt\n",
        "import matplotlib.animation as animation\n",
        "from IPython.display import HTML\n",
        "\n",
        "# Set random seed for reproducibility\n",
        "manualSeed = 999\n",
        "#manualSeed = random.randint(1, 10000) # use if you want new results\n",
        "print(\"Random Seed: \", manualSeed)\n",
        "random.seed(manualSeed)\n",
        "torch.manual_seed(manualSeed)"
      ],
      "metadata": {
        "id": "MZVINuFLnhiS",
        "outputId": "083dc5a8-0259-436d-a376-eecb5352593a",
        "colab": {
          "base_uri": "https://localhost:8080/"
        }
      },
      "execution_count": 1,
      "outputs": [
        {
          "output_type": "stream",
          "name": "stdout",
          "text": [
            "Random Seed:  999\n"
          ]
        },
        {
          "output_type": "execute_result",
          "data": {
            "text/plain": [
              "<torch._C.Generator at 0x7f5cd2f30b30>"
            ]
          },
          "metadata": {},
          "execution_count": 1
        }
      ]
    },
    {
      "cell_type": "code",
      "source": [
        "# Number of workers for dataloader\n",
        "workers = 2\n",
        "\n",
        "# Batch size during training\n",
        "batch_size = 128\n",
        "\n",
        "# Spatial size of training images. All images will be resized to this\n",
        "#   size using a transformer.\n",
        "image_size = 64\n",
        "\n",
        "# Number of channels in the training images. For color images this is 3\n",
        "nc = 1\n",
        "\n",
        "# Size of z latent vector (i.e. size of generator input)\n",
        "nz = 100\n",
        "\n",
        "# Size of feature maps in generator\n",
        "ngf = 64\n",
        "\n",
        "# Size of feature maps in discriminator\n",
        "ndf = 64\n",
        "\n",
        "# Number of training epochs\n",
        "num_epochs = 1000\n",
        "\n",
        "# Learning rate for optimizers\n",
        "lr = 0.0001\n",
        "\n",
        "# Beta1 hyperparam for Adam optimizers\n",
        "beta1 = 0.5\n",
        "\n",
        "# Number of GPUs available. Use 0 for CPU mode.\n",
        "ngpu = 1"
      ],
      "metadata": {
        "id": "cWWC0-THnlZT"
      },
      "execution_count": 2,
      "outputs": []
    },
    {
      "cell_type": "code",
      "source": [
        "# custom weights initialization called on netG and netD\n",
        "def weights_init(m):\n",
        "    classname = m.__class__.__name__\n",
        "    if classname.find('Conv') != -1:\n",
        "        nn.init.normal_(m.weight.data, 0.0, 0.02)\n",
        "    elif classname.find('BatchNorm') != -1:\n",
        "        nn.init.normal_(m.weight.data, 1.0, 0.02)\n",
        "        nn.init.constant_(m.bias.data, 0)"
      ],
      "metadata": {
        "id": "yQafhhrxnxpk"
      },
      "execution_count": 3,
      "outputs": []
    },
    {
      "cell_type": "code",
      "source": [
        "\n",
        "class Generator(nn.Module):\n",
        "    def __init__(self, ngpu):\n",
        "        super(Generator, self).__init__()\n",
        "        self.ngpu = ngpu\n",
        "        self.main = nn.Sequential(\n",
        "            # input is Z, going into a convolution\n",
        "            nn.ConvTranspose2d( nz, ngf * 8, 5, 1, 0, bias=False),\n",
        "            nn.BatchNorm2d(ngf * 8),\n",
        "            nn.ReLU(True),\n",
        "            # state size. (ngf*8) x 5 x 5\n",
        "            nn.ConvTranspose2d(ngf * 8, ngf * 4, 5, 2, 1, bias=False),\n",
        "            nn.BatchNorm2d(ngf * 4),\n",
        "            nn.ReLU(True),\n",
        "            # state size. (ngf*4) x 10 x 10\n",
        "            nn.ConvTranspose2d( ngf * 4, ngf * 2, (4,3), (1,2), (0,1), bias=False),\n",
        "            nn.BatchNorm2d(ngf * 2),\n",
        "            nn.ReLU(True),\n",
        "            # state size. (ngf*2) x 10 x 20\n",
        "            nn.ConvTranspose2d( ngf * 2, ngf, (4,3), (1,2), (0,1), bias=False),\n",
        "            nn.BatchNorm2d(ngf),\n",
        "            nn.ReLU(True),\n",
        "            # state size. (ngf) x 20 x 40\n",
        "            nn.ConvTranspose2d( ngf, nc, (4,3), (1,2), (0,1), bias=False),\n",
        "            # state size. (nc) x 20 x 80\n",
        "        )\n",
        "\n",
        "    def forward(self, input):\n",
        "        return self.main(input)"
      ],
      "metadata": {
        "id": "ELZHSkfMnr1r"
      },
      "execution_count": 4,
      "outputs": []
    },
    {
      "cell_type": "code",
      "execution_count": null,
      "metadata": {
        "id": "oVkGfduwiAkw"
      },
      "outputs": [],
      "source": [
        "#@markdown ##Install\n",
        "\n",
        "%%bash\n",
        "if [ ! -d OmegaFold ]; then\n",
        "  git clone --quiet https://github.com/sokrypton/OmegaFold.git\n",
        "  cd OmegaFold\n",
        "  pip -q install -r requirements.txt\n",
        "  pip -q install py3Dmol\n",
        "  apt-get install aria2 -qq > /dev/null\n",
        "  aria2c -q -x 16 https://helixon.s3.amazonaws.com/release1.pt\n",
        "  mkdir -p ~/.cache/omegafold_ckpt\n",
        "  mv release1.pt ~/.cache/omegafold_ckpt/model.pt\n",
        "fi"
      ]
    },
    {
      "cell_type": "code",
      "source": [
        "seeq = 'GSGSGSCVKWFIYGVIAVYICYTLIVHKRYQEKEELTSSVRVTLKGVAHVDRIWDAAEYTIPTQTRDSFFVMTNIIRTENQIQKTCPEYPTAKAICSSDKSCAKGIVDVHSNGVQTGKCVHYNITHKTCEIKAWCPVQGEERPPVPAVLRSSEDFTVFIKNNIHFPTFQYTVQNISPKLNTSCKFNKVTAPLCPIFRLGDILQEAKENFSEMAVKGGIIAIEIKWDCDLDSWSYYCSPEYSFRRLDDKTRTQYPGFSIRFARHYKLPDGTEQRTLFKAYGIRFDVLVFGMGGQFKLIELFTFIGSTIAYFGLAVTIIEMCFHLYNLE'\n",
        "seeq[275:292]"
      ],
      "metadata": {
        "colab": {
          "base_uri": "https://localhost:8080/",
          "height": 35
        },
        "id": "OjRohwlZNx8o",
        "outputId": "de9186e0-ef87-4d4a-d161-9d5b0825f20c"
      },
      "execution_count": 6,
      "outputs": [
        {
          "output_type": "execute_result",
          "data": {
            "text/plain": [
              "'AYGIRFDVLVFGM'"
            ],
            "application/vnd.google.colaboratory.intrinsic+json": {
              "type": "string"
            }
          },
          "metadata": {},
          "execution_count": 6
        }
      ]
    },
    {
      "cell_type": "code",
      "source": [
        "%%time\n",
        "#@markdown ##Run\n",
        "import re\n",
        "from string import ascii_uppercase, ascii_lowercase\n",
        "alphabet_list = list(ascii_uppercase+ascii_lowercase)\n",
        "\n",
        "\n",
        "sequence = \"AYGIRFDVLVFGM\" #@param {type:\"string\"}\n",
        "sequence = re.sub(\"[^A-Z\\/\\:]\", \"\", sequence.upper()).replace(\"/\",\":\")\n",
        "lengths = [len(s) for s in sequence.split(\":\")]\n",
        "\n",
        "num_cycle = 4 #@param [\"1\", \"2\", \"4\", \"8\", \"16\", \"32\"] {type:\"raw\"}\n",
        "\n",
        "with open(\"tmp.fasta\",\"w\") as out:\n",
        "  out.write(f\">tmp\\n{sequence}\\n\")\n",
        "%shell python ./OmegaFold/main.py --num_cycle={num_cycle} tmp.fasta .\n",
        "\n",
        "def renum_pdb_str(pdb_str, Ls=None, renum=True, offset=1):\n",
        "  if Ls is not None:\n",
        "    L_init = 0\n",
        "    new_chain = {}\n",
        "    for L,c in zip(Ls, alphabet_list):\n",
        "      new_chain.update({i:c for i in range(L_init,L_init+L)})\n",
        "      L_init += L  \n",
        "\n",
        "  n,num,pdb_out = 0,offset,[]\n",
        "  resnum_ = None\n",
        "  chain_ = None\n",
        "  new_chain_ = new_chain[0]\n",
        "  for line in pdb_str.split(\"\\n\"):\n",
        "    if line[:4] == \"ATOM\":\n",
        "      chain = line[21:22]\n",
        "      resnum = int(line[22:22+5])\n",
        "      if resnum_ is None: resnum_ = resnum\n",
        "      if chain_ is None: chain_ = chain\n",
        "      if resnum != resnum_ or chain != chain_:\n",
        "        num += (resnum - resnum_)  \n",
        "        n += 1\n",
        "        resnum_,chain_ = resnum,chain\n",
        "      if Ls is not None:\n",
        "        if new_chain[n] != new_chain_:\n",
        "          num = offset\n",
        "          new_chain_ = new_chain[n]\n",
        "      N = num if renum else resnum\n",
        "      if Ls is None: pdb_out.append(\"%s%4i%s\" % (line[:22],N,line[26:]))\n",
        "      else: pdb_out.append(\"%s%s%4i%s\" % (line[:21],new_chain[n],N,line[26:]))        \n",
        "  return \"\\n\".join(pdb_out)\n",
        "\n",
        "pdb_str = renum_pdb_str(open(\"tmp.pdb\",'r').read(), Ls=lengths)\n",
        "with open(\"tmp.pdb\",\"w\") as out:\n",
        "  out.write(pdb_str)"
      ],
      "metadata": {
        "id": "CFCwEAa2oZEN",
        "outputId": "0528d817-c8e5-44bc-edcf-ee65abd5fd8a",
        "colab": {
          "base_uri": "https://localhost:8080/",
          "height": 831
        },
        "cellView": "form"
      },
      "execution_count": 7,
      "outputs": [
        {
          "output_type": "stream",
          "name": "stdout",
          "text": [
            "/usr/local/lib/python3.7/dist-packages/Bio/Data/SCOPData.py:21: BiopythonDeprecationWarning: The 'Bio.Data.SCOPData' module will be deprecated in a future release of Biopython in favor of 'Bio.Data.PDBData.\n",
            "  BiopythonDeprecationWarning,\n",
            "INFO:root:Loading weights from /root/.cache/omegafold_ckpt/model.pt\n",
            "INFO:root:Constructing OmegaFold\n",
            "Traceback (most recent call last):\n",
            "  File \"./OmegaFold/main.py\", line 106, in <module>\n",
            "    main()\n",
            "  File \"/usr/local/lib/python3.7/dist-packages/torch/autograd/grad_mode.py\", line 27, in decorate_context\n",
            "    return func(*args, **kwargs)\n",
            "  File \"./OmegaFold/main.py\", line 55, in main\n",
            "    model.to(args.device)\n",
            "  File \"/usr/local/lib/python3.7/dist-packages/torch/nn/modules/module.py\", line 927, in to\n",
            "    return self._apply(convert)\n",
            "  File \"/usr/local/lib/python3.7/dist-packages/torch/nn/modules/module.py\", line 579, in _apply\n",
            "    module._apply(fn)\n",
            "  File \"/usr/local/lib/python3.7/dist-packages/torch/nn/modules/module.py\", line 579, in _apply\n",
            "    module._apply(fn)\n",
            "  File \"/usr/local/lib/python3.7/dist-packages/torch/nn/modules/module.py\", line 602, in _apply\n",
            "    param_applied = fn(param)\n",
            "  File \"/usr/local/lib/python3.7/dist-packages/torch/nn/modules/module.py\", line 925, in convert\n",
            "    return t.to(device, dtype if t.is_floating_point() or t.is_complex() else None, non_blocking)\n",
            "  File \"/usr/local/lib/python3.7/dist-packages/torch/cuda/__init__.py\", line 217, in _lazy_init\n",
            "    torch._C._cuda_init()\n",
            "RuntimeError: No CUDA GPUs are available\n"
          ]
        },
        {
          "output_type": "error",
          "ename": "CalledProcessError",
          "evalue": "ignored",
          "traceback": [
            "\u001b[0;31m---------------------------------------------------------------------------\u001b[0m",
            "\u001b[0;31mCalledProcessError\u001b[0m                        Traceback (most recent call last)",
            "\u001b[0;32m<timed exec>\u001b[0m in \u001b[0;36m<module>\u001b[0;34m\u001b[0m\n",
            "\u001b[0;32m/usr/local/lib/python3.7/dist-packages/IPython/core/interactiveshell.py\u001b[0m in \u001b[0;36mrun_line_magic\u001b[0;34m(self, magic_name, line, _stack_depth)\u001b[0m\n\u001b[1;32m   2312\u001b[0m                 \u001b[0mkwargs\u001b[0m\u001b[0;34m[\u001b[0m\u001b[0;34m'local_ns'\u001b[0m\u001b[0;34m]\u001b[0m \u001b[0;34m=\u001b[0m \u001b[0msys\u001b[0m\u001b[0;34m.\u001b[0m\u001b[0m_getframe\u001b[0m\u001b[0;34m(\u001b[0m\u001b[0mstack_depth\u001b[0m\u001b[0;34m)\u001b[0m\u001b[0;34m.\u001b[0m\u001b[0mf_locals\u001b[0m\u001b[0;34m\u001b[0m\u001b[0;34m\u001b[0m\u001b[0m\n\u001b[1;32m   2313\u001b[0m             \u001b[0;32mwith\u001b[0m \u001b[0mself\u001b[0m\u001b[0;34m.\u001b[0m\u001b[0mbuiltin_trap\u001b[0m\u001b[0;34m:\u001b[0m\u001b[0;34m\u001b[0m\u001b[0;34m\u001b[0m\u001b[0m\n\u001b[0;32m-> 2314\u001b[0;31m                 \u001b[0mresult\u001b[0m \u001b[0;34m=\u001b[0m \u001b[0mfn\u001b[0m\u001b[0;34m(\u001b[0m\u001b[0;34m*\u001b[0m\u001b[0margs\u001b[0m\u001b[0;34m,\u001b[0m \u001b[0;34m**\u001b[0m\u001b[0mkwargs\u001b[0m\u001b[0;34m)\u001b[0m\u001b[0;34m\u001b[0m\u001b[0;34m\u001b[0m\u001b[0m\n\u001b[0m\u001b[1;32m   2315\u001b[0m             \u001b[0;32mreturn\u001b[0m \u001b[0mresult\u001b[0m\u001b[0;34m\u001b[0m\u001b[0;34m\u001b[0m\u001b[0m\n\u001b[1;32m   2316\u001b[0m \u001b[0;34m\u001b[0m\u001b[0m\n",
            "\u001b[0;32m/usr/local/lib/python3.7/dist-packages/google/colab/_system_commands.py\u001b[0m in \u001b[0;36m_shell_line_magic\u001b[0;34m(line)\u001b[0m\n\u001b[1;32m     65\u001b[0m   \"\"\"\n\u001b[1;32m     66\u001b[0m   \u001b[0mresult\u001b[0m \u001b[0;34m=\u001b[0m \u001b[0m_run_command\u001b[0m\u001b[0;34m(\u001b[0m\u001b[0mline\u001b[0m\u001b[0;34m,\u001b[0m \u001b[0mclear_streamed_output\u001b[0m\u001b[0;34m=\u001b[0m\u001b[0;32mFalse\u001b[0m\u001b[0;34m)\u001b[0m\u001b[0;34m\u001b[0m\u001b[0;34m\u001b[0m\u001b[0m\n\u001b[0;32m---> 67\u001b[0;31m   \u001b[0mresult\u001b[0m\u001b[0;34m.\u001b[0m\u001b[0mcheck_returncode\u001b[0m\u001b[0;34m(\u001b[0m\u001b[0;34m)\u001b[0m\u001b[0;34m\u001b[0m\u001b[0;34m\u001b[0m\u001b[0m\n\u001b[0m\u001b[1;32m     68\u001b[0m   \u001b[0;32mreturn\u001b[0m \u001b[0mresult\u001b[0m\u001b[0;34m\u001b[0m\u001b[0;34m\u001b[0m\u001b[0m\n\u001b[1;32m     69\u001b[0m \u001b[0;34m\u001b[0m\u001b[0m\n",
            "\u001b[0;32m/usr/local/lib/python3.7/dist-packages/google/colab/_system_commands.py\u001b[0m in \u001b[0;36mcheck_returncode\u001b[0;34m(self)\u001b[0m\n\u001b[1;32m    133\u001b[0m     \u001b[0;32mif\u001b[0m \u001b[0mself\u001b[0m\u001b[0;34m.\u001b[0m\u001b[0mreturncode\u001b[0m\u001b[0;34m:\u001b[0m\u001b[0;34m\u001b[0m\u001b[0;34m\u001b[0m\u001b[0m\n\u001b[1;32m    134\u001b[0m       raise subprocess.CalledProcessError(\n\u001b[0;32m--> 135\u001b[0;31m           returncode=self.returncode, cmd=self.args, output=self.output)\n\u001b[0m\u001b[1;32m    136\u001b[0m \u001b[0;34m\u001b[0m\u001b[0m\n\u001b[1;32m    137\u001b[0m   \u001b[0;32mdef\u001b[0m \u001b[0m_repr_pretty_\u001b[0m\u001b[0;34m(\u001b[0m\u001b[0mself\u001b[0m\u001b[0;34m,\u001b[0m \u001b[0mp\u001b[0m\u001b[0;34m,\u001b[0m \u001b[0mcycle\u001b[0m\u001b[0;34m)\u001b[0m\u001b[0;34m:\u001b[0m  \u001b[0;31m# pylint:disable=unused-argument\u001b[0m\u001b[0;34m\u001b[0m\u001b[0;34m\u001b[0m\u001b[0m\n",
            "\u001b[0;31mCalledProcessError\u001b[0m: Command 'python ./OmegaFold/main.py --num_cycle=4 tmp.fasta .' returned non-zero exit status 1."
          ]
        }
      ]
    },
    {
      "cell_type": "code",
      "source": [
        "device = torch.device(\"cuda:0\" if (torch.cuda.is_available() and ngpu > 0) else \"cpu\")\n",
        "netG = Generator(ngpu).to(device)\n",
        "\n",
        "# Handle multi-gpu if desired\n",
        "if (device.type == 'cuda') and (ngpu > 1):\n",
        "    netG = nn.DataParallel(netG, list(range(ngpu)))\n",
        "\n",
        "# Apply the weights_init function to randomly initialize all weights\n",
        "#  to mean=0, stdev=0.02.\n",
        "netG.apply(weights_init)\n",
        "\n",
        "# Print the model\n",
        "print(netG)"
      ],
      "metadata": {
        "id": "Rgm0SR4nnZGL",
        "outputId": "4621051a-cd27-4b6e-9c71-205100b26181",
        "colab": {
          "base_uri": "https://localhost:8080/"
        }
      },
      "execution_count": null,
      "outputs": [
        {
          "output_type": "stream",
          "name": "stdout",
          "text": [
            "Generator(\n",
            "  (main): Sequential(\n",
            "    (0): ConvTranspose2d(100, 512, kernel_size=(5, 5), stride=(1, 1), bias=False)\n",
            "    (1): BatchNorm2d(512, eps=1e-05, momentum=0.1, affine=True, track_running_stats=True)\n",
            "    (2): ReLU(inplace=True)\n",
            "    (3): ConvTranspose2d(512, 256, kernel_size=(5, 5), stride=(2, 2), padding=(1, 1), bias=False)\n",
            "    (4): BatchNorm2d(256, eps=1e-05, momentum=0.1, affine=True, track_running_stats=True)\n",
            "    (5): ReLU(inplace=True)\n",
            "    (6): ConvTranspose2d(256, 128, kernel_size=(4, 3), stride=(1, 2), padding=(0, 1), bias=False)\n",
            "    (7): BatchNorm2d(128, eps=1e-05, momentum=0.1, affine=True, track_running_stats=True)\n",
            "    (8): ReLU(inplace=True)\n",
            "    (9): ConvTranspose2d(128, 64, kernel_size=(4, 3), stride=(1, 2), padding=(0, 1), bias=False)\n",
            "    (10): BatchNorm2d(64, eps=1e-05, momentum=0.1, affine=True, track_running_stats=True)\n",
            "    (11): ReLU(inplace=True)\n",
            "    (12): ConvTranspose2d(64, 1, kernel_size=(4, 3), stride=(1, 2), padding=(0, 1), bias=False)\n",
            "  )\n",
            ")\n"
          ]
        }
      ]
    },
    {
      "cell_type": "code",
      "source": [
        "%matplotlib inline\n",
        "noise = torch.randn(1, nz, 1, 1, device=device)\n",
        "fake = netG(noise)\n",
        "plt.imshow(fake.cpu().detach().numpy()[0][0])\n",
        "print(fake.cpu().detach().numpy().shape)"
      ],
      "metadata": {
        "id": "yj3AWvtsn8Uz",
        "outputId": "b2e94859-9096-43a8-ea89-5cd9ad506949",
        "colab": {
          "base_uri": "https://localhost:8080/",
          "height": 150
        }
      },
      "execution_count": null,
      "outputs": [
        {
          "output_type": "stream",
          "name": "stdout",
          "text": [
            "(1, 1, 20, 81)\n"
          ]
        },
        {
          "output_type": "display_data",
          "data": {
            "text/plain": [
              "<Figure size 432x288 with 1 Axes>"
            ],
            "image/png": "[encoded data removed]"
          },
          "metadata": {
            "needs_background": "light"
          }
        }
      ]
    },
    {
      "cell_type": "code",
      "source": [
        "from math import sqrt\n",
        "target = np.zeros((20,81))\n",
        "print(target.shape)\n",
        "\n",
        "for i, c in enumerate(target):\n",
        "  for x, z in enumerate(c):\n",
        "    if (((x+1)/(i+1))**2)%4==0:\n",
        "      target[i][x]=1.0\n",
        "\n",
        "plt.imshow(target)\n",
        "target1 = target.reshape((1,1,20,81))\n",
        "target1.shape"
      ],
      "metadata": {
        "id": "iFJXr1uLoWLK",
        "outputId": "b2341d85-545a-482d-cec3-497b4c49fdaf",
        "colab": {
          "base_uri": "https://localhost:8080/",
          "height": 168
        }
      },
      "execution_count": null,
      "outputs": [
        {
          "output_type": "stream",
          "name": "stdout",
          "text": [
            "(20, 81)\n"
          ]
        },
        {
          "output_type": "execute_result",
          "data": {
            "text/plain": [
              "(1, 1, 20, 81)"
            ]
          },
          "metadata": {},
          "execution_count": 9
        },
        {
          "output_type": "display_data",
          "data": {
            "text/plain": [
              "<Figure size 432x288 with 1 Axes>"
            ],
            "image/png": "[encoded data removed]"
          },
          "metadata": {
            "needs_background": "light"
          }
        }
      ]
    },
    {
      "cell_type": "code",
      "source": [
        "# Initialize BCELoss function\n",
        "criterion = nn.MSELoss()\n",
        "\n",
        "# Create batch of latent vectors that we will use to visualize\n",
        "#  the progression of the generator\n",
        "fixed_noise = torch.randn(64, nz, 1, 1, device=device)\n",
        "\n",
        "# Establish convention for real and fake labels during training\n",
        "real_label = 1.\n",
        "fake_label = 0.\n",
        "\n",
        "# Setup Adam optimizers for both G and D\n",
        "optimizerG = optim.Adam(netG.parameters(), lr=lr, betas=(beta1, 0.999))"
      ],
      "metadata": {
        "id": "9krBBg52ocQ5"
      },
      "execution_count": null,
      "outputs": []
    },
    {
      "cell_type": "code",
      "source": [
        "def renum_pdb_str(pdb_str, Ls=None, renum=True, offset=1):\n",
        "  if Ls is not None:\n",
        "    L_init = 0\n",
        "    new_chain = {}\n",
        "    for L,c in zip(Ls, alphabet_list):\n",
        "      new_chain.update({i:c for i in range(L_init,L_init+L)})\n",
        "      L_init += L  \n",
        "\n",
        "  n,num,pdb_out = 0,offset,[]\n",
        "  resnum_ = None\n",
        "  chain_ = None\n",
        "  new_chain_ = new_chain[0]\n",
        "  for line in pdb_str.split(\"\\n\"):\n",
        "    if line[:4] == \"ATOM\":\n",
        "      chain = line[21:22]\n",
        "      resnum = int(line[22:22+5])\n",
        "      if resnum_ is None: resnum_ = resnum\n",
        "      if chain_ is None: chain_ = chain\n",
        "      if resnum != resnum_ or chain != chain_:\n",
        "        num += (resnum - resnum_)  \n",
        "        n += 1\n",
        "        resnum_,chain_ = resnum,chain\n",
        "      if Ls is not None:\n",
        "        if new_chain[n] != new_chain_:\n",
        "          num = offset\n",
        "          new_chain_ = new_chain[n]\n",
        "      N = num if renum else resnum\n",
        "      if Ls is None: pdb_out.append(\"%s%4i%s\" % (line[:22],N,line[26:]))\n",
        "      else: pdb_out.append(\"%s%s%4i%s\" % (line[:21],new_chain[n],N,line[26:]))        \n",
        "  return \"\\n\".join(pdb_out)\n",
        "\n",
        "def omega_foldit(sequence):\n",
        "  sequence = [re.sub(\"[^A-Z\\/\\:]\", \"\", i.upper()).replace(\"/\",\":\") for i in sequence]\n",
        "  lengths = [[len(s) for s in i.split(\":\")] for i in sequence]\n",
        "\n",
        "  num_cycle = 4\n",
        "  for i in range(len(sequence)):\n",
        "    with open(f\"tmp{i}.fasta\",\"w\") as out:\n",
        "      out.write(f\">tmp{i}\\n{sequence[i]}\\n\")\n",
        "    %shell python ./OmegaFold/main.py --num_cycle={num_cycle} tmp{i}.fasta .\n",
        "    pdb_str = renum_pdb_str(open(f\"tmp{i}.pdb\",'r').read(), Ls=lengths[i])\n",
        "    with open(f\"tmp{i}.pdb\",\"w\") as out:\n",
        "      out.write(pdb_str)\n",
        "\n",
        "\n",
        "aa = 'A R N D C E Q G H I L K M F P S T W Y V'\n",
        "aminoacid_list = aa.split(' ')\n",
        "a_dict={}\n",
        "for i, aaa in enumerate(aminoacid_list):\n",
        "  a_dict[aaa]=i\n",
        "\n",
        "\n",
        "\n",
        "def numpy_to_seq(array, seq_len, oligomer=1):\n",
        "  sequence = []\n",
        "  receptor = 'VYYTCCPDTPYL'\n",
        "  array = array.cpu().detach().numpy()\n",
        "  for i in array:\n",
        "    seq=''\n",
        "    array_n = i[0]\n",
        "    for i in array_n.T:\n",
        "      z = np.argmax(i)\n",
        "      seq+=aminoacid_list[z]\n",
        "    seq = seq[:seq_len]\n",
        "    seq = seq + ('/' + receptor)\n",
        "    sequence.append(seq)\n",
        "  return sequence\n",
        "\n",
        "\n",
        "#target_a = np.load('hal.npy')\n",
        "\n",
        "\n",
        "def take_loss(target_pdb_name, seq_len):\n",
        "  all_loss = sum([take_loss1(f'{target_pdb_name}{i}.pdb') for i in range(seq_len)])/seq_len\n",
        "  return torch.tensor(0).float(), torch.tensor(all_loss).float()\n",
        "\n",
        "  '''\n",
        "  def take_loss_assembly(target_pdb_name, oligomer, seq_len, hal_region):\n",
        "    losses = []\n",
        "    for i in range(seq_len):\n",
        "      chains_z = open(f'{target_pdb_name}{i}.pdb','r').readlines()\n",
        "      chains_z = [i.split(' ') for i in chains_z]\n",
        "      chains_z = [[i for i in x if i!=''] for x in chains_z if len(x)!=0]\n",
        "      chains_z = [np.array([(float(x)) for x in i[6:9]]) for i in chains_z if i[2]=='CA']\n",
        "      chains_z = np.array(chains_z[hal_region[0]:hal_region[1]])\n",
        "      atom_coord = []\n",
        "      for i in range(oligomer):\n",
        "        z1 = int(chains_z.shape[0]/oligomer)\n",
        "        atom_coord += [chains_z[x] for x in range(z1*i, z1*(i+1))]\n",
        "      atom_coord = np.array(atom_coord)\n",
        "      atom_coord = squareform(pdist(atom_coord, metric='euclidean'))\n",
        "      losses.append(atom_coord)\n",
        "    losses = np.array(losses)\n",
        "    return torch.tensor(losses).float()\n",
        "\n",
        "  target3d = np.array([target_a for x in range(seq_len)])\n",
        "  error1 = take_loss_assembly(target_pdb_name, oligomer, seq_len, hal_region)\n",
        "  target = torch.tensor(target3d).float()\n",
        "  return target, error1'''\n",
        "\n",
        "\n",
        "def take_loss1(filename):\n",
        "  with open(filename) as ifile:\n",
        "      system = \"\".join([x for x in ifile])\n",
        "  system1 = system.split(\"\\n\")\n",
        "  system2 = []\n",
        "  for x in system1:\n",
        "    if x[:4] == 'ATOM':\n",
        "      system2.append(x)\n",
        "  CAS = [x for x in system2 if \"CA\" in x]\n",
        "  CAS = [x.split(' ') for x in CAS]\n",
        "  CAS = [[x for x in y if x!=''] for y in CAS ]\n",
        "  CAS_A = [x for x in CAS if x[4]=='A']\n",
        "  CAS_B = [x for x in CAS if x[4]=='B']\n",
        "  CAS_A = np.array([np.array([float(x[6]), float(x[7]), float(x[8])]) for x in CAS_A])\n",
        "  CAS_B = np.array([np.array([float(x[6]), float(x[7]), float(x[8])]) for x in CAS_B])\n",
        "  loss = sum([sqrt(np.sum((CAS_A - i)**2))/CAS_A.shape[0] for i in CAS_B])/CAS_B.shape[0]\n",
        "  return loss"
      ],
      "metadata": {
        "id": "SlN09jyhqPhL"
      },
      "execution_count": null,
      "outputs": []
    },
    {
      "cell_type": "code",
      "source": [
        "numpy_to_seq(fake, 25)"
      ],
      "metadata": {
        "colab": {
          "base_uri": "https://localhost:8080/"
        },
        "id": "hS7x5KN62PGX",
        "outputId": "35b20ec9-32b0-4488-a4ed-2dbeead100b8"
      },
      "execution_count": null,
      "outputs": [
        {
          "output_type": "execute_result",
          "data": {
            "text/plain": [
              "['VEYKYKSHVPDIVDKPVPDKYQILV/VYYTCCPDTPYL']"
            ]
          },
          "metadata": {},
          "execution_count": 49
        }
      ]
    },
    {
      "cell_type": "code",
      "source": [
        "import time\n",
        "import re\n",
        "from string import ascii_uppercase, ascii_lowercase"
      ],
      "metadata": {
        "id": "dF289Ds3uBnn"
      },
      "execution_count": null,
      "outputs": []
    },
    {
      "cell_type": "code",
      "source": [
        "# Training Loop\n",
        "num_epochs = 10\n",
        "# Lists to keep track of progress\n",
        "img_list = []\n",
        "G_losses = []\n",
        "#tables=[]\n",
        "iters = 0\n",
        "\n",
        "print(\"Starting Training Loop...\")\n",
        "# For each epoch\n",
        "netG.apply(weights_init)\n",
        "for epoch in range(num_epochs):\n",
        "      start = time.time()\n",
        "    # For each batch in the dataloader\n",
        "      noise = torch.randn(15, nz, 1, 1, device=device)\n",
        "\n",
        "      fake = netG(noise)\n",
        "      fake = numpy_to_seq(fake, 25)\n",
        "      img_list.append(fake)\n",
        "      omega_foldit(fake)\n",
        "      print('time:', time.time()-start)\n",
        "      optimizerG.zero_grad()\n",
        "      \n",
        "      # Calculate G's loss based on this output\n",
        "      target, pred_loss = take_loss('tmp', 15)\n",
        "      errG = criterion(target, pred_loss).requires_grad_(True)\n",
        "      print(errG)\n",
        "      # Calculate gradients for G\n",
        "      errG.backward()\n",
        "      # Update G\n",
        "      optimizerG.step()\n",
        "        \n",
        "      # Output training stats\n",
        "      print(f'{epoch+1}/{num_epochs}, {errG.item()}')\n",
        "      #tables.append(fake.detach().numpy()[0][0])\n",
        "      \n",
        "      # Save Losses for plotting later\n",
        "      G_losses.append(errG.item())\n",
        "      \n",
        "#tables.append(fake.detach().numpy()[0][0])"
      ],
      "metadata": {
        "id": "S7dwFBXrod0i"
      },
      "execution_count": null,
      "outputs": []
    },
    {
      "cell_type": "code",
      "source": [
        "min_seq = img_list[6]"
      ],
      "metadata": {
        "id": "EYZfcZTudXzU"
      },
      "execution_count": null,
      "outputs": []
    },
    {
      "cell_type": "code",
      "source": [
        "min_seq"
      ],
      "metadata": {
        "colab": {
          "base_uri": "https://localhost:8080/"
        },
        "id": "gpQYssp1ddQ_",
        "outputId": "a54c37b4-b3eb-42d6-e68c-019d4c66a275"
      },
      "execution_count": null,
      "outputs": [
        {
          "output_type": "execute_result",
          "data": {
            "text/plain": [
              "['TIHPHICSLLDPLLNLGTKIMSGPS/VYYTCCPDTPYL',\n",
              " 'GWMPKFPTQLQMMLGMHTFHHKCPC/VYYTCCPDTPYL',\n",
              " 'IMCILIHPHMSMKGEKGMLSLGHIM/VYYTCCPDTPYL',\n",
              " 'HWPPLEMIHMPMLLEMHTIFFECIK/VYYTCCPDTPYL',\n",
              " 'PKCKLGTIMMSLKIKHLELIGGEPK/VYYTCCPDTPYL',\n",
              " 'KEISLEEMPSKQMKIIQSNPHKEKM/VYYTCCPDTPYL',\n",
              " 'PWPFHKCWTLPFQIFKLFGFMMQFL/VYYTCCPDTPYL',\n",
              " 'HWHFFEHFIMPLIIDMPHHKHHMLM/VYYTCCPDTPYL',\n",
              " 'KWCKLIPGMMDKLMDESKLPLKQIK/VYYTCCPDTPYL',\n",
              " 'FCLKHDQKQWNMGCDHCIGMPKHKI/VYYTCCPDTPYL',\n",
              " 'CKLMPKLMQQKGMCKILTCTPEGCK/VYYTCCPDTPYL',\n",
              " 'KWGFTFHFPCLMKICHMWGSLQEPH/VYYTCCPDTPYL',\n",
              " 'LGQFPICLCWKGMCSHMDHMMIHKK/VYYTCCPDTPYL',\n",
              " 'QYKFHIMIILEKLDILLPIMQKLKK/VYYTCCPDTPYL',\n",
              " 'FFFFQETKPIPEQHIIHKFSMKHPI/VYYTCCPDTPYL']"
            ]
          },
          "metadata": {},
          "execution_count": 61
        }
      ]
    },
    {
      "cell_type": "code",
      "source": [
        "omega_foldit(min_seq)"
      ],
      "metadata": {
        "colab": {
          "base_uri": "https://localhost:8080/"
        },
        "id": "DC15AYlmdgmE",
        "outputId": "19759c49-6c89-4b1e-e551-d1ce6e9402f5"
      },
      "execution_count": null,
      "outputs": [
        {
          "output_type": "stream",
          "name": "stdout",
          "text": [
            "INFO:root:Loading weights from /root/.cache/omegafold_ckpt/model.pt\n",
            "INFO:root:Constructing OmegaFold\n",
            "INFO:root:Reading tmp0.fasta\n",
            "INFO:root:Predicting 1th chain in tmp0.fasta\n",
            "INFO:root:37 residues in this chain.\n",
            "INFO:root:Finished prediction in 9.59 seconds.\n",
            "INFO:root:Saving prediction to ./tmp0.pdb\n",
            "INFO:root:Saved\n",
            "INFO:root:Done!\n",
            "INFO:root:Loading weights from /root/.cache/omegafold_ckpt/model.pt\n",
            "INFO:root:Constructing OmegaFold\n",
            "INFO:root:Reading tmp1.fasta\n",
            "INFO:root:Predicting 1th chain in tmp1.fasta\n",
            "INFO:root:37 residues in this chain.\n",
            "INFO:root:Finished prediction in 9.80 seconds.\n",
            "INFO:root:Saving prediction to ./tmp1.pdb\n",
            "INFO:root:Saved\n",
            "INFO:root:Done!\n",
            "INFO:root:Loading weights from /root/.cache/omegafold_ckpt/model.pt\n",
            "INFO:root:Constructing OmegaFold\n",
            "INFO:root:Reading tmp2.fasta\n",
            "INFO:root:Predicting 1th chain in tmp2.fasta\n",
            "INFO:root:37 residues in this chain.\n",
            "INFO:root:Finished prediction in 9.53 seconds.\n",
            "INFO:root:Saving prediction to ./tmp2.pdb\n",
            "INFO:root:Saved\n",
            "INFO:root:Done!\n",
            "INFO:root:Loading weights from /root/.cache/omegafold_ckpt/model.pt\n",
            "INFO:root:Constructing OmegaFold\n",
            "INFO:root:Reading tmp3.fasta\n",
            "INFO:root:Predicting 1th chain in tmp3.fasta\n",
            "INFO:root:37 residues in this chain.\n",
            "INFO:root:Finished prediction in 9.54 seconds.\n",
            "INFO:root:Saving prediction to ./tmp3.pdb\n",
            "INFO:root:Saved\n",
            "INFO:root:Done!\n",
            "INFO:root:Loading weights from /root/.cache/omegafold_ckpt/model.pt\n",
            "INFO:root:Constructing OmegaFold\n",
            "INFO:root:Reading tmp4.fasta\n",
            "INFO:root:Predicting 1th chain in tmp4.fasta\n",
            "INFO:root:37 residues in this chain.\n",
            "INFO:root:Finished prediction in 9.62 seconds.\n",
            "INFO:root:Saving prediction to ./tmp4.pdb\n",
            "INFO:root:Saved\n",
            "INFO:root:Done!\n",
            "INFO:root:Loading weights from /root/.cache/omegafold_ckpt/model.pt\n",
            "INFO:root:Constructing OmegaFold\n",
            "INFO:root:Reading tmp5.fasta\n",
            "INFO:root:Predicting 1th chain in tmp5.fasta\n",
            "INFO:root:37 residues in this chain.\n",
            "INFO:root:Finished prediction in 9.76 seconds.\n",
            "INFO:root:Saving prediction to ./tmp5.pdb\n",
            "INFO:root:Saved\n",
            "INFO:root:Done!\n",
            "INFO:root:Loading weights from /root/.cache/omegafold_ckpt/model.pt\n",
            "INFO:root:Constructing OmegaFold\n",
            "INFO:root:Reading tmp6.fasta\n",
            "INFO:root:Predicting 1th chain in tmp6.fasta\n",
            "INFO:root:37 residues in this chain.\n",
            "INFO:root:Finished prediction in 9.59 seconds.\n",
            "INFO:root:Saving prediction to ./tmp6.pdb\n",
            "INFO:root:Saved\n",
            "INFO:root:Done!\n",
            "INFO:root:Loading weights from /root/.cache/omegafold_ckpt/model.pt\n",
            "INFO:root:Constructing OmegaFold\n",
            "INFO:root:Reading tmp7.fasta\n",
            "INFO:root:Predicting 1th chain in tmp7.fasta\n",
            "INFO:root:37 residues in this chain.\n",
            "INFO:root:Finished prediction in 9.75 seconds.\n",
            "INFO:root:Saving prediction to ./tmp7.pdb\n",
            "INFO:root:Saved\n",
            "INFO:root:Done!\n",
            "INFO:root:Loading weights from /root/.cache/omegafold_ckpt/model.pt\n",
            "INFO:root:Constructing OmegaFold\n",
            "INFO:root:Reading tmp8.fasta\n",
            "INFO:root:Predicting 1th chain in tmp8.fasta\n",
            "INFO:root:37 residues in this chain.\n",
            "INFO:root:Finished prediction in 9.70 seconds.\n",
            "INFO:root:Saving prediction to ./tmp8.pdb\n",
            "INFO:root:Saved\n",
            "INFO:root:Done!\n",
            "INFO:root:Loading weights from /root/.cache/omegafold_ckpt/model.pt\n",
            "INFO:root:Constructing OmegaFold\n",
            "INFO:root:Reading tmp9.fasta\n",
            "INFO:root:Predicting 1th chain in tmp9.fasta\n",
            "INFO:root:37 residues in this chain.\n",
            "INFO:root:Finished prediction in 9.56 seconds.\n",
            "INFO:root:Saving prediction to ./tmp9.pdb\n",
            "INFO:root:Saved\n",
            "INFO:root:Done!\n",
            "INFO:root:Loading weights from /root/.cache/omegafold_ckpt/model.pt\n",
            "INFO:root:Constructing OmegaFold\n",
            "INFO:root:Reading tmp10.fasta\n",
            "INFO:root:Predicting 1th chain in tmp10.fasta\n",
            "INFO:root:37 residues in this chain.\n",
            "INFO:root:Finished prediction in 9.64 seconds.\n",
            "INFO:root:Saving prediction to ./tmp10.pdb\n",
            "INFO:root:Saved\n",
            "INFO:root:Done!\n",
            "INFO:root:Loading weights from /root/.cache/omegafold_ckpt/model.pt\n",
            "INFO:root:Constructing OmegaFold\n",
            "INFO:root:Reading tmp11.fasta\n",
            "INFO:root:Predicting 1th chain in tmp11.fasta\n",
            "INFO:root:37 residues in this chain.\n",
            "INFO:root:Finished prediction in 9.59 seconds.\n",
            "INFO:root:Saving prediction to ./tmp11.pdb\n",
            "INFO:root:Saved\n",
            "INFO:root:Done!\n",
            "INFO:root:Loading weights from /root/.cache/omegafold_ckpt/model.pt\n",
            "INFO:root:Constructing OmegaFold\n",
            "INFO:root:Reading tmp12.fasta\n",
            "INFO:root:Predicting 1th chain in tmp12.fasta\n",
            "INFO:root:37 residues in this chain.\n",
            "INFO:root:Finished prediction in 9.64 seconds.\n",
            "INFO:root:Saving prediction to ./tmp12.pdb\n",
            "INFO:root:Saved\n",
            "INFO:root:Done!\n",
            "INFO:root:Loading weights from /root/.cache/omegafold_ckpt/model.pt\n",
            "INFO:root:Constructing OmegaFold\n",
            "INFO:root:Reading tmp13.fasta\n",
            "INFO:root:Predicting 1th chain in tmp13.fasta\n",
            "INFO:root:37 residues in this chain.\n",
            "INFO:root:Finished prediction in 9.63 seconds.\n",
            "INFO:root:Saving prediction to ./tmp13.pdb\n",
            "INFO:root:Saved\n",
            "INFO:root:Done!\n",
            "INFO:root:Loading weights from /root/.cache/omegafold_ckpt/model.pt\n",
            "INFO:root:Constructing OmegaFold\n",
            "INFO:root:Reading tmp14.fasta\n",
            "INFO:root:Predicting 1th chain in tmp14.fasta\n",
            "INFO:root:37 residues in this chain.\n",
            "INFO:root:Finished prediction in 9.69 seconds.\n",
            "INFO:root:Saving prediction to ./tmp14.pdb\n",
            "INFO:root:Saved\n",
            "INFO:root:Done!\n"
          ]
        }
      ]
    },
    {
      "cell_type": "code",
      "source": [
        "target, pred_loss = take_loss('tmp', 2)\n",
        "criterion(target, pred_loss).requires_grad_(True)"
      ],
      "metadata": {
        "colab": {
          "base_uri": "https://localhost:8080/"
        },
        "id": "_XWyzh-4_VY7",
        "outputId": "8b1ecee7-7585-4c47-e173-13d124a87dc9"
      },
      "execution_count": null,
      "outputs": [
        {
          "output_type": "execute_result",
          "data": {
            "text/plain": [
              "tensor(50.8756, requires_grad=True)"
            ]
          },
          "metadata": {},
          "execution_count": 73
        }
      ]
    },
    {
      "cell_type": "code",
      "source": [
        "plt.plot(G_losses)"
      ],
      "metadata": {
        "colab": {
          "base_uri": "https://localhost:8080/",
          "height": 282
        },
        "id": "G26v3GcYj_31",
        "outputId": "6a0a9906-270c-4b80-eed2-9e536d9c4d98"
      },
      "execution_count": null,
      "outputs": [
        {
          "output_type": "execute_result",
          "data": {
            "text/plain": [
              "[<matplotlib.lines.Line2D at 0x7f9ac0dd1310>]"
            ]
          },
          "metadata": {},
          "execution_count": 38
        },
        {
          "output_type": "display_data",
          "data": {
            "text/plain": [
              "<Figure size 432x288 with 1 Axes>"
            ],
            "image/png": "[encoded data removed]"
          },
          "metadata": {
            "needs_background": "light"
          }
        }
      ]
    },
    {
      "cell_type": "code",
      "source": [
        "print(G_losses)"
      ],
      "metadata": {
        "colab": {
          "base_uri": "https://localhost:8080/"
        },
        "id": "8Fo_W0Wob0fu",
        "outputId": "6151633a-3243-45f0-893f-9478bdf645ed"
      },
      "execution_count": null,
      "outputs": [
        {
          "output_type": "stream",
          "name": "stdout",
          "text": [
            "[40.06370162963867, 21.5516414642334, 24.966880798339844, 33.043128967285156, 39.50423049926758, 35.08546829223633, 19.355213165283203, 21.441282272338867, 27.001399993896484, 28.254167556762695]\n"
          ]
        }
      ]
    },
    {
      "cell_type": "code",
      "source": [
        "file = open('results.txt', 'w')\n",
        "\n",
        "for i, x in zip(img_list, G_losses):\n",
        "  file.write(str(x) + '\\n')\n",
        "  for iz in i:\n",
        "    file.write(str(iz) + '\\n')\n",
        "file.close()"
      ],
      "metadata": {
        "id": "t_w3sZT-b30D"
      },
      "execution_count": null,
      "outputs": []
    },
    {
      "cell_type": "code",
      "source": [
        "img_list[3]"
      ],
      "metadata": {
        "colab": {
          "base_uri": "https://localhost:8080/"
        },
        "id": "pz8jPlx9kWk0",
        "outputId": "08494b95-b28e-4679-e496-0c7cc3698fb8"
      },
      "execution_count": null,
      "outputs": [
        {
          "output_type": "stream",
          "name": "stdout",
          "text": [
            "['ILILMHEFLSMSICLDMQKLIGPGLTKCPCKWNPM', 'DLMPGHPKMKLSSEEWQKGMQLCSHQGEMPMWIQK', 'GHLMKLMILSHLGEFKEFGLIHQGDFHHGFIRHLK', 'CHKQHHSICKPDFMGDIGFQMFHTDLMLKFKRQPQ', 'HQEMQDDWGHCMKDGKELFHGQMDKPHMFGQKQQG', 'DHKMKLIWLKLKQILPEHGMPECWEGFMLMHGQLI', 'DQLGPLMWISHILGFIQCQMPILKKKFIKKPWKTF', 'NHFLPDNWGIKMIGQEMILHPKMGCSFICMMFHLL', 'NFIPGLGFMSHNKKFYLSILQMLWIFGKQKIRHTE', 'FQFMFECKDSPMFIKGHTLMQQCLDKCPPGIIELM']\n"
          ]
        }
      ]
    },
    {
      "cell_type": "code",
      "source": [
        "from termcolor import colored\n",
        "\n",
        "print colored('hello', 'red'), colored('world', 'green')"
      ],
      "metadata": {
        "id": "sYS8Wi1VH3qs"
      },
      "execution_count": null,
      "outputs": []
    },
    {
      "cell_type": "code",
      "source": [
        "noise = torch.randn(1, nz, 1, 1, device=device)\n",
        "\n",
        "fake = netG(noise)\n",
        "\n",
        "fake = fake.cpu().detach().numpy()[0][0]\n",
        "\n",
        "seq=''\n",
        "for i in fake.T:\n",
        "  z = np.argmax(i)\n",
        "  seq+=aminoacid_list[z]\n",
        "\n",
        "print(seq)"
      ],
      "metadata": {
        "id": "642_Gho-vtFm",
        "outputId": "a39f5919-0993-4aac-a9a7-1fc8badc6571",
        "colab": {
          "base_uri": "https://localhost:8080/"
        }
      },
      "execution_count": null,
      "outputs": [
        {
          "output_type": "stream",
          "name": "stdout",
          "text": [
            "SLLFMFIYLLPLLKGSHCLVPCFMQFPIFKKGVTQLLKKSLLKHWLKSMHKNMKHKMAPPMSIFLLMMPSHLGIPWTIIKQ\n"
          ]
        }
      ]
    },
    {
      "cell_type": "code",
      "source": [
        "array = img_list[0].cpu().detach().numpy()[0][0]\n",
        "p = [np.argmax(x) for x in array.T]\n",
        "p"
      ],
      "metadata": {
        "id": "PEDnQaQr-bdV"
      },
      "execution_count": null,
      "outputs": []
    },
    {
      "cell_type": "code",
      "source": [
        "img_list"
      ],
      "metadata": {
        "id": "4l6luzeV_Buc",
        "outputId": "42a2a11f-c2c0-4f5a-d5d6-7a87e12abf23",
        "colab": {
          "base_uri": "https://localhost:8080/"
        }
      },
      "execution_count": null,
      "outputs": [
        {
          "output_type": "execute_result",
          "data": {
            "text/plain": [
              "[['EGMQHMFLPHNMQGDMWMTFLPKCK/VYYTCCPDTPYL',\n",
              "  'IKNICFWQCMFQGHPMSQPCKESGI/VYYTCCPDTPYL'],\n",
              " ['QHKFGDFDISNHFHHIHQPFLLEML/VYYTCCPDTPYL',\n",
              "  'HQSQWGHQHLFLCQDLPINIGPWLH/VYYTCCPDTPYL']]"
            ]
          },
          "metadata": {},
          "execution_count": 75
        }
      ]
    },
    {
      "cell_type": "code",
      "source": [
        "def get_the_best_model():\n",
        "  n = int(np.argmin(np.array(G_losses)))\n",
        "  seq = img_list[n]\n",
        "  return seq"
      ],
      "metadata": {
        "id": "y0Z5cvM2E5S4"
      },
      "execution_count": null,
      "outputs": []
    },
    {
      "cell_type": "code",
      "source": [
        "array = img_list[-3]"
      ],
      "metadata": {
        "id": "HWFtpBxMDykv"
      },
      "execution_count": null,
      "outputs": []
    },
    {
      "cell_type": "code",
      "source": [
        "omega_foldit('FGRIIANRIIRIGRII')"
      ],
      "metadata": {
        "id": "0sy2q74uD2_9",
        "outputId": "05fc060a-a58b-4028-c3ff-91f72fcba6f1",
        "colab": {
          "base_uri": "https://localhost:8080/"
        }
      },
      "execution_count": null,
      "outputs": [
        {
          "output_type": "stream",
          "name": "stdout",
          "text": [
            "INFO:root:Loading weights from /root/.cache/omegafold_ckpt/model.pt\n",
            "INFO:root:Constructing OmegaFold\n",
            "INFO:root:Reading tmp.fasta\n",
            "INFO:root:Predicting 1th chain in tmp.fasta\n",
            "INFO:root:16 residues in this chain.\n",
            "INFO:root:Finished prediction in 38.05 seconds.\n",
            "INFO:root:Saving prediction to ./tmp.pdb\n",
            "INFO:root:Saved\n",
            "INFO:root:Done!\n"
          ]
        }
      ]
    },
    {
      "cell_type": "code",
      "source": [
        "!pip install py3Dmol"
      ],
      "metadata": {
        "colab": {
          "base_uri": "https://localhost:8080/"
        },
        "id": "3iGmiylcM_g2",
        "outputId": "1a69e9bd-281f-4a61-c014-be859c555ecd"
      },
      "execution_count": null,
      "outputs": [
        {
          "output_type": "stream",
          "name": "stdout",
          "text": [
            "Looking in indexes: https://pypi.org/simple, https://us-python.pkg.dev/colab-wheels/public/simple/\n",
            "Collecting py3Dmol\n",
            "  Downloading py3Dmol-1.8.1-py2.py3-none-any.whl (6.5 kB)\n",
            "Installing collected packages: py3Dmol\n",
            "Successfully installed py3Dmol-1.8.1\n"
          ]
        }
      ]
    },
    {
      "cell_type": "code",
      "source": [
        "import py3Dmol"
      ],
      "metadata": {
        "id": "b9iU5AgXEMTW"
      },
      "execution_count": null,
      "outputs": []
    },
    {
      "cell_type": "code",
      "source": [
        "def atom_shaper(a):\n",
        "  coord = []\n",
        "  for i in range(1000):\n",
        "    x = round(random.uniform(-a, a), 3)\n",
        "    y = round(random.uniform(-a, a), 3)\n",
        "    z = round(random.uniform(-a, a), 3)\n",
        "    sq = sqrt(x**2 + y**2 + z**2)\n",
        "    if sq <= a:\n",
        "      coord.append([x,y,z])\n",
        "  return coord"
      ],
      "metadata": {
        "id": "sBsfGjaWKvTC"
      },
      "execution_count": null,
      "outputs": []
    },
    {
      "cell_type": "code",
      "source": [
        "pdb_string = atom_shaper(4)\n",
        "f = open('sphere.pdb', 'w')\n",
        "for i, value in enumerate(pdb_string):\n",
        "  s = f'ATOM      {i}  H   H A   1      {value[0]}  {value[1]}  {value[2]}  10.00 38.12           H  \\n'\n",
        "  f.write(s)"
      ],
      "metadata": {
        "cellView": "code",
        "id": "RLKD27fMKdSJ"
      },
      "execution_count": null,
      "outputs": []
    },
    {
      "cell_type": "code",
      "source": [
        "system3 = \"\".join([x+\"\\n\" for x in system2[:1156]])"
      ],
      "metadata": {
        "id": "YRKnH2lIGpPS"
      },
      "execution_count": null,
      "outputs": []
    },
    {
      "cell_type": "code",
      "source": [
        "with open('target.pdb', 'w') as file:\n",
        "  file.write(system3)"
      ],
      "metadata": {
        "id": "YqX7Jxq7nBWN"
      },
      "execution_count": null,
      "outputs": []
    },
    {
      "cell_type": "code",
      "source": [
        "!pip install py3dmol"
      ],
      "metadata": {
        "colab": {
          "base_uri": "https://localhost:8080/"
        },
        "id": "dL6l-8deMsxo",
        "outputId": "f7ca454d-0645-4525-f3ef-0580acff2b08"
      },
      "execution_count": null,
      "outputs": [
        {
          "output_type": "stream",
          "name": "stdout",
          "text": [
            "Looking in indexes: https://pypi.org/simple, https://us-python.pkg.dev/colab-wheels/public/simple/\n",
            "Requirement already satisfied: py3dmol in /usr/local/lib/python3.7/dist-packages (1.8.1)\n"
          ]
        }
      ]
    },
    {
      "cell_type": "code",
      "source": [],
      "metadata": {
        "id": "ovphCk9HNOvY"
      },
      "execution_count": null,
      "outputs": []
    },
    {
      "cell_type": "code",
      "source": [
        "import py3Dmol\n",
        "with open(\"\") as ifile:\n",
        "    system = \"\".join([x for x in ifile])\n",
        "view = py3Dmol.view(width=400, height=400)\n",
        "view.addModelsAsFrames(system)\n",
        "view.setStyle({},{\"cartoon\": {'color': 'spectrum'}})\n",
        "\n",
        "#view.addSurface(py3Dmol.SAS, {'model': 0, 'chain': 'A', 'opacity': 0.9})\n",
        "CA99 = [8.429,  67.609, -39.284]\n",
        "\n",
        "#view.addBox({'center':{'x':[CA99[0]],'y':[CA99[1]],'z':[CA99[2]]},'dimensions': {'w':15,'h':15,'d':15},'color':'blue','opacity': 0.7})\n",
        "#view.addSurface()\n",
        "view.zoomTo()\n",
        "view.show()"
      ],
      "metadata": {
        "id": "PuvUTcheEQKm"
      },
      "execution_count": null,
      "outputs": []
    },
    {
      "cell_type": "code",
      "source": [
        "import py3Dmol\n",
        "\n",
        "\n",
        "pymol_color_list = [\"#33ff33\",\"#00ffff\",\"#ff33cc\",\"#ffff00\",\"#ff9999\",\"#e5e5e5\",\"#7f7fff\",\"#ff7f00\",\n",
        "                    \"#7fff7f\",\"#199999\",\"#ff007f\",\"#ffdd5e\",\"#8c3f99\",\"#b2b2b2\",\"#007fff\",\"#c4b200\",\n",
        "                    \"#8cb266\",\"#00bfbf\",\"#b27f7f\",\"#fcd1a5\",\"#ff7f7f\",\"#ffbfdd\",\"#7fffff\",\"#ffff7f\",\n",
        "                    \"#00ff7f\",\"#337fcc\",\"#d8337f\",\"#bfff3f\",\"#ff7fff\",\"#d8d8ff\",\"#3fffbf\",\"#b78c4c\",\n",
        "                    \"#339933\",\"#66b2b2\",\"#ba8c84\",\"#84bf00\",\"#b24c66\",\"#7f7f7f\",\"#3f3fa5\",\"#a5512b\"]\n",
        "\n",
        "def show_pdb(pdb_str, show_sidechains=False, show_mainchains=False,\n",
        "             color=\"pLDDT\", chains=None, vmin=50, vmax=90,\n",
        "             size=(800,480), hbondCutoff=4.0,\n",
        "             Ls=None,\n",
        "             animate=False):\n",
        "  \n",
        "  if chains is None:\n",
        "    chains = 1 if Ls is None else len(Ls)\n",
        "  view = py3Dmol.view(js='https://3dmol.org/build/3Dmol.js', width=size[0], height=size[1])\n",
        "  if animate:\n",
        "    view.addModelsAsFrames(pdb_str,'pdb',{'hbondCutoff':hbondCutoff})\n",
        "  else:\n",
        "    view.addModel(pdb_str,'pdb',{'hbondCutoff':hbondCutoff})\n",
        "  if color == \"pLDDT\":\n",
        "    view.setStyle({'cartoon': {'colorscheme': {'prop':'b','gradient': 'roygb','min':vmin,'max':vmax}}})\n",
        "  elif color == \"rainbow\":\n",
        "    view.setStyle({'cartoon': {'color':'spectrum'}})\n",
        "  elif color == \"chain\":\n",
        "    for n,chain,color in zip(range(chains),alphabet_list,pymol_color_list):\n",
        "       view.setStyle({'chain':chain},{'cartoon': {'color':color}})\n",
        "  if show_sidechains:\n",
        "    BB = ['C','O','N']\n",
        "    HP = [\"ALA\",\"GLY\",\"VAL\",\"ILE\",\"LEU\",\"PHE\",\"MET\",\"PRO\",\"TRP\",\"CYS\",\"TYR\"]\n",
        "    view.addStyle({'and':[{'resn':[\"GLY\",\"PRO\"],'invert':True},{'atom':BB,'invert':True}]},\n",
        "                  {'stick':{'colorscheme':f\"WhiteCarbon\",'radius':0.3}})\n",
        "    view.addStyle({'and':[{'resn':\"GLY\"},{'atom':'CA'}]},\n",
        "                  {'sphere':{'colorscheme':f\"WhiteCarbon\",'radius':0.3}})\n",
        "    view.addStyle({'and':[{'resn':\"PRO\"},{'atom':['C','O'],'invert':True}]},\n",
        "                  {'stick':{'colorscheme':f\"WhiteCarbon\",'radius':0.3}})  \n",
        "  if show_mainchains:\n",
        "    BB = ['C','O','N','CA']\n",
        "    view.addStyle({'atom':BB},{'stick':{'colorscheme':f\"WhiteCarbon\",'radius':0.3}})\n",
        "  view.zoomTo()\n",
        "  if animate: view.animate()\n",
        "  return view\n",
        "\n",
        "color = \"confidence\" #@param [\"confidence\", \"rainbow\", \"chain\"]\n",
        "if color == \"confidence\": color = \"pLDDT\"\n",
        "show_sidechains = False #@param {type:\"boolean\"}\n",
        "show_mainchains = False #@param {type:\"boolean\"}\n",
        "show_pdb(pdb_str, color=color, show_sidechains=show_sidechains, show_mainchains=show_mainchains,\n",
        "         Ls=lengths).show()"
      ],
      "metadata": {
        "id": "2kchyReGP6yX",
        "outputId": "2c2c386e-81b1-473a-ccbc-5951ca0a6f34",
        "colab": {
          "base_uri": "https://localhost:8080/",
          "height": 497
        }
      },
      "execution_count": null,
      "outputs": [
        {
          "output_type": "display_data",
          "data": {
            "application/3dmoljs_load.v0": "<div id=\"3dmolviewer_16665919167499092\"  style=\"position: relative; width: 800px; height: 480px\">\n        <p id=\"3dmolwarning_16665919167499092\" style=\"background-color:#ffcccc;color:black\">You appear to be running in JupyterLab (or JavaScript failed to load for some other reason).  You need to install the 3dmol extension: <br>\n        <tt>jupyter labextension install jupyterlab_3dmol</tt></p>\n        </div>\n<script>\n\nvar loadScriptAsync = function(uri){\n  return new Promise((resolve, reject) => {\n    var tag = document.createElement('script');\n    tag.src = uri;\n    tag.async = true;\n    tag.onload = () => {\n      resolve();\n    };\n  var firstScriptTag = document.getElementsByTagName('script')[0];\n  firstScriptTag.parentNode.insertBefore(tag, firstScriptTag);\n});\n};\n\nif(typeof $3Dmolpromise === 'undefined') {\n$3Dmolpromise = null;\n  $3Dmolpromise = loadScriptAsync('https://3dmol.org/build/3Dmol.js');\n}\n\nvar viewer_16665919167499092 = null;\nvar warn = document.getElementById(\"3dmolwarning_16665919167499092\");\nif(warn) {\n    warn.parentNode.removeChild(warn);\n}\n$3Dmolpromise.then(function() {\nviewer_16665919167499092 = $3Dmol.createViewer($(\"#3dmolviewer_16665919167499092\"),{backgroundColor:\"white\"});\nviewer_16665919167499092.zoomTo();\n\tviewer_16665919167499092.addModel(\"ATOM      1  N   ILE A   1     -12.922   5.589  -6.916  1.00 94.34           N  \\nATOM      2  CA  ILE A   1     -12.039   4.428  -6.874  1.00 94.34           C  \\nATOM      3  C   ILE A   1     -12.175   3.726  -5.525  1.00 94.34           C  \\nATOM      4  O   ILE A   1     -12.494   4.361  -4.516  1.00 94.34           O  \\nATOM      5  CB  ILE A   1     -10.568   4.828  -7.124  1.00 94.34           C  \\nATOM      6  CG1 ILE A   1      -9.703   3.579  -7.330  1.00 94.34           C  \\nATOM      7  CG2 ILE A   1     -10.035   5.678  -5.967  1.00 94.34           C  \\nATOM      8  CD1 ILE A   1      -8.321   3.870  -7.898  1.00 94.34           C  \\nATOM      9  N   VAL A   2     -12.182   2.516  -5.517  1.00 95.84           N  \\nATOM     10  CA  VAL A   2     -12.262   1.663  -4.336  1.00 95.84           C  \\nATOM     11  C   VAL A   2     -10.876   1.120  -3.995  1.00 95.84           C  \\nATOM     12  O   VAL A   2     -10.186   0.576  -4.860  1.00 95.84           O  \\nATOM     13  CB  VAL A   2     -13.255   0.497  -4.545  1.00 95.84           C  \\nATOM     14  CG1 VAL A   2     -13.333  -0.376  -3.294  1.00 95.84           C  \\nATOM     15  CG2 VAL A   2     -14.637   1.033  -4.914  1.00 95.84           C  \\nATOM     16  N   CYS A   3     -10.427   1.357  -2.744  1.00 94.71           N  \\nATOM     17  CA  CYS A   3      -9.117   0.883  -2.311  1.00 94.71           C  \\nATOM     18  C   CYS A   3      -9.235   0.017  -1.062  1.00 94.71           C  \\nATOM     19  O   CYS A   3     -10.149   0.203  -0.257  1.00 94.71           O  \\nATOM     20  CB  CYS A   3      -8.184   2.063  -2.038  1.00 94.71           C  \\nATOM     21  SG  CYS A   3      -7.893   3.110  -3.481  1.00 94.71           S  \\nATOM     22  N   HIS A   4      -8.343  -0.937  -0.944  1.00 92.69           N  \\nATOM     23  CA  HIS A   4      -8.211  -1.615   0.341  1.00 92.69           C  \\nATOM     24  C   HIS A   4      -7.571  -0.702   1.381  1.00 92.69           C  \\nATOM     25  O   HIS A   4      -6.711   0.117   1.050  1.00 92.69           O  \\nATOM     26  CB  HIS A   4      -7.389  -2.896   0.189  1.00 92.69           C  \\nATOM     27  CG  HIS A   4      -8.110  -3.990  -0.532  1.00 92.69           C  \\nATOM     28  ND1 HIS A   4      -7.521  -4.740  -1.527  1.00 92.69           N  \\nATOM     29  CD2 HIS A   4      -9.373  -4.460  -0.400  1.00 92.69           C  \\nATOM     30  CE1 HIS A   4      -8.393  -5.627  -1.976  1.00 92.69           C  \\nATOM     31  NE2 HIS A   4      -9.524  -5.478  -1.309  1.00 92.69           N  \\nATOM     32  N   THR A   5      -8.074  -0.744   2.580  1.00 93.11           N  \\nATOM     33  CA  THR A   5      -7.539   0.130   3.619  1.00 93.11           C  \\nATOM     34  C   THR A   5      -7.277  -0.652   4.902  1.00 93.11           C  \\nATOM     35  O   THR A   5      -8.003  -1.597   5.219  1.00 93.11           O  \\nATOM     36  CB  THR A   5      -8.497   1.299   3.913  1.00 93.11           C  \\nATOM     37  OG1 THR A   5      -7.959   2.095   4.976  1.00 93.11           O  \\nATOM     38  CG2 THR A   5      -9.876   0.791   4.322  1.00 93.11           C  \\nATOM     39  N   THR A   6      -6.234  -0.347   5.547  1.00 89.82           N  \\nATOM     40  CA  THR A   6      -5.920  -0.919   6.852  1.00 89.82           C  \\nATOM     41  C   THR A   6      -6.648  -0.167   7.962  1.00 89.82           C  \\nATOM     42  O   THR A   6      -6.424  -0.427   9.146  1.00 89.82           O  \\nATOM     43  CB  THR A   6      -4.404  -0.897   7.121  1.00 89.82           C  \\nATOM     44  OG1 THR A   6      -3.908   0.431   6.915  1.00 89.82           O  \\nATOM     45  CG2 THR A   6      -3.666  -1.853   6.190  1.00 89.82           C  \\nATOM     46  N   ALA A   7      -7.477   0.925   7.599  1.00 87.35           N  \\nATOM     47  CA  ALA A   7      -8.196   1.728   8.585  1.00 87.35           C  \\nATOM     48  C   ALA A   7      -9.347   0.938   9.202  1.00 87.35           C  \\nATOM     49  O   ALA A   7      -9.906   1.340  10.225  1.00 87.35           O  \\nATOM     50  CB  ALA A   7      -8.719   3.012   7.945  1.00 87.35           C  \\nATOM     51  N   THR A   8      -9.596  -0.250   8.618  1.00 83.39           N  \\nATOM     52  CA  THR A   8     -10.650  -1.121   9.128  1.00 83.39           C  \\nATOM     53  C   THR A   8     -10.104  -2.516   9.420  1.00 83.39           C  \\nATOM     54  O   THR A   8      -9.064  -2.906   8.886  1.00 83.39           O  \\nATOM     55  CB  THR A   8     -11.821  -1.223   8.134  1.00 83.39           C  \\nATOM     56  OG1 THR A   8     -11.343  -1.761   6.895  1.00 83.39           O  \\nATOM     57  CG2 THR A   8     -12.443   0.146   7.875  1.00 83.39           C  \\nATOM     58  N   SER A   9     -10.526  -3.234  10.428  1.00 75.32           N  \\nATOM     59  CA  SER A   9     -10.216  -4.634  10.696  1.00 75.32           C  \\nATOM     60  C   SER A   9     -11.470  -5.499  10.636  1.00 75.32           C  \\nATOM     61  O   SER A   9     -12.418  -5.280  11.393  1.00 75.32           O  \\nATOM     62  CB  SER A   9      -9.548  -4.783  12.064  1.00 75.32           C  \\nATOM     63  OG  SER A   9      -9.191  -6.134  12.305  1.00 75.32           O  \\nATOM     64  N   PRO A  10     -11.471  -6.513   9.720  1.00 83.22           N  \\nATOM     65  CA  PRO A  10     -10.302  -6.795   8.884  1.00 83.22           C  \\nATOM     66  C   PRO A  10     -10.132  -5.788   7.748  1.00 83.22           C  \\nATOM     67  O   PRO A  10     -10.974  -4.903   7.572  1.00 83.22           O  \\nATOM     68  CB  PRO A  10     -10.591  -8.194   8.334  1.00 83.22           C  \\nATOM     69  CG  PRO A  10     -12.079  -8.259   8.218  1.00 83.22           C  \\nATOM     70  CD  PRO A  10     -12.680  -7.443   9.326  1.00 83.22           C  \\nATOM     71  N   ILE A  11      -8.948  -5.741   7.153  1.00 85.52           N  \\nATOM     72  CA  ILE A  11      -8.723  -4.932   5.961  1.00 85.52           C  \\nATOM     73  C   ILE A  11      -9.872  -5.133   4.976  1.00 85.52           C  \\nATOM     74  O   ILE A  11     -10.290  -6.265   4.723  1.00 85.52           O  \\nATOM     75  CB  ILE A  11      -7.375  -5.278   5.290  1.00 85.52           C  \\nATOM     76  CG1 ILE A  11      -6.208  -4.898   6.209  1.00 85.52           C  \\nATOM     77  CG2 ILE A  11      -7.252  -4.579   3.933  1.00 85.52           C  \\nATOM     78  CD1 ILE A  11      -4.855  -5.414   5.737  1.00 85.52           C  \\nATOM     79  N   SER A  12     -10.490  -4.137   4.475  1.00 89.55           N  \\nATOM     80  CA  SER A  12     -11.624  -4.162   3.556  1.00 89.55           C  \\nATOM     81  C   SER A  12     -11.466  -3.120   2.454  1.00 89.55           C  \\nATOM     82  O   SER A  12     -10.613  -2.234   2.548  1.00 89.55           O  \\nATOM     83  CB  SER A  12     -12.932  -3.924   4.311  1.00 89.55           C  \\nATOM     84  OG  SER A  12     -12.949  -2.631   4.892  1.00 89.55           O  \\nATOM     85  N   ALA A  13     -12.217  -3.277   1.353  1.00 91.37           N  \\nATOM     86  CA  ALA A  13     -12.267  -2.294   0.275  1.00 91.37           C  \\nATOM     87  C   ALA A  13     -13.280  -1.195   0.580  1.00 91.37           C  \\nATOM     88  O   ALA A  13     -14.406  -1.478   0.996  1.00 91.37           O  \\nATOM     89  CB  ALA A  13     -12.606  -2.973  -1.050  1.00 91.37           C  \\nATOM     90  N   VAL A  14     -12.924   0.033   0.462  1.00 95.11           N  \\nATOM     91  CA  VAL A  14     -13.792   1.172   0.741  1.00 95.11           C  \\nATOM     92  C   VAL A  14     -13.790   2.128  -0.450  1.00 95.11           C  \\nATOM     93  O   VAL A  14     -12.824   2.174  -1.215  1.00 95.11           O  \\nATOM     94  CB  VAL A  14     -13.357   1.917   2.023  1.00 95.11           C  \\nATOM     95  CG1 VAL A  14     -13.341   0.967   3.220  1.00 95.11           C  \\nATOM     96  CG2 VAL A  14     -11.984   2.558   1.827  1.00 95.11           C  \\nATOM     97  N   THR A  15     -14.911   2.838  -0.539  1.00 96.93           N  \\nATOM     98  CA  THR A  15     -14.959   3.917  -1.520  1.00 96.93           C  \\nATOM     99  C   THR A  15     -14.176   5.130  -1.028  1.00 96.93           C  \\nATOM    100  O   THR A  15     -14.410   5.620   0.079  1.00 96.93           O  \\nATOM    101  CB  THR A  15     -16.410   4.329  -1.827  1.00 96.93           C  \\nATOM    102  OG1 THR A  15     -17.137   3.185  -2.294  1.00 96.93           O  \\nATOM    103  CG2 THR A  15     -16.460   5.418  -2.892  1.00 96.93           C  \\nATOM    104  N   CYS A  16     -13.220   5.588  -1.828  1.00 97.00           N  \\nATOM    105  CA  CYS A  16     -12.381   6.720  -1.451  1.00 97.00           C  \\nATOM    106  C   CYS A  16     -13.197   8.005  -1.386  1.00 97.00           C  \\nATOM    107  O   CYS A  16     -14.191   8.152  -2.098  1.00 97.00           O  \\nATOM    108  CB  CYS A  16     -11.229   6.886  -2.442  1.00 97.00           C  \\nATOM    109  SG  CYS A  16     -10.068   5.502  -2.447  1.00 97.00           S  \\nATOM    110  N   PRO A  17     -12.747   8.984  -0.565  1.00 96.95           N  \\nATOM    111  CA  PRO A  17     -13.383  10.304  -0.553  1.00 96.95           C  \\nATOM    112  C   PRO A  17     -13.176  11.071  -1.857  1.00 96.95           C  \\nATOM    113  O   PRO A  17     -12.286  10.734  -2.641  1.00 96.95           O  \\nATOM    114  CB  PRO A  17     -12.694  11.016   0.614  1.00 96.95           C  \\nATOM    115  CG  PRO A  17     -12.052   9.921   1.404  1.00 96.95           C  \\nATOM    116  CD  PRO A  17     -11.761   8.774   0.480  1.00 96.95           C  \\nATOM    117  N   PRO A  18     -14.004  12.104  -2.118  1.00 97.15           N  \\nATOM    118  CA  PRO A  18     -13.814  12.921  -3.319  1.00 97.15           C  \\nATOM    119  C   PRO A  18     -12.438  13.580  -3.374  1.00 97.15           C  \\nATOM    120  O   PRO A  18     -11.939  14.061  -2.353  1.00 97.15           O  \\nATOM    121  CB  PRO A  18     -14.920  13.974  -3.207  1.00 97.15           C  \\nATOM    122  CG  PRO A  18     -15.940  13.362  -2.303  1.00 97.15           C  \\nATOM    123  CD  PRO A  18     -15.236  12.461  -1.330  1.00 97.15           C  \\nATOM    124  N   GLY A  19     -11.795  13.480  -4.493  1.00 96.56           N  \\nATOM    125  CA  GLY A  19     -10.491  14.088  -4.703  1.00 96.56           C  \\nATOM    126  C   GLY A  19      -9.345  13.101  -4.581  1.00 96.56           C  \\nATOM    127  O   GLY A  19      -8.209  13.414  -4.941  1.00 96.56           O  \\nATOM    128  N   GLU A  20      -9.632  11.931  -3.953  1.00 96.42           N  \\nATOM    129  CA  GLU A  20      -8.610  10.897  -3.824  1.00 96.42           C  \\nATOM    130  C   GLU A  20      -8.761   9.833  -4.908  1.00 96.42           C  \\nATOM    131  O   GLU A  20      -9.571   8.914  -4.774  1.00 96.42           O  \\nATOM    132  CB  GLU A  20      -8.671  10.249  -2.439  1.00 96.42           C  \\nATOM    133  CG  GLU A  20      -8.436  11.223  -1.293  1.00 96.42           C  \\nATOM    134  CD  GLU A  20      -8.326  10.541   0.061  1.00 96.42           C  \\nATOM    135  OE1 GLU A  20      -8.117  11.241   1.078  1.00 96.42           O  \\nATOM    136  OE2 GLU A  20      -8.450   9.297   0.106  1.00 96.42           O  \\nATOM    137  N   ASN A  21      -7.880   9.878  -5.827  1.00 95.62           N  \\nATOM    138  CA  ASN A  21      -8.034   9.013  -6.991  1.00 95.62           C  \\nATOM    139  C   ASN A  21      -6.903   7.993  -7.086  1.00 95.62           C  \\nATOM    140  O   ASN A  21      -6.600   7.495  -8.171  1.00 95.62           O  \\nATOM    141  CB  ASN A  21      -8.107   9.845  -8.273  1.00 95.62           C  \\nATOM    142  CG  ASN A  21      -9.349  10.713  -8.336  1.00 95.62           C  \\nATOM    143  OD1 ASN A  21     -10.428  10.306  -7.898  1.00 95.62           O  \\nATOM    144  ND2 ASN A  21      -9.205  11.915  -8.881  1.00 95.62           N  \\nATOM    145  N   LEU A  22      -6.173   7.780  -5.934  1.00 95.20           N  \\nATOM    146  CA  LEU A  22      -5.085   6.809  -5.891  1.00 95.20           C  \\nATOM    147  C   LEU A  22      -5.260   5.849  -4.719  1.00 95.20           C  \\nATOM    148  O   LEU A  22      -5.726   6.247  -3.649  1.00 95.20           O  \\nATOM    149  CB  LEU A  22      -3.734   7.521  -5.785  1.00 95.20           C  \\nATOM    150  CG  LEU A  22      -3.356   8.435  -6.952  1.00 95.20           C  \\nATOM    151  CD1 LEU A  22      -2.152   9.294  -6.584  1.00 95.20           C  \\nATOM    152  CD2 LEU A  22      -3.070   7.613  -8.204  1.00 95.20           C  \\nATOM    153  N   CYS A  23      -5.022   4.594  -5.020  1.00 94.80           N  \\nATOM    154  CA  CYS A  23      -4.795   3.640  -3.940  1.00 94.80           C  \\nATOM    155  C   CYS A  23      -3.307   3.482  -3.656  1.00 94.80           C  \\nATOM    156  O   CYS A  23      -2.493   3.462  -4.582  1.00 94.80           O  \\nATOM    157  CB  CYS A  23      -5.406   2.283  -4.286  1.00 94.80           C  \\nATOM    158  SG  CYS A  23      -7.157   2.361  -4.719  1.00 94.80           S  \\nATOM    159  N   TYR A  24      -2.906   3.606  -2.404  1.00 91.98           N  \\nATOM    160  CA  TYR A  24      -1.481   3.430  -2.149  1.00 91.98           C  \\nATOM    161  C   TYR A  24      -1.234   2.231  -1.240  1.00 91.98           C  \\nATOM    162  O   TYR A  24      -2.130   1.804  -0.508  1.00 91.98           O  \\nATOM    163  CB  TYR A  24      -0.886   4.693  -1.519  1.00 91.98           C  \\nATOM    164  CG  TYR A  24      -1.403   4.980  -0.130  1.00 91.98           C  \\nATOM    165  CD1 TYR A  24      -2.520   5.789   0.065  1.00 91.98           C  \\nATOM    166  CD2 TYR A  24      -0.775   4.443   0.989  1.00 91.98           C  \\nATOM    167  CE1 TYR A  24      -2.998   6.057   1.344  1.00 91.98           C  \\nATOM    168  CE2 TYR A  24      -1.244   4.705   2.272  1.00 91.98           C  \\nATOM    169  CZ  TYR A  24      -2.355   5.512   2.439  1.00 91.98           C  \\nATOM    170  OH  TYR A  24      -2.825   5.774   3.706  1.00 91.98           O  \\nATOM    171  N   ARG A  25      -0.203   1.667  -1.342  1.00 89.67           N  \\nATOM    172  CA  ARG A  25       0.331   0.554  -0.563  1.00 89.67           C  \\nATOM    173  C   ARG A  25       1.717   0.882  -0.018  1.00 89.67           C  \\nATOM    174  O   ARG A  25       2.631   1.199  -0.782  1.00 89.67           O  \\nATOM    175  CB  ARG A  25       0.389  -0.717  -1.413  1.00 89.67           C  \\nATOM    176  CG  ARG A  25       0.881  -1.941  -0.657  1.00 89.67           C  \\nATOM    177  CD  ARG A  25       0.933  -3.173  -1.550  1.00 89.67           C  \\nATOM    178  NE  ARG A  25       1.257  -4.377  -0.790  1.00 89.67           N  \\nATOM    179  CZ  ARG A  25       2.368  -5.093  -0.942  1.00 89.67           C  \\nATOM    180  NH1 ARG A  25       3.286  -4.739  -1.833  1.00 89.67           N  \\nATOM    181  NH2 ARG A  25       2.562  -6.172  -0.197  1.00 89.67           N  \\nATOM    182  N   LYS A  26       1.788   0.923   1.366  1.00 85.52           N  \\nATOM    183  CA  LYS A  26       3.054   1.190   2.042  1.00 85.52           C  \\nATOM    184  C   LYS A  26       3.603  -0.073   2.700  1.00 85.52           C  \\nATOM    185  O   LYS A  26       2.912  -0.717   3.492  1.00 85.52           O  \\nATOM    186  CB  LYS A  26       2.882   2.293   3.087  1.00 85.52           C  \\nATOM    187  CG  LYS A  26       2.694   3.682   2.496  1.00 85.52           C  \\nATOM    188  CD  LYS A  26       2.595   4.744   3.583  1.00 85.52           C  \\nATOM    189  CE  LYS A  26       2.174   6.092   3.013  1.00 85.52           C  \\nATOM    190  NZ  LYS A  26       1.985   7.113   4.087  1.00 85.52           N  \\nATOM    191  N   MET A  27       4.735  -0.374   2.452  1.00 81.60           N  \\nATOM    192  CA  MET A  27       5.408  -1.554   2.986  1.00 81.60           C  \\nATOM    193  C   MET A  27       6.688  -1.167   3.719  1.00 81.60           C  \\nATOM    194  O   MET A  27       7.434  -0.300   3.259  1.00 81.60           O  \\nATOM    195  CB  MET A  27       5.727  -2.545   1.865  1.00 81.60           C  \\nATOM    196  CG  MET A  27       6.170  -3.912   2.362  1.00 81.60           C  \\nATOM    197  SD  MET A  27       6.326  -5.137   1.004  1.00 81.60           S  \\nATOM    198  CE  MET A  27       7.646  -4.364   0.027  1.00 81.60           C  \\nATOM    199  N   TRP A  28       6.820  -1.735   4.869  1.00 78.01           N  \\nATOM    200  CA  TRP A  28       8.089  -1.594   5.575  1.00 78.01           C  \\nATOM    201  C   TRP A  28       9.122  -2.581   5.041  1.00 78.01           C  \\nATOM    202  O   TRP A  28       8.800  -3.739   4.767  1.00 78.01           O  \\nATOM    203  CB  TRP A  28       7.894  -1.804   7.079  1.00 78.01           C  \\nATOM    204  CG  TRP A  28       9.061  -1.364   7.911  1.00 78.01           C  \\nATOM    205  CD1 TRP A  28       9.342  -0.093   8.331  1.00 78.01           C  \\nATOM    206  CD2 TRP A  28      10.108  -2.195   8.421  1.00 78.01           C  \\nATOM    207  NE1 TRP A  28      10.501  -0.085   9.072  1.00 78.01           N  \\nATOM    208  CE2 TRP A  28      10.990  -1.361   9.143  1.00 78.01           C  \\nATOM    209  CE3 TRP A  28      10.386  -3.566   8.339  1.00 78.01           C  \\nATOM    210  CZ2 TRP A  28      12.132  -1.854   9.779  1.00 78.01           C  \\nATOM    211  CZ3 TRP A  28      11.523  -4.055   8.973  1.00 78.01           C  \\nATOM    212  CH2 TRP A  28      12.380  -3.199   9.682  1.00 78.01           C  \\nATOM    213  N   CYS A  29      10.285  -2.113   4.696  1.00 72.07           N  \\nATOM    214  CA  CYS A  29      11.374  -3.002   4.305  1.00 72.07           C  \\nATOM    215  C   CYS A  29      12.664  -2.634   5.028  1.00 72.07           C  \\nATOM    216  O   CYS A  29      12.748  -1.579   5.659  1.00 72.07           O  \\nATOM    217  CB  CYS A  29      11.593  -2.950   2.794  1.00 72.07           C  \\nATOM    218  SG  CYS A  29      11.834  -1.280   2.150  1.00 72.07           S  \\nATOM    219  N   ASP A  30      13.507  -3.544   5.127  1.00 67.69           N  \\nATOM    220  CA  ASP A  30      14.838  -3.245   5.646  1.00 67.69           C  \\nATOM    221  C   ASP A  30      15.676  -2.498   4.611  1.00 67.69           C  \\nATOM    222  O   ASP A  30      15.144  -1.998   3.618  1.00 67.69           O  \\nATOM    223  CB  ASP A  30      15.550  -4.531   6.071  1.00 67.69           C  \\nATOM    224  CG  ASP A  30      15.736  -5.512   4.926  1.00 67.69           C  \\nATOM    225  OD1 ASP A  30      15.610  -5.107   3.750  1.00 67.69           O  \\nATOM    226  OD2 ASP A  30      16.008  -6.700   5.202  1.00 67.69           O  \\nATOM    227  N   ALA A  31      16.850  -2.144   4.945  1.00 63.03           N  \\nATOM    228  CA  ALA A  31      17.728  -1.263   4.179  1.00 63.03           C  \\nATOM    229  C   ALA A  31      17.853  -1.736   2.734  1.00 63.03           C  \\nATOM    230  O   ALA A  31      18.084  -0.931   1.828  1.00 63.03           O  \\nATOM    231  CB  ALA A  31      19.105  -1.186   4.832  1.00 63.03           C  \\nATOM    232  N   PHE A  32      17.565  -3.015   2.522  1.00 60.83           N  \\nATOM    233  CA  PHE A  32      17.897  -3.506   1.189  1.00 60.83           C  \\nATOM    234  C   PHE A  32      16.644  -3.965   0.453  1.00 60.83           C  \\nATOM    235  O   PHE A  32      16.682  -4.213  -0.754  1.00 60.83           O  \\nATOM    236  CB  PHE A  32      18.907  -4.654   1.274  1.00 60.83           C  \\nATOM    237  CG  PHE A  32      20.278  -4.225   1.721  1.00 60.83           C  \\nATOM    238  CD1 PHE A  32      21.193  -3.710   0.811  1.00 60.83           C  \\nATOM    239  CD2 PHE A  32      20.653  -4.336   3.054  1.00 60.83           C  \\nATOM    240  CE1 PHE A  32      22.463  -3.312   1.222  1.00 60.83           C  \\nATOM    241  CE2 PHE A  32      21.920  -3.940   3.473  1.00 60.83           C  \\nATOM    242  CZ  PHE A  32      22.824  -3.430   2.555  1.00 60.83           C  \\nATOM    243  N   CYS A  33      15.431  -3.619   0.992  1.00 59.60           N  \\nATOM    244  CA  CYS A  33      14.131  -4.005   0.453  1.00 59.60           C  \\nATOM    245  C   CYS A  33      14.227  -5.319  -0.313  1.00 59.60           C  \\nATOM    246  O   CYS A  33      13.670  -5.448  -1.405  1.00 59.60           O  \\nATOM    247  CB  CYS A  33      13.583  -2.910  -0.461  1.00 59.60           C  \\nATOM    248  SG  CYS A  33      12.774  -1.559   0.425  1.00 59.60           S  \\nATOM    249  N   SER A  34      15.188  -6.081  -0.004  1.00 58.03           N  \\nATOM    250  CA  SER A  34      15.268  -7.374  -0.674  1.00 58.03           C  \\nATOM    251  C   SER A  34      14.325  -8.388  -0.036  1.00 58.03           C  \\nATOM    252  O   SER A  34      13.942  -9.373  -0.671  1.00 58.03           O  \\nATOM    253  CB  SER A  34      16.701  -7.908  -0.640  1.00 58.03           C  \\nATOM    254  OG  SER A  34      17.165  -8.020   0.694  1.00 58.03           O  \\nATOM    255  N   SER A  35      14.031  -8.043   1.175  1.00 55.62           N  \\nATOM    256  CA  SER A  35      13.116  -8.992   1.801  1.00 55.62           C  \\nATOM    257  C   SER A  35      11.662  -8.597   1.565  1.00 55.62           C  \\nATOM    258  O   SER A  35      11.382  -7.489   1.103  1.00 55.62           O  \\nATOM    259  CB  SER A  35      13.389  -9.089   3.303  1.00 55.62           C  \\nATOM    260  OG  SER A  35      13.352  -7.807   3.905  1.00 55.62           O  \\nATOM    261  N   ARG A  36      10.877  -9.544   1.334  1.00 59.39           N  \\nATOM    262  CA  ARG A  36       9.421  -9.464   1.297  1.00 59.39           C  \\nATOM    263  C   ARG A  36       8.900  -8.479   2.338  1.00 59.39           C  \\nATOM    264  O   ARG A  36       9.139  -8.648   3.535  1.00 59.39           O  \\nATOM    265  CB  ARG A  36       8.800 -10.844   1.525  1.00 59.39           C  \\nATOM    266  CG  ARG A  36       9.016 -11.814   0.374  1.00 59.39           C  \\nATOM    267  CD  ARG A  36       8.090 -13.019   0.471  1.00 59.39           C  \\nATOM    268  NE  ARG A  36       8.282 -13.938  -0.647  1.00 59.39           N  \\nATOM    269  CZ  ARG A  36       7.630 -15.086  -0.805  1.00 59.39           C  \\nATOM    270  NH1 ARG A  36       6.726 -15.480   0.084  1.00 59.39           N  \\nATOM    271  NH2 ARG A  36       7.884 -15.847  -1.860  1.00 59.39           N  \\nATOM    272  N   GLY A  37       8.970  -7.247   2.072  1.00 63.85           N  \\nATOM    273  CA  GLY A  37       8.458  -6.237   2.985  1.00 63.85           C  \\nATOM    274  C   GLY A  37       7.071  -6.556   3.510  1.00 63.85           C  \\nATOM    275  O   GLY A  37       6.438  -7.515   3.064  1.00 63.85           O  \\nATOM    276  N   LYS A  38       6.749  -6.050   4.668  1.00 73.76           N  \\nATOM    277  CA  LYS A  38       5.436  -6.147   5.299  1.00 73.76           C  \\nATOM    278  C   LYS A  38       4.577  -4.930   4.970  1.00 73.76           C  \\nATOM    279  O   LYS A  38       5.054  -3.794   5.020  1.00 73.76           O  \\nATOM    280  CB  LYS A  38       5.578  -6.294   6.815  1.00 73.76           C  \\nATOM    281  CG  LYS A  38       4.267  -6.575   7.535  1.00 73.76           C  \\nATOM    282  CD  LYS A  38       4.471  -6.693   9.040  1.00 73.76           C  \\nATOM    283  CE  LYS A  38       3.146  -6.855   9.773  1.00 73.76           C  \\nATOM    284  NZ  LYS A  38       3.338  -6.939  11.252  1.00 73.76           N  \\nATOM    285  N   VAL A  39       3.383  -5.203   4.526  1.00 77.57           N  \\nATOM    286  CA  VAL A  39       2.461  -4.093   4.306  1.00 77.57           C  \\nATOM    287  C   VAL A  39       2.129  -3.425   5.638  1.00 77.57           C  \\nATOM    288  O   VAL A  39       1.666  -4.083   6.572  1.00 77.57           O  \\nATOM    289  CB  VAL A  39       1.165  -4.562   3.607  1.00 77.57           C  \\nATOM    290  CG1 VAL A  39       0.166  -3.412   3.494  1.00 77.57           C  \\nATOM    291  CG2 VAL A  39       1.482  -5.137   2.228  1.00 77.57           C  \\nATOM    292  N   VAL A  40       2.324  -2.182   5.746  1.00 81.36           N  \\nATOM    293  CA  VAL A  40       2.064  -1.493   7.006  1.00 81.36           C  \\nATOM    294  C   VAL A  40       0.827  -0.610   6.866  1.00 81.36           C  \\nATOM    295  O   VAL A  40       0.160  -0.303   7.857  1.00 81.36           O  \\nATOM    296  CB  VAL A  40       3.277  -0.646   7.450  1.00 81.36           C  \\nATOM    297  CG1 VAL A  40       4.422  -1.544   7.915  1.00 81.36           C  \\nATOM    298  CG2 VAL A  40       3.736   0.266   6.313  1.00 81.36           C  \\nATOM    299  N   GLU A  41       0.533  -0.284   5.522  1.00 88.79           N  \\nATOM    300  CA  GLU A  41      -0.587   0.638   5.363  1.00 88.79           C  \\nATOM    301  C   GLU A  41      -1.139   0.595   3.941  1.00 88.79           C  \\nATOM    302  O   GLU A  41      -0.378   0.497   2.976  1.00 88.79           O  \\nATOM    303  CB  GLU A  41      -0.164   2.065   5.720  1.00 88.79           C  \\nATOM    304  CG  GLU A  41      -1.325   3.044   5.818  1.00 88.79           C  \\nATOM    305  CD  GLU A  41      -0.900   4.437   6.253  1.00 88.79           C  \\nATOM    306  OE1 GLU A  41      -1.774   5.322   6.397  1.00 88.79           O  \\nATOM    307  OE2 GLU A  41       0.318   4.647   6.451  1.00 88.79           O  \\nATOM    308  N   LEU A  42      -2.417   0.563   3.882  1.00 90.99           N  \\nATOM    309  CA  LEU A  42      -3.172   0.704   2.642  1.00 90.99           C  \\nATOM    310  C   LEU A  42      -4.166   1.857   2.739  1.00 90.99           C  \\nATOM    311  O   LEU A  42      -4.637   2.186   3.830  1.00 90.99           O  \\nATOM    312  CB  LEU A  42      -3.911  -0.596   2.313  1.00 90.99           C  \\nATOM    313  CG  LEU A  42      -3.064  -1.869   2.287  1.00 90.99           C  \\nATOM    314  CD1 LEU A  42      -3.959  -3.100   2.195  1.00 90.99           C  \\nATOM    315  CD2 LEU A  42      -2.077  -1.831   1.125  1.00 90.99           C  \\nATOM    316  N   GLY A  43      -4.415   2.483   1.601  1.00 94.75           N  \\nATOM    317  CA  GLY A  43      -5.447   3.504   1.695  1.00 94.75           C  \\nATOM    318  C   GLY A  43      -5.581   4.334   0.433  1.00 94.75           C  \\nATOM    319  O   GLY A  43      -5.088   3.945  -0.628  1.00 94.75           O  \\nATOM    320  N   CYS A  44      -6.438   5.431   0.604  1.00 95.85           N  \\nATOM    321  CA  CYS A  44      -6.706   6.387  -0.464  1.00 95.85           C  \\nATOM    322  C   CYS A  44      -5.829   7.625  -0.321  1.00 95.85           C  \\nATOM    323  O   CYS A  44      -5.461   8.005   0.792  1.00 95.85           O  \\nATOM    324  CB  CYS A  44      -8.180   6.793  -0.464  1.00 95.85           C  \\nATOM    325  SG  CYS A  44      -9.319   5.397  -0.589  1.00 95.85           S  \\nATOM    326  N   ALA A  45      -5.447   8.129  -1.517  1.00 95.04           N  \\nATOM    327  CA  ALA A  45      -4.626   9.334  -1.438  1.00 95.04           C  \\nATOM    328  C   ALA A  45      -4.891  10.257  -2.625  1.00 95.04           C  \\nATOM    329  O   ALA A  45      -5.234   9.794  -3.715  1.00 95.04           O  \\nATOM    330  CB  ALA A  45      -3.146   8.966  -1.374  1.00 95.04           C  \\nATOM    331  N   ALA A  46      -4.859  11.510  -2.447  1.00 95.36           N  \\nATOM    332  CA  ALA A  46      -4.935  12.480  -3.536  1.00 95.36           C  \\nATOM    333  C   ALA A  46      -3.629  12.524  -4.324  1.00 95.36           C  \\nATOM    334  O   ALA A  46      -3.638  12.707  -5.544  1.00 95.36           O  \\nATOM    335  CB  ALA A  46      -5.272  13.866  -2.993  1.00 95.36           C  \\nATOM    336  N   THR A  47      -2.483  12.407  -3.610  1.00 93.34           N  \\nATOM    337  CA  THR A  47      -1.132  12.312  -4.151  1.00 93.34           C  \\nATOM    338  C   THR A  47      -0.395  11.113  -3.561  1.00 93.34           C  \\nATOM    339  O   THR A  47      -0.647  10.724  -2.418  1.00 93.34           O  \\nATOM    340  CB  THR A  47      -0.329  13.597  -3.876  1.00 93.34           C  \\nATOM    341  OG1 THR A  47      -0.268  13.823  -2.462  1.00 93.34           O  \\nATOM    342  CG2 THR A  47      -0.978  14.805  -4.544  1.00 93.34           C  \\nATOM    343  N   CYS A  48       0.401  10.458  -4.400  1.00 91.33           N  \\nATOM    344  CA  CYS A  48       1.151   9.298  -3.932  1.00 91.33           C  \\nATOM    345  C   CYS A  48       2.110   9.684  -2.812  1.00 91.33           C  \\nATOM    346  O   CYS A  48       2.974  10.544  -2.997  1.00 91.33           O  \\nATOM    347  CB  CYS A  48       1.929   8.662  -5.084  1.00 91.33           C  \\nATOM    348  SG  CYS A  48       2.543   7.003  -4.719  1.00 91.33           S  \\nATOM    349  N   PRO A  49       1.905   9.125  -1.596  1.00 89.33           N  \\nATOM    350  CA  PRO A  49       2.775   9.491  -0.476  1.00 89.33           C  \\nATOM    351  C   PRO A  49       4.258   9.326  -0.802  1.00 89.33           C  \\nATOM    352  O   PRO A  49       4.623   8.483  -1.626  1.00 89.33           O  \\nATOM    353  CB  PRO A  49       2.349   8.524   0.632  1.00 89.33           C  \\nATOM    354  CG  PRO A  49       0.990   8.054   0.226  1.00 89.33           C  \\nATOM    355  CD  PRO A  49       0.901   8.086  -1.273  1.00 89.33           C  \\nATOM    356  N   SER A  50       5.049  10.109  -0.211  1.00 85.49           N  \\nATOM    357  CA  SER A  50       6.489  10.023  -0.431  1.00 85.49           C  \\nATOM    358  C   SER A  50       7.089   8.825   0.297  1.00 85.49           C  \\nATOM    359  O   SER A  50       6.610   8.439   1.366  1.00 85.49           O  \\nATOM    360  CB  SER A  50       7.180  11.308   0.028  1.00 85.49           C  \\nATOM    361  OG  SER A  50       6.652  12.433  -0.653  1.00 85.49           O  \\nATOM    362  N   LYS A  51       8.097   8.302  -0.292  1.00 80.14           N  \\nATOM    363  CA  LYS A  51       8.842   7.187   0.285  1.00 80.14           C  \\nATOM    364  C   LYS A  51       9.764   7.661   1.404  1.00 80.14           C  \\nATOM    365  O   LYS A  51      10.404   8.709   1.286  1.00 80.14           O  \\nATOM    366  CB  LYS A  51       9.653   6.468  -0.794  1.00 80.14           C  \\nATOM    367  CG  LYS A  51      10.596   5.403  -0.253  1.00 80.14           C  \\nATOM    368  CD  LYS A  51      11.481   4.829  -1.352  1.00 80.14           C  \\nATOM    369  CE  LYS A  51      12.546   3.900  -0.785  1.00 80.14           C  \\nATOM    370  NZ  LYS A  51      13.442   3.367  -1.855  1.00 80.14           N  \\nATOM    371  N   LYS A  52       9.692   7.073   2.599  1.00 78.11           N  \\nATOM    372  CA  LYS A  52      10.639   7.254   3.696  1.00 78.11           C  \\nATOM    373  C   LYS A  52      11.712   6.168   3.681  1.00 78.11           C  \\nATOM    374  O   LYS A  52      11.601   5.189   2.940  1.00 78.11           O  \\nATOM    375  CB  LYS A  52       9.910   7.251   5.041  1.00 78.11           C  \\nATOM    376  CG  LYS A  52       8.915   8.390   5.208  1.00 78.11           C  \\nATOM    377  CD  LYS A  52       8.212   8.324   6.557  1.00 78.11           C  \\nATOM    378  CE  LYS A  52       7.181   9.435   6.706  1.00 78.11           C  \\nATOM    379  NZ  LYS A  52       6.555   9.432   8.062  1.00 78.11           N  \\nATOM    380  N   PRO A  53      12.819   6.419   4.402  1.00 76.43           N  \\nATOM    381  CA  PRO A  53      13.803   5.334   4.438  1.00 76.43           C  \\nATOM    382  C   PRO A  53      13.215   4.020   4.945  1.00 76.43           C  \\nATOM    383  O   PRO A  53      12.447   4.015   5.911  1.00 76.43           O  \\nATOM    384  CB  PRO A  53      14.873   5.860   5.398  1.00 76.43           C  \\nATOM    385  CG  PRO A  53      14.753   7.349   5.325  1.00 76.43           C  \\nATOM    386  CD  PRO A  53      13.310   7.701   5.108  1.00 76.43           C  \\nATOM    387  N   TYR A  54      13.314   2.997   4.275  1.00 73.62           N  \\nATOM    388  CA  TYR A  54      12.935   1.638   4.643  1.00 73.62           C  \\nATOM    389  C   TYR A  54      11.472   1.370   4.310  1.00 73.62           C  \\nATOM    390  O   TYR A  54      10.836   0.512   4.925  1.00 73.62           O  \\nATOM    391  CB  TYR A  54      13.183   1.396   6.135  1.00 73.62           C  \\nATOM    392  CG  TYR A  54      14.569   1.785   6.591  1.00 73.62           C  \\nATOM    393  CD1 TYR A  54      15.687   1.066   6.174  1.00 73.62           C  \\nATOM    394  CD2 TYR A  54      14.762   2.869   7.439  1.00 73.62           C  \\nATOM    395  CE1 TYR A  54      16.966   1.420   6.593  1.00 73.62           C  \\nATOM    396  CE2 TYR A  54      16.036   3.231   7.865  1.00 73.62           C  \\nATOM    397  CZ  TYR A  54      17.130   2.502   7.437  1.00 73.62           C  \\nATOM    398  OH  TYR A  54      18.393   2.856   7.854  1.00 73.62           O  \\nATOM    399  N   GLU A  55      10.962   2.276   3.578  1.00 76.13           N  \\nATOM    400  CA  GLU A  55       9.581   2.080   3.148  1.00 76.13           C  \\nATOM    401  C   GLU A  55       9.471   2.085   1.626  1.00 76.13           C  \\nATOM    402  O   GLU A  55      10.275   2.722   0.942  1.00 76.13           O  \\nATOM    403  CB  GLU A  55       8.674   3.160   3.744  1.00 76.13           C  \\nATOM    404  CG  GLU A  55       8.440   3.009   5.240  1.00 76.13           C  \\nATOM    405  CD  GLU A  55       7.469   4.035   5.802  1.00 76.13           C  \\nATOM    406  OE1 GLU A  55       7.214   4.023   7.028  1.00 76.13           O  \\nATOM    407  OE2 GLU A  55       6.958   4.858   5.010  1.00 76.13           O  \\nATOM    408  N   GLU A  56       8.590   1.345   1.192  1.00 80.73           N  \\nATOM    409  CA  GLU A  56       8.184   1.399  -0.209  1.00 80.73           C  \\nATOM    410  C   GLU A  56       6.711   1.774  -0.342  1.00 80.73           C  \\nATOM    411  O   GLU A  56       5.864   1.251   0.384  1.00 80.73           O  \\nATOM    412  CB  GLU A  56       8.450   0.059  -0.898  1.00 80.73           C  \\nATOM    413  CG  GLU A  56       9.923  -0.213  -1.168  1.00 80.73           C  \\nATOM    414  CD  GLU A  56      10.168  -0.951  -2.474  1.00 80.73           C  \\nATOM    415  OE1 GLU A  56      11.334  -1.015  -2.925  1.00 80.73           O  \\nATOM    416  OE2 GLU A  56       9.186  -1.469  -3.051  1.00 80.73           O  \\nATOM    417  N   VAL A  57       6.522   2.748  -1.241  1.00 85.27           N  \\nATOM    418  CA  VAL A  57       5.159   3.205  -1.490  1.00 85.27           C  \\nATOM    419  C   VAL A  57       4.802   2.990  -2.959  1.00 85.27           C  \\nATOM    420  O   VAL A  57       5.566   3.364  -3.852  1.00 85.27           O  \\nATOM    421  CB  VAL A  57       4.980   4.692  -1.110  1.00 85.27           C  \\nATOM    422  CG1 VAL A  57       3.549   5.151  -1.383  1.00 85.27           C  \\nATOM    423  CG2 VAL A  57       5.346   4.915   0.356  1.00 85.27           C  \\nATOM    424  N   THR A  58       3.746   2.342  -3.197  1.00 87.44           N  \\nATOM    425  CA  THR A  58       3.216   2.166  -4.545  1.00 87.44           C  \\nATOM    426  C   THR A  58       1.804   2.735  -4.649  1.00 87.44           C  \\nATOM    427  O   THR A  58       1.020   2.642  -3.702  1.00 87.44           O  \\nATOM    428  CB  THR A  58       3.205   0.681  -4.951  1.00 87.44           C  \\nATOM    429  OG1 THR A  58       2.413  -0.059  -4.015  1.00 87.44           O  \\nATOM    430  CG2 THR A  58       4.618   0.106  -4.970  1.00 87.44           C  \\nATOM    431  N   CYS A  59       1.525   3.366  -5.801  1.00 90.54           N  \\nATOM    432  CA  CYS A  59       0.201   3.924  -6.053  1.00 90.54           C  \\nATOM    433  C   CYS A  59      -0.390   3.367  -7.342  1.00 90.54           C  \\nATOM    434  O   CYS A  59       0.347   2.954  -8.240  1.00 90.54           O  \\nATOM    435  CB  CYS A  59       0.267   5.449  -6.129  1.00 90.54           C  \\nATOM    436  SG  CYS A  59       0.744   6.236  -4.575  1.00 90.54           S  \\nATOM    437  N   CYS A  60      -1.629   3.205  -7.336  1.00 91.71           N  \\nATOM    438  CA  CYS A  60      -2.364   2.768  -8.517  1.00 91.71           C  \\nATOM    439  C   CYS A  60      -3.696   3.500  -8.633  1.00 91.71           C  \\nATOM    440  O   CYS A  60      -4.112   4.190  -7.701  1.00 91.71           O  \\nATOM    441  CB  CYS A  60      -2.604   1.259  -8.471  1.00 91.71           C  \\nATOM    442  SG  CYS A  60      -3.572   0.719  -7.045  1.00 91.71           S  \\nATOM    443  N   SER A  61      -4.396   3.443  -9.827  1.00 93.82           N  \\nATOM    444  CA  SER A  61      -5.550   4.314 -10.022  1.00 93.82           C  \\nATOM    445  C   SER A  61      -6.774   3.518 -10.463  1.00 93.82           C  \\nATOM    446  O   SER A  61      -7.692   4.070 -11.075  1.00 93.82           O  \\nATOM    447  CB  SER A  61      -5.236   5.397 -11.055  1.00 93.82           C  \\nATOM    448  OG  SER A  61      -4.754   4.822 -12.257  1.00 93.82           O  \\nATOM    449  N   THR A  62      -6.756   2.197 -10.212  1.00 93.88           N  \\nATOM    450  CA  THR A  62      -7.940   1.401 -10.513  1.00 93.88           C  \\nATOM    451  C   THR A  62      -8.516   0.786  -9.240  1.00 93.88           C  \\nATOM    452  O   THR A  62      -7.877   0.815  -8.186  1.00 93.88           O  \\nATOM    453  CB  THR A  62      -7.622   0.286 -11.526  1.00 93.88           C  \\nATOM    454  OG1 THR A  62      -6.554  -0.523 -11.017  1.00 93.88           O  \\nATOM    455  CG2 THR A  62      -7.205   0.869 -12.872  1.00 93.88           C  \\nATOM    456  N   ASP A  63      -9.724   0.254  -9.279  1.00 92.78           N  \\nATOM    457  CA  ASP A  63     -10.389  -0.313  -8.109  1.00 92.78           C  \\nATOM    458  C   ASP A  63      -9.616  -1.513  -7.566  1.00 92.78           C  \\nATOM    459  O   ASP A  63      -9.191  -2.381  -8.331  1.00 92.78           O  \\nATOM    460  CB  ASP A  63     -11.823  -0.722  -8.453  1.00 92.78           C  \\nATOM    461  CG  ASP A  63     -12.758   0.465  -8.601  1.00 92.78           C  \\nATOM    462  OD1 ASP A  63     -12.395   1.585  -8.182  1.00 92.78           O  \\nATOM    463  OD2 ASP A  63     -13.871   0.278  -9.140  1.00 92.78           O  \\nATOM    464  N   LYS A  64      -9.410  -1.361  -6.268  1.00 89.36           N  \\nATOM    465  CA  LYS A  64      -8.840  -2.482  -5.526  1.00 89.36           C  \\nATOM    466  C   LYS A  64      -7.467  -2.862  -6.073  1.00 89.36           C  \\nATOM    467  O   LYS A  64      -7.153  -4.047  -6.208  1.00 89.36           O  \\nATOM    468  CB  LYS A  64      -9.776  -3.690  -5.574  1.00 89.36           C  \\nATOM    469  CG  LYS A  64     -11.142  -3.441  -4.952  1.00 89.36           C  \\nATOM    470  CD  LYS A  64     -12.035  -4.671  -5.050  1.00 89.36           C  \\nATOM    471  CE  LYS A  64     -13.473  -4.352  -4.664  1.00 89.36           C  \\nATOM    472  NZ  LYS A  64     -14.356  -5.550  -4.781  1.00 89.36           N  \\nATOM    473  N   CYS A  65      -6.649  -1.936  -6.579  1.00 88.14           N  \\nATOM    474  CA  CYS A  65      -5.333  -2.196  -7.151  1.00 88.14           C  \\nATOM    475  C   CYS A  65      -4.275  -2.304  -6.059  1.00 88.14           C  \\nATOM    476  O   CYS A  65      -3.087  -2.444  -6.353  1.00 88.14           O  \\nATOM    477  CB  CYS A  65      -4.950  -1.092  -8.137  1.00 88.14           C  \\nATOM    478  SG  CYS A  65      -4.789   0.539  -7.378  1.00 88.14           S  \\nATOM    479  N   ASN A  66      -4.543  -2.112  -4.778  1.00 88.22           N  \\nATOM    480  CA  ASN A  66      -3.641  -2.281  -3.643  1.00 88.22           C  \\nATOM    481  C   ASN A  66      -4.071  -3.445  -2.754  1.00 88.22           C  \\nATOM    482  O   ASN A  66      -4.425  -3.245  -1.591  1.00 88.22           O  \\nATOM    483  CB  ASN A  66      -3.559  -0.991  -2.826  1.00 88.22           C  \\nATOM    484  CG  ASN A  66      -4.894  -0.590  -2.230  1.00 88.22           C  \\nATOM    485  OD1 ASN A  66      -5.949  -1.044  -2.680  1.00 88.22           O  \\nATOM    486  ND2 ASN A  66      -4.857   0.262  -1.213  1.00 88.22           N  \\nATOM    487  N   PRO A  67      -4.081  -4.680  -3.361  1.00 76.64           N  \\nATOM    488  CA  PRO A  67      -4.731  -5.802  -2.680  1.00 76.64           C  \\nATOM    489  C   PRO A  67      -4.091  -6.124  -1.332  1.00 76.64           C  \\nATOM    490  O   PRO A  67      -2.925  -5.793  -1.103  1.00 76.64           O  \\nATOM    491  CB  PRO A  67      -4.551  -6.963  -3.662  1.00 76.64           C  \\nATOM    492  CG  PRO A  67      -3.343  -6.600  -4.464  1.00 76.64           C  \\nATOM    493  CD  PRO A  67      -3.257  -5.103  -4.546  1.00 76.64           C  \\nATOM    494  N   HIS A  68      -4.824  -6.657  -0.424  1.00 71.98           N  \\nATOM    495  CA  HIS A  68      -4.502  -7.286   0.852  1.00 71.98           C  \\nATOM    496  C   HIS A  68      -3.282  -8.192   0.728  1.00 71.98           C  \\nATOM    497  O   HIS A  68      -3.102  -8.862  -0.292  1.00 71.98           O  \\nATOM    498  CB  HIS A  68      -5.698  -8.085   1.373  1.00 71.98           C  \\nATOM    499  CG  HIS A  68      -5.531  -8.568   2.778  1.00 71.98           C  \\nATOM    500  ND1 HIS A  68      -4.902  -9.755   3.087  1.00 71.98           N  \\nATOM    501  CD2 HIS A  68      -5.909  -8.021   3.958  1.00 71.98           C  \\nATOM    502  CE1 HIS A  68      -4.902  -9.917   4.400  1.00 71.98           C  \\nATOM    503  NE2 HIS A  68      -5.507  -8.880   4.951  1.00 71.98           N  \\nATOM    504  N   PRO A  69      -2.289  -8.159   1.639  1.00 64.48           N  \\nATOM    505  CA  PRO A  69      -1.140  -9.048   1.451  1.00 64.48           C  \\nATOM    506  C   PRO A  69      -1.548 -10.506   1.252  1.00 64.48           C  \\nATOM    507  O   PRO A  69      -0.839 -11.264   0.585  1.00 64.48           O  \\nATOM    508  CB  PRO A  69      -0.345  -8.876   2.748  1.00 64.48           C  \\nATOM    509  CG  PRO A  69      -1.026  -7.757   3.468  1.00 64.48           C  \\nATOM    510  CD  PRO A  69      -2.307  -7.438   2.751  1.00 64.48           C  \\nATOM    511  N   LYS A  70      -2.612 -10.917   1.842  1.00 57.92           N  \\nATOM    512  CA  LYS A  70      -2.943 -12.319   1.603  1.00 57.92           C  \\nATOM    513  C   LYS A  70      -3.648 -12.496   0.262  1.00 57.92           C  \\nATOM    514  O   LYS A  70      -3.970 -13.619  -0.133  1.00 57.92           O  \\nATOM    515  CB  LYS A  70      -3.820 -12.863   2.732  1.00 57.92           C  \\nATOM    516  CG  LYS A  70      -3.109 -12.964   4.074  1.00 57.92           C  \\nATOM    517  CD  LYS A  70      -3.926 -13.766   5.080  1.00 57.92           C  \\nATOM    518  CE  LYS A  70      -3.239 -13.825   6.438  1.00 57.92           C  \\nATOM    519  NZ  LYS A  70      -4.030 -14.620   7.424  1.00 57.92           N  \\nATOM    520  N   GLN A  71      -3.894 -11.388  -0.392  1.00 44.71           N  \\nATOM    521  CA  GLN A  71      -4.543 -11.564  -1.687  1.00 44.71           C  \\nATOM    522  C   GLN A  71      -3.512 -11.696  -2.805  1.00 44.71           C  \\nATOM    523  O   GLN A  71      -2.551 -10.926  -2.865  1.00 44.71           O  \\nATOM    524  CB  GLN A  71      -5.486 -10.396  -1.979  1.00 44.71           C  \\nATOM    525  CG  GLN A  71      -6.810 -10.473  -1.230  1.00 44.71           C  \\nATOM    526  CD  GLN A  71      -7.803  -9.420  -1.684  1.00 44.71           C  \\nATOM    527  OE1 GLN A  71      -7.441  -8.465  -2.380  1.00 44.71           O  \\nATOM    528  NE2 GLN A  71      -9.062  -9.585  -1.294  1.00 44.71           N  \\nATOM    529  N   ARG A  72      -3.045 -12.885  -2.965  1.00 38.15           N  \\nATOM    530  CA  ARG A  72      -2.279 -13.122  -4.184  1.00 38.15           C  \\nATOM    531  C   ARG A  72      -2.847 -12.323  -5.352  1.00 38.15           C  \\nATOM    532  O   ARG A  72      -4.063 -12.157  -5.465  1.00 38.15           O  \\nATOM    533  CB  ARG A  72      -2.263 -14.613  -4.528  1.00 38.15           C  \\nATOM    534  CG  ARG A  72      -1.258 -15.420  -3.721  1.00 38.15           C  \\nATOM    535  CD  ARG A  72      -0.875 -16.712  -4.429  1.00 38.15           C  \\nATOM    536  NE  ARG A  72      -1.709 -17.831  -3.999  1.00 38.15           N  \\nATOM    537  CZ  ARG A  72      -1.343 -19.109  -4.040  1.00 38.15           C  \\nATOM    538  NH1 ARG A  72      -0.145 -19.457  -4.495  1.00 38.15           N  \\nATOM    539  NH2 ARG A  72      -2.181 -20.047  -3.623  1.00 38.15           N  \\nATOM    540  N   PRO A  73      -2.193 -11.351  -5.823  1.00 39.85           N  \\nATOM    541  CA  PRO A  73      -2.871 -10.856  -7.023  1.00 39.85           C  \\nATOM    542  C   PRO A  73      -3.473 -11.977  -7.867  1.00 39.85           C  \\nATOM    543  O   PRO A  73      -2.965 -13.102  -7.858  1.00 39.85           O  \\nATOM    544  CB  PRO A  73      -1.755 -10.138  -7.787  1.00 39.85           C  \\nATOM    545  CG  PRO A  73      -0.563 -10.220  -6.888  1.00 39.85           C  \\nATOM    546  CD  PRO A  73      -0.910 -11.092  -5.715  1.00 39.85           C  \\nATOM    547  N   GLY A  74      -4.765 -12.199  -7.720  1.00 26.77           N  \\nATOM    548  CA  GLY A  74      -5.372 -12.941  -8.813  1.00 26.77           C  \\nATOM    549  C   GLY A  74      -4.542 -12.921 -10.083  1.00 26.77           C  \\nATOM    550  O   GLY A  74      -4.736 -13.753 -10.971  1.00 26.77           O  \\nATOM    551  N   VAL B   1       0.078  -1.309 -13.985  1.00 31.29           N  \\nATOM    552  CA  VAL B   1       1.503  -1.616 -14.068  1.00 31.29           C  \\nATOM    553  C   VAL B   1       2.113  -1.617 -12.668  1.00 31.29           C  \\nATOM    554  O   VAL B   1       2.060  -0.609 -11.960  1.00 31.29           O  \\nATOM    555  CB  VAL B   1       2.248  -0.611 -14.974  1.00 31.29           C  \\nATOM    556  CG1 VAL B   1       3.693  -1.054 -15.197  1.00 31.29           C  \\nATOM    557  CG2 VAL B   1       1.521  -0.456 -16.309  1.00 31.29           C  \\nATOM    558  N   TYR B   2       2.007  -2.649 -11.965  1.00 35.57           N  \\nATOM    559  CA  TYR B   2       2.483  -2.978 -10.626  1.00 35.57           C  \\nATOM    560  C   TYR B   2       4.000  -2.853 -10.541  1.00 35.57           C  \\nATOM    561  O   TYR B   2       4.725  -3.472 -11.324  1.00 35.57           O  \\nATOM    562  CB  TYR B   2       2.054  -4.396 -10.236  1.00 35.57           C  \\nATOM    563  CG  TYR B   2       0.967  -4.434  -9.189  1.00 35.57           C  \\nATOM    564  CD1 TYR B   2       1.281  -4.432  -7.831  1.00 35.57           C  \\nATOM    565  CD2 TYR B   2      -0.374  -4.473  -9.554  1.00 35.57           C  \\nATOM    566  CE1 TYR B   2       0.284  -4.470  -6.863  1.00 35.57           C  \\nATOM    567  CE2 TYR B   2      -1.380  -4.511  -8.593  1.00 35.57           C  \\nATOM    568  CZ  TYR B   2      -1.042  -4.508  -7.253  1.00 35.57           C  \\nATOM    569  OH  TYR B   2      -2.033  -4.545  -6.298  1.00 35.57           O  \\nATOM    570  N   TYR B   3       4.430  -1.713 -10.138  1.00 30.82           N  \\nATOM    571  CA  TYR B   3       5.869  -1.604  -9.925  1.00 30.82           C  \\nATOM    572  C   TYR B   3       6.345  -2.609  -8.883  1.00 30.82           C  \\nATOM    573  O   TYR B   3       5.884  -2.592  -7.739  1.00 30.82           O  \\nATOM    574  CB  TYR B   3       6.242  -0.184  -9.489  1.00 30.82           C  \\nATOM    575  CG  TYR B   3       6.166   0.833 -10.602  1.00 30.82           C  \\nATOM    576  CD1 TYR B   3       7.242   1.031 -11.465  1.00 30.82           C  \\nATOM    577  CD2 TYR B   3       5.021   1.597 -10.793  1.00 30.82           C  \\nATOM    578  CE1 TYR B   3       7.178   1.968 -12.491  1.00 30.82           C  \\nATOM    579  CE2 TYR B   3       4.945   2.537 -11.816  1.00 30.82           C  \\nATOM    580  CZ  TYR B   3       6.027   2.715 -12.659  1.00 30.82           C  \\nATOM    581  OH  TYR B   3       5.958   3.644 -13.673  1.00 30.82           O  \\nATOM    582  N   THR B   4       6.232  -3.856  -9.170  1.00 38.87           N  \\nATOM    583  CA  THR B   4       6.806  -4.829  -8.247  1.00 38.87           C  \\nATOM    584  C   THR B   4       8.280  -4.528  -7.992  1.00 38.87           C  \\nATOM    585  O   THR B   4       8.954  -3.934  -8.837  1.00 38.87           O  \\nATOM    586  CB  THR B   4       6.658  -6.264  -8.785  1.00 38.87           C  \\nATOM    587  OG1 THR B   4       7.187  -6.326 -10.115  1.00 38.87           O  \\nATOM    588  CG2 THR B   4       5.195  -6.693  -8.812  1.00 38.87           C  \\nATOM    589  N   CYS B   5       8.605  -4.168  -6.759  1.00 37.39           N  \\nATOM    590  CA  CYS B   5       9.837  -3.762  -6.092  1.00 37.39           C  \\nATOM    591  C   CYS B   5      10.941  -4.789  -6.313  1.00 37.39           C  \\nATOM    592  O   CYS B   5      10.667  -5.984  -6.436  1.00 37.39           O  \\nATOM    593  CB  CYS B   5       9.599  -3.570  -4.595  1.00 37.39           C  \\nATOM    594  SG  CYS B   5       9.356  -5.115  -3.692  1.00 37.39           S  \\nATOM    595  N   CYS B   6      11.996  -4.428  -7.215  1.00 37.58           N  \\nATOM    596  CA  CYS B   6      13.369  -4.793  -7.548  1.00 37.58           C  \\nATOM    597  C   CYS B   6      13.515  -5.058  -9.042  1.00 37.58           C  \\nATOM    598  O   CYS B   6      13.104  -6.111  -9.533  1.00 37.58           O  \\nATOM    599  CB  CYS B   6      13.802  -6.027  -6.757  1.00 37.58           C  \\nATOM    600  SG  CYS B   6      13.778  -5.790  -4.967  1.00 37.58           S  \\nATOM    601  N   PRO B   7      13.289  -4.234  -9.972  1.00 32.80           N  \\nATOM    602  CA  PRO B   7      13.792  -4.748 -11.248  1.00 32.80           C  \\nATOM    603  C   PRO B   7      15.033  -5.623 -11.083  1.00 32.80           C  \\nATOM    604  O   PRO B   7      15.298  -6.488 -11.921  1.00 32.80           O  \\nATOM    605  CB  PRO B   7      14.121  -3.477 -12.035  1.00 32.80           C  \\nATOM    606  CG  PRO B   7      14.076  -2.378 -11.022  1.00 32.80           C  \\nATOM    607  CD  PRO B   7      13.473  -2.919  -9.758  1.00 32.80           C  \\nATOM    608  N   ASP B   8      15.813  -5.433  -9.999  1.00 31.91           N  \\nATOM    609  CA  ASP B   8      17.098  -6.117 -10.109  1.00 31.91           C  \\nATOM    610  C   ASP B   8      17.061  -7.471  -9.404  1.00 31.91           C  \\nATOM    611  O   ASP B   8      18.106  -8.080  -9.163  1.00 31.91           O  \\nATOM    612  CB  ASP B   8      18.218  -5.252  -9.529  1.00 31.91           C  \\nATOM    613  CG  ASP B   8      18.346  -3.905 -10.220  1.00 31.91           C  \\nATOM    614  OD1 ASP B   8      17.975  -3.792 -11.408  1.00 31.91           O  \\nATOM    615  OD2 ASP B   8      18.826  -2.950  -9.571  1.00 31.91           O  \\nATOM    616  N   THR B   9      15.945  -7.887  -9.001  1.00 30.07           N  \\nATOM    617  CA  THR B   9      16.124  -9.308  -8.728  1.00 30.07           C  \\nATOM    618  C   THR B   9      15.493 -10.154  -9.831  1.00 30.07           C  \\nATOM    619  O   THR B   9      14.374  -9.879 -10.268  1.00 30.07           O  \\nATOM    620  CB  THR B   9      15.517  -9.698  -7.368  1.00 30.07           C  \\nATOM    621  OG1 THR B   9      14.114  -9.407  -7.377  1.00 30.07           O  \\nATOM    622  CG2 THR B   9      16.177  -8.925  -6.230  1.00 30.07           C  \\nATOM    623  N   PRO B  10      16.296 -10.669 -10.713  1.00 27.88           N  \\nATOM    624  CA  PRO B  10      15.785 -11.636 -11.687  1.00 27.88           C  \\nATOM    625  C   PRO B  10      14.845 -12.664 -11.060  1.00 27.88           C  \\nATOM    626  O   PRO B  10      14.922 -12.923  -9.857  1.00 27.88           O  \\nATOM    627  CB  PRO B  10      17.054 -12.309 -12.215  1.00 27.88           C  \\nATOM    628  CG  PRO B  10      18.155 -11.777 -11.355  1.00 27.88           C  \\nATOM    629  CD  PRO B  10      17.581 -10.736 -10.437  1.00 27.88           C  \\nATOM    630  N   TYR B  11      13.539 -12.352 -11.102  1.00 27.43           N  \\nATOM    631  CA  TYR B  11      12.508 -13.369 -10.927  1.00 27.43           C  \\nATOM    632  C   TYR B  11      13.094 -14.643 -10.330  1.00 27.43           C  \\nATOM    633  O   TYR B  11      13.947 -15.288 -10.943  1.00 27.43           O  \\nATOM    634  CB  TYR B  11      11.830 -13.683 -12.263  1.00 27.43           C  \\nATOM    635  CG  TYR B  11      10.739 -12.708 -12.634  1.00 27.43           C  \\nATOM    636  CD1 TYR B  11       9.446 -12.856 -12.136  1.00 27.43           C  \\nATOM    637  CD2 TYR B  11      10.997 -11.639 -13.484  1.00 27.43           C  \\nATOM    638  CE1 TYR B  11       8.437 -11.961 -12.476  1.00 27.43           C  \\nATOM    639  CE2 TYR B  11       9.996 -10.738 -13.832  1.00 27.43           C  \\nATOM    640  CZ  TYR B  11       8.721 -10.907 -13.323  1.00 27.43           C  \\nATOM    641  OH  TYR B  11       7.726 -10.018 -13.664  1.00 27.43           O  \\nATOM    642  N   LEU B  12      13.435 -14.634  -9.064  1.00 23.86           N  \\nATOM    643  CA  LEU B  12      13.308 -15.956  -8.460  1.00 23.86           C  \\nATOM    644  C   LEU B  12      11.861 -16.436  -8.503  1.00 23.86           C  \\nATOM    645  O   LEU B  12      11.600 -17.639  -8.443  1.00 23.86           O  \\nATOM    646  CB  LEU B  12      13.807 -15.934  -7.013  1.00 23.86           C  \\nATOM    647  CG  LEU B  12      15.292 -15.627  -6.813  1.00 23.86           C  \\nATOM    648  CD1 LEU B  12      15.604 -15.463  -5.329  1.00 23.86           C  \\nATOM    649  CD2 LEU B  12      16.153 -16.726  -7.427  1.00 23.86           C  \\nATOM    650  N   THR C   1      -4.270 -16.499  22.464  1.00 63.35           N  \\nATOM    651  CA  THR C   1      -4.469 -17.732  21.709  1.00 63.35           C  \\nATOM    652  C   THR C   1      -4.464 -17.454  20.209  1.00 63.35           C  \\nATOM    653  O   THR C   1      -4.811 -16.354  19.774  1.00 63.35           O  \\nATOM    654  CB  THR C   1      -5.790 -18.420  22.102  1.00 63.35           C  \\nATOM    655  OG1 THR C   1      -6.878 -17.515  21.878  1.00 63.35           O  \\nATOM    656  CG2 THR C   1      -5.780 -18.831  23.571  1.00 63.35           C  \\nATOM    657  N   ASP C   2      -3.702 -18.208  19.492  1.00 61.79           N  \\nATOM    658  CA  ASP C   2      -3.706 -18.145  18.033  1.00 61.79           C  \\nATOM    659  C   ASP C   2      -4.500 -19.304  17.436  1.00 61.79           C  \\nATOM    660  O   ASP C   2      -4.538 -20.396  18.006  1.00 61.79           O  \\nATOM    661  CB  ASP C   2      -2.275 -18.152  17.492  1.00 61.79           C  \\nATOM    662  CG  ASP C   2      -2.018 -17.049  16.480  1.00 61.79           C  \\nATOM    663  OD1 ASP C   2      -2.985 -16.395  16.033  1.00 61.79           O  \\nATOM    664  OD2 ASP C   2      -0.839 -16.834  16.125  1.00 61.79           O  \\nATOM    665  N   THR C   3      -5.403 -18.980  16.602  1.00 67.28           N  \\nATOM    666  CA  THR C   3      -6.193 -19.997  15.918  1.00 67.28           C  \\nATOM    667  C   THR C   3      -5.548 -20.381  14.589  1.00 67.28           C  \\nATOM    668  O   THR C   3      -5.358 -19.531  13.717  1.00 67.28           O  \\nATOM    669  CB  THR C   3      -7.634 -19.512  15.671  1.00 67.28           C  \\nATOM    670  OG1 THR C   3      -8.154 -18.942  16.878  1.00 67.28           O  \\nATOM    671  CG2 THR C   3      -8.535 -20.664  15.237  1.00 67.28           C  \\nATOM    672  N   ILE C   4      -4.949 -21.526  14.491  1.00 67.51           N  \\nATOM    673  CA  ILE C   4      -4.363 -22.106  13.288  1.00 67.51           C  \\nATOM    674  C   ILE C   4      -5.217 -23.280  12.812  1.00 67.51           C  \\nATOM    675  O   ILE C   4      -5.454 -24.228  13.565  1.00 67.51           O  \\nATOM    676  CB  ILE C   4      -2.909 -22.566  13.533  1.00 67.51           C  \\nATOM    677  CG1 ILE C   4      -2.067 -21.407  14.078  1.00 67.51           C  \\nATOM    678  CG2 ILE C   4      -2.297 -23.129  12.247  1.00 67.51           C  \\nATOM    679  CD1 ILE C   4      -0.744 -21.839  14.695  1.00 67.51           C  \\nATOM    680  N   ASP C   5      -5.791 -23.185  11.657  1.00 70.23           N  \\nATOM    681  CA  ASP C   5      -6.631 -24.188  11.009  1.00 70.23           C  \\nATOM    682  C   ASP C   5      -7.828 -24.550  11.886  1.00 70.23           C  \\nATOM    683  O   ASP C   5      -8.149 -25.729  12.050  1.00 70.23           O  \\nATOM    684  CB  ASP C   5      -5.817 -25.442  10.684  1.00 70.23           C  \\nATOM    685  CG  ASP C   5      -6.300 -26.154   9.433  1.00 70.23           C  \\nATOM    686  OD1 ASP C   5      -7.157 -25.603   8.710  1.00 70.23           O  \\nATOM    687  OD2 ASP C   5      -5.821 -27.279   9.170  1.00 70.23           O  \\nATOM    688  N   GLY C   6      -8.443 -23.626  12.539  1.00 71.94           N  \\nATOM    689  CA  GLY C   6      -9.658 -23.800  13.320  1.00 71.94           C  \\nATOM    690  C   GLY C   6      -9.394 -24.294  14.730  1.00 71.94           C  \\nATOM    691  O   GLY C   6     -10.331 -24.567  15.483  1.00 71.94           O  \\nATOM    692  N   LYS C   7      -8.153 -24.498  14.983  1.00 73.69           N  \\nATOM    693  CA  LYS C   7      -7.796 -24.914  16.336  1.00 73.69           C  \\nATOM    694  C   LYS C   7      -7.153 -23.767  17.111  1.00 73.69           C  \\nATOM    695  O   LYS C   7      -6.400 -22.973  16.545  1.00 73.69           O  \\nATOM    696  CB  LYS C   7      -6.850 -26.115  16.296  1.00 73.69           C  \\nATOM    697  CG  LYS C   7      -7.532 -27.429  15.945  1.00 73.69           C  \\nATOM    698  CD  LYS C   7      -6.588 -28.612  16.115  1.00 73.69           C  \\nATOM    699  CE  LYS C   7      -7.251 -29.921  15.708  1.00 73.69           C  \\nATOM    700  NZ  LYS C   7      -6.359 -31.093  15.952  1.00 73.69           N  \\nATOM    701  N   ASP C   8      -7.459 -23.599  18.403  1.00 71.95           N  \\nATOM    702  CA  ASP C   8      -6.953 -22.528  19.255  1.00 71.95           C  \\nATOM    703  C   ASP C   8      -5.687 -22.963  19.990  1.00 71.95           C  \\nATOM    704  O   ASP C   8      -5.689 -23.974  20.696  1.00 71.95           O  \\nATOM    705  CB  ASP C   8      -8.021 -22.092  20.261  1.00 71.95           C  \\nATOM    706  CG  ASP C   8      -9.080 -21.193  19.647  1.00 71.95           C  \\nATOM    707  OD1 ASP C   8      -8.797 -20.521  18.632  1.00 71.95           O  \\nATOM    708  OD2 ASP C   8     -10.208 -21.156  20.185  1.00 71.95           O  \\nATOM    709  N   TYR C   9      -4.617 -22.273  19.778  1.00 60.14           N  \\nATOM    710  CA  TYR C   9      -3.369 -22.600  20.460  1.00 60.14           C  \\nATOM    711  C   TYR C   9      -2.927 -21.458  21.367  1.00 60.14           C  \\nATOM    712  O   TYR C   9      -3.094 -20.285  21.024  1.00 60.14           O  \\nATOM    713  CB  TYR C   9      -2.268 -22.917  19.444  1.00 60.14           C  \\nATOM    714  CG  TYR C   9      -2.562 -24.124  18.587  1.00 60.14           C  \\nATOM    715  CD1 TYR C   9      -2.249 -25.408  19.028  1.00 60.14           C  \\nATOM    716  CD2 TYR C   9      -3.150 -23.983  17.335  1.00 60.14           C  \\nATOM    717  CE1 TYR C   9      -2.516 -26.524  18.240  1.00 60.14           C  \\nATOM    718  CE2 TYR C   9      -3.422 -25.092  16.539  1.00 60.14           C  \\nATOM    719  CZ  TYR C   9      -3.102 -26.355  17.000  1.00 60.14           C  \\nATOM    720  OH  TYR C   9      -3.368 -27.456  16.216  1.00 60.14           O  \\nATOM    721  N   PRO C  10      -2.565 -21.798  22.597  1.00 63.23           N  \\nATOM    722  CA  PRO C  10      -1.937 -20.726  23.372  1.00 63.23           C  \\nATOM    723  C   PRO C  10      -0.661 -20.197  22.721  1.00 63.23           C  \\nATOM    724  O   PRO C  10       0.107 -20.969  22.142  1.00 63.23           O  \\nATOM    725  CB  PRO C  10      -1.629 -21.395  24.714  1.00 63.23           C  \\nATOM    726  CG  PRO C  10      -1.840 -22.854  24.470  1.00 63.23           C  \\nATOM    727  CD  PRO C  10      -2.519 -23.023  23.142  1.00 63.23           C  \\nATOM    728  N   ILE C  11      -0.465 -18.969  22.584  1.00 62.21           N  \\nATOM    729  CA  ILE C  11       0.657 -18.305  21.930  1.00 62.21           C  \\nATOM    730  C   ILE C  11       1.970 -18.790  22.540  1.00 62.21           C  \\nATOM    731  O   ILE C  11       2.995 -18.849  21.857  1.00 62.21           O  \\nATOM    732  CB  ILE C  11       0.549 -16.768  22.044  1.00 62.21           C  \\nATOM    733  CG1 ILE C  11      -0.700 -16.265  21.311  1.00 62.21           C  \\nATOM    734  CG2 ILE C  11       1.812 -16.096  21.498  1.00 62.21           C  \\nATOM    735  CD1 ILE C  11      -0.955 -14.773  21.475  1.00 62.21           C  \\nATOM    736  N   GLU C  12       1.934 -19.227  23.826  1.00 56.37           N  \\nATOM    737  CA  GLU C  12       3.193 -19.552  24.488  1.00 56.37           C  \\nATOM    738  C   GLU C  12       3.845 -20.781  23.860  1.00 56.37           C  \\nATOM    739  O   GLU C  12       5.071 -20.914  23.871  1.00 56.37           O  \\nATOM    740  CB  GLU C  12       2.970 -19.783  25.985  1.00 56.37           C  \\nATOM    741  CG  GLU C  12       2.959 -18.503  26.809  1.00 56.37           C  \\nATOM    742  CD  GLU C  12       2.786 -18.751  28.299  1.00 56.37           C  \\nATOM    743  OE1 GLU C  12       2.791 -17.773  29.081  1.00 56.37           O  \\nATOM    744  OE2 GLU C  12       2.644 -19.932  28.687  1.00 56.37           O  \\nATOM    745  N   TRP C  13       2.974 -21.702  23.337  1.00 52.00           N  \\nATOM    746  CA  TRP C  13       3.572 -22.943  22.857  1.00 52.00           C  \\nATOM    747  C   TRP C  13       4.050 -22.796  21.416  1.00 52.00           C  \\nATOM    748  O   TRP C  13       4.549 -23.753  20.820  1.00 52.00           O  \\nATOM    749  CB  TRP C  13       2.572 -24.098  22.960  1.00 52.00           C  \\nATOM    750  CG  TRP C  13       2.178 -24.439  24.366  1.00 52.00           C  \\nATOM    751  CD1 TRP C  13       1.354 -23.722  25.188  1.00 52.00           C  \\nATOM    752  CD2 TRP C  13       2.597 -25.583  25.117  1.00 52.00           C  \\nATOM    753  NE1 TRP C  13       1.235 -24.351  26.405  1.00 52.00           N  \\nATOM    754  CE2 TRP C  13       1.987 -25.495  26.388  1.00 52.00           C  \\nATOM    755  CE3 TRP C  13       3.429 -26.675  24.838  1.00 52.00           C  \\nATOM    756  CZ2 TRP C  13       2.184 -26.460  27.379  1.00 52.00           C  \\nATOM    757  CZ3 TRP C  13       3.624 -27.634  25.825  1.00 52.00           C  \\nATOM    758  CH2 TRP C  13       3.003 -27.518  27.080  1.00 52.00           C  \\nATOM    759  N   ILE C  14       3.956 -21.561  20.832  1.00 49.35           N  \\nATOM    760  CA  ILE C  14       4.401 -21.532  19.444  1.00 49.35           C  \\nATOM    761  C   ILE C  14       5.877 -21.145  19.383  1.00 49.35           C  \\nATOM    762  O   ILE C  14       6.225 -19.973  19.543  1.00 49.35           O  \\nATOM    763  CB  ILE C  14       3.556 -20.553  18.599  1.00 49.35           C  \\nATOM    764  CG1 ILE C  14       2.071 -20.926  18.677  1.00 49.35           C  \\nATOM    765  CG2 ILE C  14       4.040 -20.536  17.146  1.00 49.35           C  \\nATOM    766  CD1 ILE C  14       1.144 -19.922  18.006  1.00 49.35           C  \\nATOM    767  N   ILE C  15       6.745 -21.757  20.149  1.00 52.16           N  \\nATOM    768  CA  ILE C  15       8.161 -21.469  19.946  1.00 52.16           C  \\nATOM    769  C   ILE C  15       8.592 -21.949  18.562  1.00 52.16           C  \\nATOM    770  O   ILE C  15       8.437 -23.126  18.230  1.00 52.16           O  \\nATOM    771  CB  ILE C  15       9.034 -22.127  21.038  1.00 52.16           C  \\nATOM    772  CG1 ILE C  15       8.536 -21.729  22.432  1.00 52.16           C  \\nATOM    773  CG2 ILE C  15      10.506 -21.749  20.853  1.00 52.16           C  \\nATOM    774  CD1 ILE C  15       9.287 -22.401  23.573  1.00 52.16           C  \\nATOM    775  N   ILE C  16       8.684 -21.048  17.693  1.00 51.74           N  \\nATOM    776  CA  ILE C  16       9.129 -21.280  16.323  1.00 51.74           C  \\nATOM    777  C   ILE C  16      10.648 -21.434  16.292  1.00 51.74           C  \\nATOM    778  O   ILE C  16      11.378 -20.532  16.710  1.00 51.74           O  \\nATOM    779  CB  ILE C  16       8.687 -20.135  15.384  1.00 51.74           C  \\nATOM    780  CG1 ILE C  16       7.181 -19.884  15.521  1.00 51.74           C  \\nATOM    781  CG2 ILE C  16       9.060 -20.452  13.933  1.00 51.74           C  \\nATOM    782  CD1 ILE C  16       6.681 -18.677  14.738  1.00 51.74           C  \\nATOM    783  N   ASP C  17      11.158 -22.604  16.467  1.00 50.53           N  \\nATOM    784  CA  ASP C  17      12.561 -22.834  16.137  1.00 50.53           C  \\nATOM    785  C   ASP C  17      12.837 -22.524  14.667  1.00 50.53           C  \\nATOM    786  O   ASP C  17      12.345 -23.221  13.777  1.00 50.53           O  \\nATOM    787  CB  ASP C  17      12.957 -24.278  16.453  1.00 50.53           C  \\nATOM    788  CG  ASP C  17      14.450 -24.525  16.321  1.00 50.53           C  \\nATOM    789  OD1 ASP C  17      15.178 -23.625  15.850  1.00 50.53           O  \\nATOM    790  OD2 ASP C  17      14.901 -25.632  16.688  1.00 50.53           O  \\nATOM    791  N   PRO C  18      13.294 -21.354  14.340  1.00 54.37           N  \\nATOM    792  CA  PRO C  18      13.523 -21.055  12.924  1.00 54.37           C  \\nATOM    793  C   PRO C  18      14.165 -22.218  12.172  1.00 54.37           C  \\nATOM    794  O   PRO C  18      14.016 -22.327  10.952  1.00 54.37           O  \\nATOM    795  CB  PRO C  18      14.462 -19.847  12.966  1.00 54.37           C  \\nATOM    796  CG  PRO C  18      14.767 -19.650  14.416  1.00 54.37           C  \\nATOM    797  CD  PRO C  18      13.965 -20.640  15.211  1.00 54.37           C  \\nATOM    798  N   GLU C  19      14.944 -22.949  12.898  1.00 55.11           N  \\nATOM    799  CA  GLU C  19      15.581 -24.055  12.189  1.00 55.11           C  \\nATOM    800  C   GLU C  19      14.579 -25.166  11.886  1.00 55.11           C  \\nATOM    801  O   GLU C  19      14.881 -26.091  11.129  1.00 55.11           O  \\nATOM    802  CB  GLU C  19      16.753 -24.611  13.002  1.00 55.11           C  \\nATOM    803  CG  GLU C  19      17.964 -23.691  13.043  1.00 55.11           C  \\nATOM    804  CD  GLU C  19      19.142 -24.283  13.801  1.00 55.11           C  \\nATOM    805  OE1 GLU C  19      20.223 -23.652  13.833  1.00 55.11           O  \\nATOM    806  OE2 GLU C  19      18.982 -25.388  14.368  1.00 55.11           O  \\nATOM    807  N   ALA C  20      13.523 -25.158  12.684  1.00 54.58           N  \\nATOM    808  CA  ALA C  20      12.509 -26.190  12.486  1.00 54.58           C  \\nATOM    809  C   ALA C  20      11.716 -25.942  11.206  1.00 54.58           C  \\nATOM    810  O   ALA C  20      10.902 -26.775  10.801  1.00 54.58           O  \\nATOM    811  CB  ALA C  20      11.568 -26.250  13.687  1.00 54.58           C  \\nATOM    812  N   PHE C  21      12.021 -24.865  10.502  1.00 49.15           N  \\nATOM    813  CA  PHE C  21      11.395 -24.552   9.223  1.00 49.15           C  \\nATOM    814  C   PHE C  21      11.785 -25.576   8.164  1.00 49.15           C  \\nATOM    815  O   PHE C  21      12.953 -25.664   7.777  1.00 49.15           O  \\nATOM    816  CB  PHE C  21      11.787 -23.145   8.761  1.00 49.15           C  \\nATOM    817  CG  PHE C  21      10.617 -22.213   8.595  1.00 49.15           C  \\nATOM    818  CD1 PHE C  21      10.013 -22.046   7.355  1.00 49.15           C  \\nATOM    819  CD2 PHE C  21      10.122 -21.502   9.681  1.00 49.15           C  \\nATOM    820  CE1 PHE C  21       8.930 -21.184   7.199  1.00 49.15           C  \\nATOM    821  CE2 PHE C  21       9.040 -20.639   9.533  1.00 49.15           C  \\nATOM    822  CZ  PHE C  21       8.446 -20.480   8.291  1.00 49.15           C  \\nATOM    823  N   THR C  22      11.370 -26.823   8.332  1.00 50.46           N  \\nATOM    824  CA  THR C  22      11.738 -27.728   7.249  1.00 50.46           C  \\nATOM    825  C   THR C  22      11.310 -27.158   5.899  1.00 50.46           C  \\nATOM    826  O   THR C  22      10.450 -26.277   5.836  1.00 50.46           O  \\nATOM    827  CB  THR C  22      11.108 -29.119   7.445  1.00 50.46           C  \\nATOM    828  OG1 THR C  22       9.685 -28.984   7.544  1.00 50.46           O  \\nATOM    829  CG2 THR C  22      11.633 -29.787   8.712  1.00 50.46           C  \\nATOM    830  N   GLU C  23      12.295 -26.939   5.072  1.00 51.69           N  \\nATOM    831  CA  GLU C  23      12.155 -26.581   3.664  1.00 51.69           C  \\nATOM    832  C   GLU C  23      10.749 -26.887   3.154  1.00 51.69           C  \\nATOM    833  O   GLU C  23      10.218 -26.163   2.310  1.00 51.69           O  \\nATOM    834  CB  GLU C  23      13.194 -27.319   2.816  1.00 51.69           C  \\nATOM    835  CG  GLU C  23      14.573 -26.676   2.836  1.00 51.69           C  \\nATOM    836  CD  GLU C  23      15.548 -27.316   1.861  1.00 51.69           C  \\nATOM    837  OE1 GLU C  23      16.676 -26.796   1.700  1.00 51.69           O  \\nATOM    838  OE2 GLU C  23      15.181 -28.345   1.252  1.00 51.69           O  \\nATOM    839  N   ASN C  24      10.156 -27.883   3.743  1.00 54.52           N  \\nATOM    840  CA  ASN C  24       8.864 -28.149   3.119  1.00 54.52           C  \\nATOM    841  C   ASN C  24       7.742 -27.369   3.797  1.00 54.52           C  \\nATOM    842  O   ASN C  24       6.574 -27.510   3.431  1.00 54.52           O  \\nATOM    843  CB  ASN C  24       8.557 -29.648   3.140  1.00 54.52           C  \\nATOM    844  CG  ASN C  24       9.730 -30.491   2.678  1.00 54.52           C  \\nATOM    845  OD1 ASN C  24      10.682 -29.979   2.083  1.00 54.52           O  \\nATOM    846  ND2 ASN C  24       9.670 -31.789   2.948  1.00 54.52           N  \\nATOM    847  N   GLY C  25       8.155 -26.385   4.532  1.00 53.27           N  \\nATOM    848  CA  GLY C  25       7.177 -25.451   5.065  1.00 53.27           C  \\nATOM    849  C   GLY C  25       6.254 -26.075   6.094  1.00 53.27           C  \\nATOM    850  O   GLY C  25       5.198 -25.521   6.407  1.00 53.27           O  \\nATOM    851  N   GLU C  26       6.600 -27.292   6.455  1.00 53.20           N  \\nATOM    852  CA  GLU C  26       5.745 -27.941   7.444  1.00 53.20           C  \\nATOM    853  C   GLU C  26       6.181 -27.594   8.864  1.00 53.20           C  \\nATOM    854  O   GLU C  26       7.378 -27.560   9.161  1.00 53.20           O  \\nATOM    855  CB  GLU C  26       5.752 -29.460   7.248  1.00 53.20           C  \\nATOM    856  CG  GLU C  26       4.768 -29.948   6.195  1.00 53.20           C  \\nATOM    857  CD  GLU C  26       4.588 -31.458   6.196  1.00 53.20           C  \\nATOM    858  OE1 GLU C  26       3.758 -31.971   5.412  1.00 53.20           O  \\nATOM    859  OE2 GLU C  26       5.283 -32.133   6.989  1.00 53.20           O  \\nATOM    860  N   TRP C  27       5.361 -26.919   9.508  1.00 56.20           N  \\nATOM    861  CA  TRP C  27       5.598 -26.543  10.898  1.00 56.20           C  \\nATOM    862  C   TRP C  27       5.536 -27.763  11.811  1.00 56.20           C  \\nATOM    863  O   TRP C  27       4.637 -28.596  11.682  1.00 56.20           O  \\nATOM    864  CB  TRP C  27       4.578 -25.496  11.354  1.00 56.20           C  \\nATOM    865  CG  TRP C  27       4.637 -24.212  10.582  1.00 56.20           C  \\nATOM    866  CD1 TRP C  27       3.846 -23.847   9.528  1.00 56.20           C  \\nATOM    867  CD2 TRP C  27       5.539 -23.123  10.803  1.00 56.20           C  \\nATOM    868  NE1 TRP C  27       4.203 -22.596   9.080  1.00 56.20           N  \\nATOM    869  CE2 TRP C  27       5.238 -22.130   9.845  1.00 56.20           C  \\nATOM    870  CE3 TRP C  27       6.573 -22.891  11.720  1.00 56.20           C  \\nATOM    871  CZ2 TRP C  27       5.936 -20.922   9.778  1.00 56.20           C  \\nATOM    872  CZ3 TRP C  27       7.267 -21.688  11.651  1.00 56.20           C  \\nATOM    873  CH2 TRP C  27       6.943 -20.720  10.686  1.00 56.20           C  \\nATOM    874  N   GLU C  28       6.588 -28.226  12.288  1.00 51.30           N  \\nATOM    875  CA  GLU C  28       6.456 -29.220  13.349  1.00 51.30           C  \\nATOM    876  C   GLU C  28       6.186 -28.556  14.696  1.00 51.30           C  \\nATOM    877  O   GLU C  28       6.875 -27.607  15.076  1.00 51.30           O  \\nATOM    878  CB  GLU C  28       7.715 -30.087  13.433  1.00 51.30           C  \\nATOM    879  CG  GLU C  28       7.447 -31.519  13.875  1.00 51.30           C  \\nATOM    880  CD  GLU C  28       8.685 -32.401  13.832  1.00 51.30           C  \\nATOM    881  OE1 GLU C  28       8.563 -33.628  14.048  1.00 51.30           O  \\nATOM    882  OE2 GLU C  28       9.785 -31.860  13.583  1.00 51.30           O  \\nATOM    883  N   ILE C  29       5.015 -28.680  15.088  1.00 55.68           N  \\nATOM    884  CA  ILE C  29       4.639 -28.168  16.401  1.00 55.68           C  \\nATOM    885  C   ILE C  29       5.220 -29.067  17.490  1.00 55.68           C  \\nATOM    886  O   ILE C  29       4.987 -30.278  17.495  1.00 55.68           O  \\nATOM    887  CB  ILE C  29       3.104 -28.069  16.550  1.00 55.68           C  \\nATOM    888  CG1 ILE C  29       2.517 -27.181  15.447  1.00 55.68           C  \\nATOM    889  CG2 ILE C  29       2.730 -27.539  17.938  1.00 55.68           C  \\nATOM    890  CD1 ILE C  29       0.995 -27.153  15.420  1.00 55.68           C  \\nATOM    891  N   ILE C  30       6.355 -28.764  17.921  1.00 50.37           N  \\nATOM    892  CA  ILE C  30       6.840 -29.570  19.036  1.00 50.37           C  \\nATOM    893  C   ILE C  30       6.191 -29.099  20.335  1.00 50.37           C  \\nATOM    894  O   ILE C  30       5.987 -27.899  20.535  1.00 50.37           O  \\nATOM    895  CB  ILE C  30       8.380 -29.505  19.152  1.00 50.37           C  \\nATOM    896  CG1 ILE C  30       8.975 -28.766  17.948  1.00 50.37           C  \\nATOM    897  CG2 ILE C  30       8.971 -30.912  19.277  1.00 50.37           C  \\nATOM    898  CD1 ILE C  30      10.465 -28.479  18.073  1.00 50.37           C  \",\"pdb\",{\"hbondCutoff\": 4.0});\n\tviewer_16665919167499092.setStyle({\"cartoon\": {\"colorscheme\": {\"prop\": \"b\", \"gradient\": \"roygb\", \"min\": 50, \"max\": 90}}});\n\tviewer_16665919167499092.zoomTo();\nviewer_16665919167499092.render();\n});\n</script>",
            "text/html": [
              "<div id=\"3dmolviewer_16665919167499092\"  style=\"position: relative; width: 800px; height: 480px\">\n",
              "        <p id=\"3dmolwarning_16665919167499092\" style=\"background-color:#ffcccc;color:black\">You appear to be running in JupyterLab (or JavaScript failed to load for some other reason).  You need to install the 3dmol extension: <br>\n",
              "        <tt>jupyter labextension install jupyterlab_3dmol</tt></p>\n",
              "        </div>\n",
              "<script>\n",
              "\n",
              "var loadScriptAsync = function(uri){\n",
              "  return new Promise((resolve, reject) => {\n",
              "    var tag = document.createElement('script');\n",
              "    tag.src = uri;\n",
              "    tag.async = true;\n",
              "    tag.onload = () => {\n",
              "      resolve();\n",
              "    };\n",
              "  var firstScriptTag = document.getElementsByTagName('script')[0];\n",
              "  firstScriptTag.parentNode.insertBefore(tag, firstScriptTag);\n",
              "});\n",
              "};\n",
              "\n",
              "if(typeof $3Dmolpromise === 'undefined') {\n",
              "$3Dmolpromise = null;\n",
              "  $3Dmolpromise = loadScriptAsync('https://3dmol.org/build/3Dmol.js');\n",
              "}\n",
              "\n",
              "var viewer_16665919167499092 = null;\n",
              "var warn = document.getElementById(\"3dmolwarning_16665919167499092\");\n",
              "if(warn) {\n",
              "    warn.parentNode.removeChild(warn);\n",
              "}\n",
              "$3Dmolpromise.then(function() {\n",
              "viewer_16665919167499092 = $3Dmol.createViewer($(\"#3dmolviewer_16665919167499092\"),{backgroundColor:\"white\"});\n",
              "viewer_16665919167499092.zoomTo();\n",
              "\tviewer_16665919167499092.addModel(\"ATOM      1  N   ILE A   1     -12.922   5.589  -6.916  1.00 94.34           N  \\nATOM      2  CA  ILE A   1     -12.039   4.428  -6.874  1.00 94.34           C  \\nATOM      3  C   ILE A   1     -12.175   3.726  -5.525  1.00 94.34           C  \\nATOM      4  O   ILE A   1     -12.494   4.361  -4.516  1.00 94.34           O  \\nATOM      5  CB  ILE A   1     -10.568   4.828  -7.124  1.00 94.34           C  \\nATOM      6  CG1 ILE A   1      -9.703   3.579  -7.330  1.00 94.34           C  \\nATOM      7  CG2 ILE A   1     -10.035   5.678  -5.967  1.00 94.34           C  \\nATOM      8  CD1 ILE A   1      -8.321   3.870  -7.898  1.00 94.34           C  \\nATOM      9  N   VAL A   2     -12.182   2.516  -5.517  1.00 95.84           N  \\nATOM     10  CA  VAL A   2     -12.262   1.663  -4.336  1.00 95.84           C  \\nATOM     11  C   VAL A   2     -10.876   1.120  -3.995  1.00 95.84           C  \\nATOM     12  O   VAL A   2     -10.186   0.576  -4.860  1.00 95.84           O  \\nATOM     13  CB  VAL A   2     -13.255   0.497  -4.545  1.00 95.84           C  \\nATOM     14  CG1 VAL A   2     -13.333  -0.376  -3.294  1.00 95.84           C  \\nATOM     15  CG2 VAL A   2     -14.637   1.033  -4.914  1.00 95.84           C  \\nATOM     16  N   CYS A   3     -10.427   1.357  -2.744  1.00 94.71           N  \\nATOM     17  CA  CYS A   3      -9.117   0.883  -2.311  1.00 94.71           C  \\nATOM     18  C   CYS A   3      -9.235   0.017  -1.062  1.00 94.71           C  \\nATOM     19  O   CYS A   3     -10.149   0.203  -0.257  1.00 94.71           O  \\nATOM     20  CB  CYS A   3      -8.184   2.063  -2.038  1.00 94.71           C  \\nATOM     21  SG  CYS A   3      -7.893   3.110  -3.481  1.00 94.71           S  \\nATOM     22  N   HIS A   4      -8.343  -0.937  -0.944  1.00 92.69           N  \\nATOM     23  CA  HIS A   4      -8.211  -1.615   0.341  1.00 92.69           C  \\nATOM     24  C   HIS A   4      -7.571  -0.702   1.381  1.00 92.69           C  \\nATOM     25  O   HIS A   4      -6.711   0.117   1.050  1.00 92.69           O  \\nATOM     26  CB  HIS A   4      -7.389  -2.896   0.189  1.00 92.69           C  \\nATOM     27  CG  HIS A   4      -8.110  -3.990  -0.532  1.00 92.69           C  \\nATOM     28  ND1 HIS A   4      -7.521  -4.740  -1.527  1.00 92.69           N  \\nATOM     29  CD2 HIS A   4      -9.373  -4.460  -0.400  1.00 92.69           C  \\nATOM     30  CE1 HIS A   4      -8.393  -5.627  -1.976  1.00 92.69           C  \\nATOM     31  NE2 HIS A   4      -9.524  -5.478  -1.309  1.00 92.69           N  \\nATOM     32  N   THR A   5      -8.074  -0.744   2.580  1.00 93.11           N  \\nATOM     33  CA  THR A   5      -7.539   0.130   3.619  1.00 93.11           C  \\nATOM     34  C   THR A   5      -7.277  -0.652   4.902  1.00 93.11           C  \\nATOM     35  O   THR A   5      -8.003  -1.597   5.219  1.00 93.11           O  \\nATOM     36  CB  THR A   5      -8.497   1.299   3.913  1.00 93.11           C  \\nATOM     37  OG1 THR A   5      -7.959   2.095   4.976  1.00 93.11           O  \\nATOM     38  CG2 THR A   5      -9.876   0.791   4.322  1.00 93.11           C  \\nATOM     39  N   THR A   6      -6.234  -0.347   5.547  1.00 89.82           N  \\nATOM     40  CA  THR A   6      -5.920  -0.919   6.852  1.00 89.82           C  \\nATOM     41  C   THR A   6      -6.648  -0.167   7.962  1.00 89.82           C  \\nATOM     42  O   THR A   6      -6.424  -0.427   9.146  1.00 89.82           O  \\nATOM     43  CB  THR A   6      -4.404  -0.897   7.121  1.00 89.82           C  \\nATOM     44  OG1 THR A   6      -3.908   0.431   6.915  1.00 89.82           O  \\nATOM     45  CG2 THR A   6      -3.666  -1.853   6.190  1.00 89.82           C  \\nATOM     46  N   ALA A   7      -7.477   0.925   7.599  1.00 87.35           N  \\nATOM     47  CA  ALA A   7      -8.196   1.728   8.585  1.00 87.35           C  \\nATOM     48  C   ALA A   7      -9.347   0.938   9.202  1.00 87.35           C  \\nATOM     49  O   ALA A   7      -9.906   1.340  10.225  1.00 87.35           O  \\nATOM     50  CB  ALA A   7      -8.719   3.012   7.945  1.00 87.35           C  \\nATOM     51  N   THR A   8      -9.596  -0.250   8.618  1.00 83.39           N  \\nATOM     52  CA  THR A   8     -10.650  -1.121   9.128  1.00 83.39           C  \\nATOM     53  C   THR A   8     -10.104  -2.516   9.420  1.00 83.39           C  \\nATOM     54  O   THR A   8      -9.064  -2.906   8.886  1.00 83.39           O  \\nATOM     55  CB  THR A   8     -11.821  -1.223   8.134  1.00 83.39           C  \\nATOM     56  OG1 THR A   8     -11.343  -1.761   6.895  1.00 83.39           O  \\nATOM     57  CG2 THR A   8     -12.443   0.146   7.875  1.00 83.39           C  \\nATOM     58  N   SER A   9     -10.526  -3.234  10.428  1.00 75.32           N  \\nATOM     59  CA  SER A   9     -10.216  -4.634  10.696  1.00 75.32           C  \\nATOM     60  C   SER A   9     -11.470  -5.499  10.636  1.00 75.32           C  \\nATOM     61  O   SER A   9     -12.418  -5.280  11.393  1.00 75.32           O  \\nATOM     62  CB  SER A   9      -9.548  -4.783  12.064  1.00 75.32           C  \\nATOM     63  OG  SER A   9      -9.191  -6.134  12.305  1.00 75.32           O  \\nATOM     64  N   PRO A  10     -11.471  -6.513   9.720  1.00 83.22           N  \\nATOM     65  CA  PRO A  10     -10.302  -6.795   8.884  1.00 83.22           C  \\nATOM     66  C   PRO A  10     -10.132  -5.788   7.748  1.00 83.22           C  \\nATOM     67  O   PRO A  10     -10.974  -4.903   7.572  1.00 83.22           O  \\nATOM     68  CB  PRO A  10     -10.591  -8.194   8.334  1.00 83.22           C  \\nATOM     69  CG  PRO A  10     -12.079  -8.259   8.218  1.00 83.22           C  \\nATOM     70  CD  PRO A  10     -12.680  -7.443   9.326  1.00 83.22           C  \\nATOM     71  N   ILE A  11      -8.948  -5.741   7.153  1.00 85.52           N  \\nATOM     72  CA  ILE A  11      -8.723  -4.932   5.961  1.00 85.52           C  \\nATOM     73  C   ILE A  11      -9.872  -5.133   4.976  1.00 85.52           C  \\nATOM     74  O   ILE A  11     -10.290  -6.265   4.723  1.00 85.52           O  \\nATOM     75  CB  ILE A  11      -7.375  -5.278   5.290  1.00 85.52           C  \\nATOM     76  CG1 ILE A  11      -6.208  -4.898   6.209  1.00 85.52           C  \\nATOM     77  CG2 ILE A  11      -7.252  -4.579   3.933  1.00 85.52           C  \\nATOM     78  CD1 ILE A  11      -4.855  -5.414   5.737  1.00 85.52           C  \\nATOM     79  N   SER A  12     -10.490  -4.137   4.475  1.00 89.55           N  \\nATOM     80  CA  SER A  12     -11.624  -4.162   3.556  1.00 89.55           C  \\nATOM     81  C   SER A  12     -11.466  -3.120   2.454  1.00 89.55           C  \\nATOM     82  O   SER A  12     -10.613  -2.234   2.548  1.00 89.55           O  \\nATOM     83  CB  SER A  12     -12.932  -3.924   4.311  1.00 89.55           C  \\nATOM     84  OG  SER A  12     -12.949  -2.631   4.892  1.00 89.55           O  \\nATOM     85  N   ALA A  13     -12.217  -3.277   1.353  1.00 91.37           N  \\nATOM     86  CA  ALA A  13     -12.267  -2.294   0.275  1.00 91.37           C  \\nATOM     87  C   ALA A  13     -13.280  -1.195   0.580  1.00 91.37           C  \\nATOM     88  O   ALA A  13     -14.406  -1.478   0.996  1.00 91.37           O  \\nATOM     89  CB  ALA A  13     -12.606  -2.973  -1.050  1.00 91.37           C  \\nATOM     90  N   VAL A  14     -12.924   0.033   0.462  1.00 95.11           N  \\nATOM     91  CA  VAL A  14     -13.792   1.172   0.741  1.00 95.11           C  \\nATOM     92  C   VAL A  14     -13.790   2.128  -0.450  1.00 95.11           C  \\nATOM     93  O   VAL A  14     -12.824   2.174  -1.215  1.00 95.11           O  \\nATOM     94  CB  VAL A  14     -13.357   1.917   2.023  1.00 95.11           C  \\nATOM     95  CG1 VAL A  14     -13.341   0.967   3.220  1.00 95.11           C  \\nATOM     96  CG2 VAL A  14     -11.984   2.558   1.827  1.00 95.11           C  \\nATOM     97  N   THR A  15     -14.911   2.838  -0.539  1.00 96.93           N  \\nATOM     98  CA  THR A  15     -14.959   3.917  -1.520  1.00 96.93           C  \\nATOM     99  C   THR A  15     -14.176   5.130  -1.028  1.00 96.93           C  \\nATOM    100  O   THR A  15     -14.410   5.620   0.079  1.00 96.93           O  \\nATOM    101  CB  THR A  15     -16.410   4.329  -1.827  1.00 96.93           C  \\nATOM    102  OG1 THR A  15     -17.137   3.185  -2.294  1.00 96.93           O  \\nATOM    103  CG2 THR A  15     -16.460   5.418  -2.892  1.00 96.93           C  \\nATOM    104  N   CYS A  16     -13.220   5.588  -1.828  1.00 97.00           N  \\nATOM    105  CA  CYS A  16     -12.381   6.720  -1.451  1.00 97.00           C  \\nATOM    106  C   CYS A  16     -13.197   8.005  -1.386  1.00 97.00           C  \\nATOM    107  O   CYS A  16     -14.191   8.152  -2.098  1.00 97.00           O  \\nATOM    108  CB  CYS A  16     -11.229   6.886  -2.442  1.00 97.00           C  \\nATOM    109  SG  CYS A  16     -10.068   5.502  -2.447  1.00 97.00           S  \\nATOM    110  N   PRO A  17     -12.747   8.984  -0.565  1.00 96.95           N  \\nATOM    111  CA  PRO A  17     -13.383  10.304  -0.553  1.00 96.95           C  \\nATOM    112  C   PRO A  17     -13.176  11.071  -1.857  1.00 96.95           C  \\nATOM    113  O   PRO A  17     -12.286  10.734  -2.641  1.00 96.95           O  \\nATOM    114  CB  PRO A  17     -12.694  11.016   0.614  1.00 96.95           C  \\nATOM    115  CG  PRO A  17     -12.052   9.921   1.404  1.00 96.95           C  \\nATOM    116  CD  PRO A  17     -11.761   8.774   0.480  1.00 96.95           C  \\nATOM    117  N   PRO A  18     -14.004  12.104  -2.118  1.00 97.15           N  \\nATOM    118  CA  PRO A  18     -13.814  12.921  -3.319  1.00 97.15           C  \\nATOM    119  C   PRO A  18     -12.438  13.580  -3.374  1.00 97.15           C  \\nATOM    120  O   PRO A  18     -11.939  14.061  -2.353  1.00 97.15           O  \\nATOM    121  CB  PRO A  18     -14.920  13.974  -3.207  1.00 97.15           C  \\nATOM    122  CG  PRO A  18     -15.940  13.362  -2.303  1.00 97.15           C  \\nATOM    123  CD  PRO A  18     -15.236  12.461  -1.330  1.00 97.15           C  \\nATOM    124  N   GLY A  19     -11.795  13.480  -4.493  1.00 96.56           N  \\nATOM    125  CA  GLY A  19     -10.491  14.088  -4.703  1.00 96.56           C  \\nATOM    126  C   GLY A  19      -9.345  13.101  -4.581  1.00 96.56           C  \\nATOM    127  O   GLY A  19      -8.209  13.414  -4.941  1.00 96.56           O  \\nATOM    128  N   GLU A  20      -9.632  11.931  -3.953  1.00 96.42           N  \\nATOM    129  CA  GLU A  20      -8.610  10.897  -3.824  1.00 96.42           C  \\nATOM    130  C   GLU A  20      -8.761   9.833  -4.908  1.00 96.42           C  \\nATOM    131  O   GLU A  20      -9.571   8.914  -4.774  1.00 96.42           O  \\nATOM    132  CB  GLU A  20      -8.671  10.249  -2.439  1.00 96.42           C  \\nATOM    133  CG  GLU A  20      -8.436  11.223  -1.293  1.00 96.42           C  \\nATOM    134  CD  GLU A  20      -8.326  10.541   0.061  1.00 96.42           C  \\nATOM    135  OE1 GLU A  20      -8.117  11.241   1.078  1.00 96.42           O  \\nATOM    136  OE2 GLU A  20      -8.450   9.297   0.106  1.00 96.42           O  \\nATOM    137  N   ASN A  21      -7.880   9.878  -5.827  1.00 95.62           N  \\nATOM    138  CA  ASN A  21      -8.034   9.013  -6.991  1.00 95.62           C  \\nATOM    139  C   ASN A  21      -6.903   7.993  -7.086  1.00 95.62           C  \\nATOM    140  O   ASN A  21      -6.600   7.495  -8.171  1.00 95.62           O  \\nATOM    141  CB  ASN A  21      -8.107   9.845  -8.273  1.00 95.62           C  \\nATOM    142  CG  ASN A  21      -9.349  10.713  -8.336  1.00 95.62           C  \\nATOM    143  OD1 ASN A  21     -10.428  10.306  -7.898  1.00 95.62           O  \\nATOM    144  ND2 ASN A  21      -9.205  11.915  -8.881  1.00 95.62           N  \\nATOM    145  N   LEU A  22      -6.173   7.780  -5.934  1.00 95.20           N  \\nATOM    146  CA  LEU A  22      -5.085   6.809  -5.891  1.00 95.20           C  \\nATOM    147  C   LEU A  22      -5.260   5.849  -4.719  1.00 95.20           C  \\nATOM    148  O   LEU A  22      -5.726   6.247  -3.649  1.00 95.20           O  \\nATOM    149  CB  LEU A  22      -3.734   7.521  -5.785  1.00 95.20           C  \\nATOM    150  CG  LEU A  22      -3.356   8.435  -6.952  1.00 95.20           C  \\nATOM    151  CD1 LEU A  22      -2.152   9.294  -6.584  1.00 95.20           C  \\nATOM    152  CD2 LEU A  22      -3.070   7.613  -8.204  1.00 95.20           C  \\nATOM    153  N   CYS A  23      -5.022   4.594  -5.020  1.00 94.80           N  \\nATOM    154  CA  CYS A  23      -4.795   3.640  -3.940  1.00 94.80           C  \\nATOM    155  C   CYS A  23      -3.307   3.482  -3.656  1.00 94.80           C  \\nATOM    156  O   CYS A  23      -2.493   3.462  -4.582  1.00 94.80           O  \\nATOM    157  CB  CYS A  23      -5.406   2.283  -4.286  1.00 94.80           C  \\nATOM    158  SG  CYS A  23      -7.157   2.361  -4.719  1.00 94.80           S  \\nATOM    159  N   TYR A  24      -2.906   3.606  -2.404  1.00 91.98           N  \\nATOM    160  CA  TYR A  24      -1.481   3.430  -2.149  1.00 91.98           C  \\nATOM    161  C   TYR A  24      -1.234   2.231  -1.240  1.00 91.98           C  \\nATOM    162  O   TYR A  24      -2.130   1.804  -0.508  1.00 91.98           O  \\nATOM    163  CB  TYR A  24      -0.886   4.693  -1.519  1.00 91.98           C  \\nATOM    164  CG  TYR A  24      -1.403   4.980  -0.130  1.00 91.98           C  \\nATOM    165  CD1 TYR A  24      -2.520   5.789   0.065  1.00 91.98           C  \\nATOM    166  CD2 TYR A  24      -0.775   4.443   0.989  1.00 91.98           C  \\nATOM    167  CE1 TYR A  24      -2.998   6.057   1.344  1.00 91.98           C  \\nATOM    168  CE2 TYR A  24      -1.244   4.705   2.272  1.00 91.98           C  \\nATOM    169  CZ  TYR A  24      -2.355   5.512   2.439  1.00 91.98           C  \\nATOM    170  OH  TYR A  24      -2.825   5.774   3.706  1.00 91.98           O  \\nATOM    171  N   ARG A  25      -0.203   1.667  -1.342  1.00 89.67           N  \\nATOM    172  CA  ARG A  25       0.331   0.554  -0.563  1.00 89.67           C  \\nATOM    173  C   ARG A  25       1.717   0.882  -0.018  1.00 89.67           C  \\nATOM    174  O   ARG A  25       2.631   1.199  -0.782  1.00 89.67           O  \\nATOM    175  CB  ARG A  25       0.389  -0.717  -1.413  1.00 89.67           C  \\nATOM    176  CG  ARG A  25       0.881  -1.941  -0.657  1.00 89.67           C  \\nATOM    177  CD  ARG A  25       0.933  -3.173  -1.550  1.00 89.67           C  \\nATOM    178  NE  ARG A  25       1.257  -4.377  -0.790  1.00 89.67           N  \\nATOM    179  CZ  ARG A  25       2.368  -5.093  -0.942  1.00 89.67           C  \\nATOM    180  NH1 ARG A  25       3.286  -4.739  -1.833  1.00 89.67           N  \\nATOM    181  NH2 ARG A  25       2.562  -6.172  -0.197  1.00 89.67           N  \\nATOM    182  N   LYS A  26       1.788   0.923   1.366  1.00 85.52           N  \\nATOM    183  CA  LYS A  26       3.054   1.190   2.042  1.00 85.52           C  \\nATOM    184  C   LYS A  26       3.603  -0.073   2.700  1.00 85.52           C  \\nATOM    185  O   LYS A  26       2.912  -0.717   3.492  1.00 85.52           O  \\nATOM    186  CB  LYS A  26       2.882   2.293   3.087  1.00 85.52           C  \\nATOM    187  CG  LYS A  26       2.694   3.682   2.496  1.00 85.52           C  \\nATOM    188  CD  LYS A  26       2.595   4.744   3.583  1.00 85.52           C  \\nATOM    189  CE  LYS A  26       2.174   6.092   3.013  1.00 85.52           C  \\nATOM    190  NZ  LYS A  26       1.985   7.113   4.087  1.00 85.52           N  \\nATOM    191  N   MET A  27       4.735  -0.374   2.452  1.00 81.60           N  \\nATOM    192  CA  MET A  27       5.408  -1.554   2.986  1.00 81.60           C  \\nATOM    193  C   MET A  27       6.688  -1.167   3.719  1.00 81.60           C  \\nATOM    194  O   MET A  27       7.434  -0.300   3.259  1.00 81.60           O  \\nATOM    195  CB  MET A  27       5.727  -2.545   1.865  1.00 81.60           C  \\nATOM    196  CG  MET A  27       6.170  -3.912   2.362  1.00 81.60           C  \\nATOM    197  SD  MET A  27       6.326  -5.137   1.004  1.00 81.60           S  \\nATOM    198  CE  MET A  27       7.646  -4.364   0.027  1.00 81.60           C  \\nATOM    199  N   TRP A  28       6.820  -1.735   4.869  1.00 78.01           N  \\nATOM    200  CA  TRP A  28       8.089  -1.594   5.575  1.00 78.01           C  \\nATOM    201  C   TRP A  28       9.122  -2.581   5.041  1.00 78.01           C  \\nATOM    202  O   TRP A  28       8.800  -3.739   4.767  1.00 78.01           O  \\nATOM    203  CB  TRP A  28       7.894  -1.804   7.079  1.00 78.01           C  \\nATOM    204  CG  TRP A  28       9.061  -1.364   7.911  1.00 78.01           C  \\nATOM    205  CD1 TRP A  28       9.342  -0.093   8.331  1.00 78.01           C  \\nATOM    206  CD2 TRP A  28      10.108  -2.195   8.421  1.00 78.01           C  \\nATOM    207  NE1 TRP A  28      10.501  -0.085   9.072  1.00 78.01           N  \\nATOM    208  CE2 TRP A  28      10.990  -1.361   9.143  1.00 78.01           C  \\nATOM    209  CE3 TRP A  28      10.386  -3.566   8.339  1.00 78.01           C  \\nATOM    210  CZ2 TRP A  28      12.132  -1.854   9.779  1.00 78.01           C  \\nATOM    211  CZ3 TRP A  28      11.523  -4.055   8.973  1.00 78.01           C  \\nATOM    212  CH2 TRP A  28      12.380  -3.199   9.682  1.00 78.01           C  \\nATOM    213  N   CYS A  29      10.285  -2.113   4.696  1.00 72.07           N  \\nATOM    214  CA  CYS A  29      11.374  -3.002   4.305  1.00 72.07           C  \\nATOM    215  C   CYS A  29      12.664  -2.634   5.028  1.00 72.07           C  \\nATOM    216  O   CYS A  29      12.748  -1.579   5.659  1.00 72.07           O  \\nATOM    217  CB  CYS A  29      11.593  -2.950   2.794  1.00 72.07           C  \\nATOM    218  SG  CYS A  29      11.834  -1.280   2.150  1.00 72.07           S  \\nATOM    219  N   ASP A  30      13.507  -3.544   5.127  1.00 67.69           N  \\nATOM    220  CA  ASP A  30      14.838  -3.245   5.646  1.00 67.69           C  \\nATOM    221  C   ASP A  30      15.676  -2.498   4.611  1.00 67.69           C  \\nATOM    222  O   ASP A  30      15.144  -1.998   3.618  1.00 67.69           O  \\nATOM    223  CB  ASP A  30      15.550  -4.531   6.071  1.00 67.69           C  \\nATOM    224  CG  ASP A  30      15.736  -5.512   4.926  1.00 67.69           C  \\nATOM    225  OD1 ASP A  30      15.610  -5.107   3.750  1.00 67.69           O  \\nATOM    226  OD2 ASP A  30      16.008  -6.700   5.202  1.00 67.69           O  \\nATOM    227  N   ALA A  31      16.850  -2.144   4.945  1.00 63.03           N  \\nATOM    228  CA  ALA A  31      17.728  -1.263   4.179  1.00 63.03           C  \\nATOM    229  C   ALA A  31      17.853  -1.736   2.734  1.00 63.03           C  \\nATOM    230  O   ALA A  31      18.084  -0.931   1.828  1.00 63.03           O  \\nATOM    231  CB  ALA A  31      19.105  -1.186   4.832  1.00 63.03           C  \\nATOM    232  N   PHE A  32      17.565  -3.015   2.522  1.00 60.83           N  \\nATOM    233  CA  PHE A  32      17.897  -3.506   1.189  1.00 60.83           C  \\nATOM    234  C   PHE A  32      16.644  -3.965   0.453  1.00 60.83           C  \\nATOM    235  O   PHE A  32      16.682  -4.213  -0.754  1.00 60.83           O  \\nATOM    236  CB  PHE A  32      18.907  -4.654   1.274  1.00 60.83           C  \\nATOM    237  CG  PHE A  32      20.278  -4.225   1.721  1.00 60.83           C  \\nATOM    238  CD1 PHE A  32      21.193  -3.710   0.811  1.00 60.83           C  \\nATOM    239  CD2 PHE A  32      20.653  -4.336   3.054  1.00 60.83           C  \\nATOM    240  CE1 PHE A  32      22.463  -3.312   1.222  1.00 60.83           C  \\nATOM    241  CE2 PHE A  32      21.920  -3.940   3.473  1.00 60.83           C  \\nATOM    242  CZ  PHE A  32      22.824  -3.430   2.555  1.00 60.83           C  \\nATOM    243  N   CYS A  33      15.431  -3.619   0.992  1.00 59.60           N  \\nATOM    244  CA  CYS A  33      14.131  -4.005   0.453  1.00 59.60           C  \\nATOM    245  C   CYS A  33      14.227  -5.319  -0.313  1.00 59.60           C  \\nATOM    246  O   CYS A  33      13.670  -5.448  -1.405  1.00 59.60           O  \\nATOM    247  CB  CYS A  33      13.583  -2.910  -0.461  1.00 59.60           C  \\nATOM    248  SG  CYS A  33      12.774  -1.559   0.425  1.00 59.60           S  \\nATOM    249  N   SER A  34      15.188  -6.081  -0.004  1.00 58.03           N  \\nATOM    250  CA  SER A  34      15.268  -7.374  -0.674  1.00 58.03           C  \\nATOM    251  C   SER A  34      14.325  -8.388  -0.036  1.00 58.03           C  \\nATOM    252  O   SER A  34      13.942  -9.373  -0.671  1.00 58.03           O  \\nATOM    253  CB  SER A  34      16.701  -7.908  -0.640  1.00 58.03           C  \\nATOM    254  OG  SER A  34      17.165  -8.020   0.694  1.00 58.03           O  \\nATOM    255  N   SER A  35      14.031  -8.043   1.175  1.00 55.62           N  \\nATOM    256  CA  SER A  35      13.116  -8.992   1.801  1.00 55.62           C  \\nATOM    257  C   SER A  35      11.662  -8.597   1.565  1.00 55.62           C  \\nATOM    258  O   SER A  35      11.382  -7.489   1.103  1.00 55.62           O  \\nATOM    259  CB  SER A  35      13.389  -9.089   3.303  1.00 55.62           C  \\nATOM    260  OG  SER A  35      13.352  -7.807   3.905  1.00 55.62           O  \\nATOM    261  N   ARG A  36      10.877  -9.544   1.334  1.00 59.39           N  \\nATOM    262  CA  ARG A  36       9.421  -9.464   1.297  1.00 59.39           C  \\nATOM    263  C   ARG A  36       8.900  -8.479   2.338  1.00 59.39           C  \\nATOM    264  O   ARG A  36       9.139  -8.648   3.535  1.00 59.39           O  \\nATOM    265  CB  ARG A  36       8.800 -10.844   1.525  1.00 59.39           C  \\nATOM    266  CG  ARG A  36       9.016 -11.814   0.374  1.00 59.39           C  \\nATOM    267  CD  ARG A  36       8.090 -13.019   0.471  1.00 59.39           C  \\nATOM    268  NE  ARG A  36       8.282 -13.938  -0.647  1.00 59.39           N  \\nATOM    269  CZ  ARG A  36       7.630 -15.086  -0.805  1.00 59.39           C  \\nATOM    270  NH1 ARG A  36       6.726 -15.480   0.084  1.00 59.39           N  \\nATOM    271  NH2 ARG A  36       7.884 -15.847  -1.860  1.00 59.39           N  \\nATOM    272  N   GLY A  37       8.970  -7.247   2.072  1.00 63.85           N  \\nATOM    273  CA  GLY A  37       8.458  -6.237   2.985  1.00 63.85           C  \\nATOM    274  C   GLY A  37       7.071  -6.556   3.510  1.00 63.85           C  \\nATOM    275  O   GLY A  37       6.438  -7.515   3.064  1.00 63.85           O  \\nATOM    276  N   LYS A  38       6.749  -6.050   4.668  1.00 73.76           N  \\nATOM    277  CA  LYS A  38       5.436  -6.147   5.299  1.00 73.76           C  \\nATOM    278  C   LYS A  38       4.577  -4.930   4.970  1.00 73.76           C  \\nATOM    279  O   LYS A  38       5.054  -3.794   5.020  1.00 73.76           O  \\nATOM    280  CB  LYS A  38       5.578  -6.294   6.815  1.00 73.76           C  \\nATOM    281  CG  LYS A  38       4.267  -6.575   7.535  1.00 73.76           C  \\nATOM    282  CD  LYS A  38       4.471  -6.693   9.040  1.00 73.76           C  \\nATOM    283  CE  LYS A  38       3.146  -6.855   9.773  1.00 73.76           C  \\nATOM    284  NZ  LYS A  38       3.338  -6.939  11.252  1.00 73.76           N  \\nATOM    285  N   VAL A  39       3.383  -5.203   4.526  1.00 77.57           N  \\nATOM    286  CA  VAL A  39       2.461  -4.093   4.306  1.00 77.57           C  \\nATOM    287  C   VAL A  39       2.129  -3.425   5.638  1.00 77.57           C  \\nATOM    288  O   VAL A  39       1.666  -4.083   6.572  1.00 77.57           O  \\nATOM    289  CB  VAL A  39       1.165  -4.562   3.607  1.00 77.57           C  \\nATOM    290  CG1 VAL A  39       0.166  -3.412   3.494  1.00 77.57           C  \\nATOM    291  CG2 VAL A  39       1.482  -5.137   2.228  1.00 77.57           C  \\nATOM    292  N   VAL A  40       2.324  -2.182   5.746  1.00 81.36           N  \\nATOM    293  CA  VAL A  40       2.064  -1.493   7.006  1.00 81.36           C  \\nATOM    294  C   VAL A  40       0.827  -0.610   6.866  1.00 81.36           C  \\nATOM    295  O   VAL A  40       0.160  -0.303   7.857  1.00 81.36           O  \\nATOM    296  CB  VAL A  40       3.277  -0.646   7.450  1.00 81.36           C  \\nATOM    297  CG1 VAL A  40       4.422  -1.544   7.915  1.00 81.36           C  \\nATOM    298  CG2 VAL A  40       3.736   0.266   6.313  1.00 81.36           C  \\nATOM    299  N   GLU A  41       0.533  -0.284   5.522  1.00 88.79           N  \\nATOM    300  CA  GLU A  41      -0.587   0.638   5.363  1.00 88.79           C  \\nATOM    301  C   GLU A  41      -1.139   0.595   3.941  1.00 88.79           C  \\nATOM    302  O   GLU A  41      -0.378   0.497   2.976  1.00 88.79           O  \\nATOM    303  CB  GLU A  41      -0.164   2.065   5.720  1.00 88.79           C  \\nATOM    304  CG  GLU A  41      -1.325   3.044   5.818  1.00 88.79           C  \\nATOM    305  CD  GLU A  41      -0.900   4.437   6.253  1.00 88.79           C  \\nATOM    306  OE1 GLU A  41      -1.774   5.322   6.397  1.00 88.79           O  \\nATOM    307  OE2 GLU A  41       0.318   4.647   6.451  1.00 88.79           O  \\nATOM    308  N   LEU A  42      -2.417   0.563   3.882  1.00 90.99           N  \\nATOM    309  CA  LEU A  42      -3.172   0.704   2.642  1.00 90.99           C  \\nATOM    310  C   LEU A  42      -4.166   1.857   2.739  1.00 90.99           C  \\nATOM    311  O   LEU A  42      -4.637   2.186   3.830  1.00 90.99           O  \\nATOM    312  CB  LEU A  42      -3.911  -0.596   2.313  1.00 90.99           C  \\nATOM    313  CG  LEU A  42      -3.064  -1.869   2.287  1.00 90.99           C  \\nATOM    314  CD1 LEU A  42      -3.959  -3.100   2.195  1.00 90.99           C  \\nATOM    315  CD2 LEU A  42      -2.077  -1.831   1.125  1.00 90.99           C  \\nATOM    316  N   GLY A  43      -4.415   2.483   1.601  1.00 94.75           N  \\nATOM    317  CA  GLY A  43      -5.447   3.504   1.695  1.00 94.75           C  \\nATOM    318  C   GLY A  43      -5.581   4.334   0.433  1.00 94.75           C  \\nATOM    319  O   GLY A  43      -5.088   3.945  -0.628  1.00 94.75           O  \\nATOM    320  N   CYS A  44      -6.438   5.431   0.604  1.00 95.85           N  \\nATOM    321  CA  CYS A  44      -6.706   6.387  -0.464  1.00 95.85           C  \\nATOM    322  C   CYS A  44      -5.829   7.625  -0.321  1.00 95.85           C  \\nATOM    323  O   CYS A  44      -5.461   8.005   0.792  1.00 95.85           O  \\nATOM    324  CB  CYS A  44      -8.180   6.793  -0.464  1.00 95.85           C  \\nATOM    325  SG  CYS A  44      -9.319   5.397  -0.589  1.00 95.85           S  \\nATOM    326  N   ALA A  45      -5.447   8.129  -1.517  1.00 95.04           N  \\nATOM    327  CA  ALA A  45      -4.626   9.334  -1.438  1.00 95.04           C  \\nATOM    328  C   ALA A  45      -4.891  10.257  -2.625  1.00 95.04           C  \\nATOM    329  O   ALA A  45      -5.234   9.794  -3.715  1.00 95.04           O  \\nATOM    330  CB  ALA A  45      -3.146   8.966  -1.374  1.00 95.04           C  \\nATOM    331  N   ALA A  46      -4.859  11.510  -2.447  1.00 95.36           N  \\nATOM    332  CA  ALA A  46      -4.935  12.480  -3.536  1.00 95.36           C  \\nATOM    333  C   ALA A  46      -3.629  12.524  -4.324  1.00 95.36           C  \\nATOM    334  O   ALA A  46      -3.638  12.707  -5.544  1.00 95.36           O  \\nATOM    335  CB  ALA A  46      -5.272  13.866  -2.993  1.00 95.36           C  \\nATOM    336  N   THR A  47      -2.483  12.407  -3.610  1.00 93.34           N  \\nATOM    337  CA  THR A  47      -1.132  12.312  -4.151  1.00 93.34           C  \\nATOM    338  C   THR A  47      -0.395  11.113  -3.561  1.00 93.34           C  \\nATOM    339  O   THR A  47      -0.647  10.724  -2.418  1.00 93.34           O  \\nATOM    340  CB  THR A  47      -0.329  13.597  -3.876  1.00 93.34           C  \\nATOM    341  OG1 THR A  47      -0.268  13.823  -2.462  1.00 93.34           O  \\nATOM    342  CG2 THR A  47      -0.978  14.805  -4.544  1.00 93.34           C  \\nATOM    343  N   CYS A  48       0.401  10.458  -4.400  1.00 91.33           N  \\nATOM    344  CA  CYS A  48       1.151   9.298  -3.932  1.00 91.33           C  \\nATOM    345  C   CYS A  48       2.110   9.684  -2.812  1.00 91.33           C  \\nATOM    346  O   CYS A  48       2.974  10.544  -2.997  1.00 91.33           O  \\nATOM    347  CB  CYS A  48       1.929   8.662  -5.084  1.00 91.33           C  \\nATOM    348  SG  CYS A  48       2.543   7.003  -4.719  1.00 91.33           S  \\nATOM    349  N   PRO A  49       1.905   9.125  -1.596  1.00 89.33           N  \\nATOM    350  CA  PRO A  49       2.775   9.491  -0.476  1.00 89.33           C  \\nATOM    351  C   PRO A  49       4.258   9.326  -0.802  1.00 89.33           C  \\nATOM    352  O   PRO A  49       4.623   8.483  -1.626  1.00 89.33           O  \\nATOM    353  CB  PRO A  49       2.349   8.524   0.632  1.00 89.33           C  \\nATOM    354  CG  PRO A  49       0.990   8.054   0.226  1.00 89.33           C  \\nATOM    355  CD  PRO A  49       0.901   8.086  -1.273  1.00 89.33           C  \\nATOM    356  N   SER A  50       5.049  10.109  -0.211  1.00 85.49           N  \\nATOM    357  CA  SER A  50       6.489  10.023  -0.431  1.00 85.49           C  \\nATOM    358  C   SER A  50       7.089   8.825   0.297  1.00 85.49           C  \\nATOM    359  O   SER A  50       6.610   8.439   1.366  1.00 85.49           O  \\nATOM    360  CB  SER A  50       7.180  11.308   0.028  1.00 85.49           C  \\nATOM    361  OG  SER A  50       6.652  12.433  -0.653  1.00 85.49           O  \\nATOM    362  N   LYS A  51       8.097   8.302  -0.292  1.00 80.14           N  \\nATOM    363  CA  LYS A  51       8.842   7.187   0.285  1.00 80.14           C  \\nATOM    364  C   LYS A  51       9.764   7.661   1.404  1.00 80.14           C  \\nATOM    365  O   LYS A  51      10.404   8.709   1.286  1.00 80.14           O  \\nATOM    366  CB  LYS A  51       9.653   6.468  -0.794  1.00 80.14           C  \\nATOM    367  CG  LYS A  51      10.596   5.403  -0.253  1.00 80.14           C  \\nATOM    368  CD  LYS A  51      11.481   4.829  -1.352  1.00 80.14           C  \\nATOM    369  CE  LYS A  51      12.546   3.900  -0.785  1.00 80.14           C  \\nATOM    370  NZ  LYS A  51      13.442   3.367  -1.855  1.00 80.14           N  \\nATOM    371  N   LYS A  52       9.692   7.073   2.599  1.00 78.11           N  \\nATOM    372  CA  LYS A  52      10.639   7.254   3.696  1.00 78.11           C  \\nATOM    373  C   LYS A  52      11.712   6.168   3.681  1.00 78.11           C  \\nATOM    374  O   LYS A  52      11.601   5.189   2.940  1.00 78.11           O  \\nATOM    375  CB  LYS A  52       9.910   7.251   5.041  1.00 78.11           C  \\nATOM    376  CG  LYS A  52       8.915   8.390   5.208  1.00 78.11           C  \\nATOM    377  CD  LYS A  52       8.212   8.324   6.557  1.00 78.11           C  \\nATOM    378  CE  LYS A  52       7.181   9.435   6.706  1.00 78.11           C  \\nATOM    379  NZ  LYS A  52       6.555   9.432   8.062  1.00 78.11           N  \\nATOM    380  N   PRO A  53      12.819   6.419   4.402  1.00 76.43           N  \\nATOM    381  CA  PRO A  53      13.803   5.334   4.438  1.00 76.43           C  \\nATOM    382  C   PRO A  53      13.215   4.020   4.945  1.00 76.43           C  \\nATOM    383  O   PRO A  53      12.447   4.015   5.911  1.00 76.43           O  \\nATOM    384  CB  PRO A  53      14.873   5.860   5.398  1.00 76.43           C  \\nATOM    385  CG  PRO A  53      14.753   7.349   5.325  1.00 76.43           C  \\nATOM    386  CD  PRO A  53      13.310   7.701   5.108  1.00 76.43           C  \\nATOM    387  N   TYR A  54      13.314   2.997   4.275  1.00 73.62           N  \\nATOM    388  CA  TYR A  54      12.935   1.638   4.643  1.00 73.62           C  \\nATOM    389  C   TYR A  54      11.472   1.370   4.310  1.00 73.62           C  \\nATOM    390  O   TYR A  54      10.836   0.512   4.925  1.00 73.62           O  \\nATOM    391  CB  TYR A  54      13.183   1.396   6.135  1.00 73.62           C  \\nATOM    392  CG  TYR A  54      14.569   1.785   6.591  1.00 73.62           C  \\nATOM    393  CD1 TYR A  54      15.687   1.066   6.174  1.00 73.62           C  \\nATOM    394  CD2 TYR A  54      14.762   2.869   7.439  1.00 73.62           C  \\nATOM    395  CE1 TYR A  54      16.966   1.420   6.593  1.00 73.62           C  \\nATOM    396  CE2 TYR A  54      16.036   3.231   7.865  1.00 73.62           C  \\nATOM    397  CZ  TYR A  54      17.130   2.502   7.437  1.00 73.62           C  \\nATOM    398  OH  TYR A  54      18.393   2.856   7.854  1.00 73.62           O  \\nATOM    399  N   GLU A  55      10.962   2.276   3.578  1.00 76.13           N  \\nATOM    400  CA  GLU A  55       9.581   2.080   3.148  1.00 76.13           C  \\nATOM    401  C   GLU A  55       9.471   2.085   1.626  1.00 76.13           C  \\nATOM    402  O   GLU A  55      10.275   2.722   0.942  1.00 76.13           O  \\nATOM    403  CB  GLU A  55       8.674   3.160   3.744  1.00 76.13           C  \\nATOM    404  CG  GLU A  55       8.440   3.009   5.240  1.00 76.13           C  \\nATOM    405  CD  GLU A  55       7.469   4.035   5.802  1.00 76.13           C  \\nATOM    406  OE1 GLU A  55       7.214   4.023   7.028  1.00 76.13           O  \\nATOM    407  OE2 GLU A  55       6.958   4.858   5.010  1.00 76.13           O  \\nATOM    408  N   GLU A  56       8.590   1.345   1.192  1.00 80.73           N  \\nATOM    409  CA  GLU A  56       8.184   1.399  -0.209  1.00 80.73           C  \\nATOM    410  C   GLU A  56       6.711   1.774  -0.342  1.00 80.73           C  \\nATOM    411  O   GLU A  56       5.864   1.251   0.384  1.00 80.73           O  \\nATOM    412  CB  GLU A  56       8.450   0.059  -0.898  1.00 80.73           C  \\nATOM    413  CG  GLU A  56       9.923  -0.213  -1.168  1.00 80.73           C  \\nATOM    414  CD  GLU A  56      10.168  -0.951  -2.474  1.00 80.73           C  \\nATOM    415  OE1 GLU A  56      11.334  -1.015  -2.925  1.00 80.73           O  \\nATOM    416  OE2 GLU A  56       9.186  -1.469  -3.051  1.00 80.73           O  \\nATOM    417  N   VAL A  57       6.522   2.748  -1.241  1.00 85.27           N  \\nATOM    418  CA  VAL A  57       5.159   3.205  -1.490  1.00 85.27           C  \\nATOM    419  C   VAL A  57       4.802   2.990  -2.959  1.00 85.27           C  \\nATOM    420  O   VAL A  57       5.566   3.364  -3.852  1.00 85.27           O  \\nATOM    421  CB  VAL A  57       4.980   4.692  -1.110  1.00 85.27           C  \\nATOM    422  CG1 VAL A  57       3.549   5.151  -1.383  1.00 85.27           C  \\nATOM    423  CG2 VAL A  57       5.346   4.915   0.356  1.00 85.27           C  \\nATOM    424  N   THR A  58       3.746   2.342  -3.197  1.00 87.44           N  \\nATOM    425  CA  THR A  58       3.216   2.166  -4.545  1.00 87.44           C  \\nATOM    426  C   THR A  58       1.804   2.735  -4.649  1.00 87.44           C  \\nATOM    427  O   THR A  58       1.020   2.642  -3.702  1.00 87.44           O  \\nATOM    428  CB  THR A  58       3.205   0.681  -4.951  1.00 87.44           C  \\nATOM    429  OG1 THR A  58       2.413  -0.059  -4.015  1.00 87.44           O  \\nATOM    430  CG2 THR A  58       4.618   0.106  -4.970  1.00 87.44           C  \\nATOM    431  N   CYS A  59       1.525   3.366  -5.801  1.00 90.54           N  \\nATOM    432  CA  CYS A  59       0.201   3.924  -6.053  1.00 90.54           C  \\nATOM    433  C   CYS A  59      -0.390   3.367  -7.342  1.00 90.54           C  \\nATOM    434  O   CYS A  59       0.347   2.954  -8.240  1.00 90.54           O  \\nATOM    435  CB  CYS A  59       0.267   5.449  -6.129  1.00 90.54           C  \\nATOM    436  SG  CYS A  59       0.744   6.236  -4.575  1.00 90.54           S  \\nATOM    437  N   CYS A  60      -1.629   3.205  -7.336  1.00 91.71           N  \\nATOM    438  CA  CYS A  60      -2.364   2.768  -8.517  1.00 91.71           C  \\nATOM    439  C   CYS A  60      -3.696   3.500  -8.633  1.00 91.71           C  \\nATOM    440  O   CYS A  60      -4.112   4.190  -7.701  1.00 91.71           O  \\nATOM    441  CB  CYS A  60      -2.604   1.259  -8.471  1.00 91.71           C  \\nATOM    442  SG  CYS A  60      -3.572   0.719  -7.045  1.00 91.71           S  \\nATOM    443  N   SER A  61      -4.396   3.443  -9.827  1.00 93.82           N  \\nATOM    444  CA  SER A  61      -5.550   4.314 -10.022  1.00 93.82           C  \\nATOM    445  C   SER A  61      -6.774   3.518 -10.463  1.00 93.82           C  \\nATOM    446  O   SER A  61      -7.692   4.070 -11.075  1.00 93.82           O  \\nATOM    447  CB  SER A  61      -5.236   5.397 -11.055  1.00 93.82           C  \\nATOM    448  OG  SER A  61      -4.754   4.822 -12.257  1.00 93.82           O  \\nATOM    449  N   THR A  62      -6.756   2.197 -10.212  1.00 93.88           N  \\nATOM    450  CA  THR A  62      -7.940   1.401 -10.513  1.00 93.88           C  \\nATOM    451  C   THR A  62      -8.516   0.786  -9.240  1.00 93.88           C  \\nATOM    452  O   THR A  62      -7.877   0.815  -8.186  1.00 93.88           O  \\nATOM    453  CB  THR A  62      -7.622   0.286 -11.526  1.00 93.88           C  \\nATOM    454  OG1 THR A  62      -6.554  -0.523 -11.017  1.00 93.88           O  \\nATOM    455  CG2 THR A  62      -7.205   0.869 -12.872  1.00 93.88           C  \\nATOM    456  N   ASP A  63      -9.724   0.254  -9.279  1.00 92.78           N  \\nATOM    457  CA  ASP A  63     -10.389  -0.313  -8.109  1.00 92.78           C  \\nATOM    458  C   ASP A  63      -9.616  -1.513  -7.566  1.00 92.78           C  \\nATOM    459  O   ASP A  63      -9.191  -2.381  -8.331  1.00 92.78           O  \\nATOM    460  CB  ASP A  63     -11.823  -0.722  -8.453  1.00 92.78           C  \\nATOM    461  CG  ASP A  63     -12.758   0.465  -8.601  1.00 92.78           C  \\nATOM    462  OD1 ASP A  63     -12.395   1.585  -8.182  1.00 92.78           O  \\nATOM    463  OD2 ASP A  63     -13.871   0.278  -9.140  1.00 92.78           O  \\nATOM    464  N   LYS A  64      -9.410  -1.361  -6.268  1.00 89.36           N  \\nATOM    465  CA  LYS A  64      -8.840  -2.482  -5.526  1.00 89.36           C  \\nATOM    466  C   LYS A  64      -7.467  -2.862  -6.073  1.00 89.36           C  \\nATOM    467  O   LYS A  64      -7.153  -4.047  -6.208  1.00 89.36           O  \\nATOM    468  CB  LYS A  64      -9.776  -3.690  -5.574  1.00 89.36           C  \\nATOM    469  CG  LYS A  64     -11.142  -3.441  -4.952  1.00 89.36           C  \\nATOM    470  CD  LYS A  64     -12.035  -4.671  -5.050  1.00 89.36           C  \\nATOM    471  CE  LYS A  64     -13.473  -4.352  -4.664  1.00 89.36           C  \\nATOM    472  NZ  LYS A  64     -14.356  -5.550  -4.781  1.00 89.36           N  \\nATOM    473  N   CYS A  65      -6.649  -1.936  -6.579  1.00 88.14           N  \\nATOM    474  CA  CYS A  65      -5.333  -2.196  -7.151  1.00 88.14           C  \\nATOM    475  C   CYS A  65      -4.275  -2.304  -6.059  1.00 88.14           C  \\nATOM    476  O   CYS A  65      -3.087  -2.444  -6.353  1.00 88.14           O  \\nATOM    477  CB  CYS A  65      -4.950  -1.092  -8.137  1.00 88.14           C  \\nATOM    478  SG  CYS A  65      -4.789   0.539  -7.378  1.00 88.14           S  \\nATOM    479  N   ASN A  66      -4.543  -2.112  -4.778  1.00 88.22           N  \\nATOM    480  CA  ASN A  66      -3.641  -2.281  -3.643  1.00 88.22           C  \\nATOM    481  C   ASN A  66      -4.071  -3.445  -2.754  1.00 88.22           C  \\nATOM    482  O   ASN A  66      -4.425  -3.245  -1.591  1.00 88.22           O  \\nATOM    483  CB  ASN A  66      -3.559  -0.991  -2.826  1.00 88.22           C  \\nATOM    484  CG  ASN A  66      -4.894  -0.590  -2.230  1.00 88.22           C  \\nATOM    485  OD1 ASN A  66      -5.949  -1.044  -2.680  1.00 88.22           O  \\nATOM    486  ND2 ASN A  66      -4.857   0.262  -1.213  1.00 88.22           N  \\nATOM    487  N   PRO A  67      -4.081  -4.680  -3.361  1.00 76.64           N  \\nATOM    488  CA  PRO A  67      -4.731  -5.802  -2.680  1.00 76.64           C  \\nATOM    489  C   PRO A  67      -4.091  -6.124  -1.332  1.00 76.64           C  \\nATOM    490  O   PRO A  67      -2.925  -5.793  -1.103  1.00 76.64           O  \\nATOM    491  CB  PRO A  67      -4.551  -6.963  -3.662  1.00 76.64           C  \\nATOM    492  CG  PRO A  67      -3.343  -6.600  -4.464  1.00 76.64           C  \\nATOM    493  CD  PRO A  67      -3.257  -5.103  -4.546  1.00 76.64           C  \\nATOM    494  N   HIS A  68      -4.824  -6.657  -0.424  1.00 71.98           N  \\nATOM    495  CA  HIS A  68      -4.502  -7.286   0.852  1.00 71.98           C  \\nATOM    496  C   HIS A  68      -3.282  -8.192   0.728  1.00 71.98           C  \\nATOM    497  O   HIS A  68      -3.102  -8.862  -0.292  1.00 71.98           O  \\nATOM    498  CB  HIS A  68      -5.698  -8.085   1.373  1.00 71.98           C  \\nATOM    499  CG  HIS A  68      -5.531  -8.568   2.778  1.00 71.98           C  \\nATOM    500  ND1 HIS A  68      -4.902  -9.755   3.087  1.00 71.98           N  \\nATOM    501  CD2 HIS A  68      -5.909  -8.021   3.958  1.00 71.98           C  \\nATOM    502  CE1 HIS A  68      -4.902  -9.917   4.400  1.00 71.98           C  \\nATOM    503  NE2 HIS A  68      -5.507  -8.880   4.951  1.00 71.98           N  \\nATOM    504  N   PRO A  69      -2.289  -8.159   1.639  1.00 64.48           N  \\nATOM    505  CA  PRO A  69      -1.140  -9.048   1.451  1.00 64.48           C  \\nATOM    506  C   PRO A  69      -1.548 -10.506   1.252  1.00 64.48           C  \\nATOM    507  O   PRO A  69      -0.839 -11.264   0.585  1.00 64.48           O  \\nATOM    508  CB  PRO A  69      -0.345  -8.876   2.748  1.00 64.48           C  \\nATOM    509  CG  PRO A  69      -1.026  -7.757   3.468  1.00 64.48           C  \\nATOM    510  CD  PRO A  69      -2.307  -7.438   2.751  1.00 64.48           C  \\nATOM    511  N   LYS A  70      -2.612 -10.917   1.842  1.00 57.92           N  \\nATOM    512  CA  LYS A  70      -2.943 -12.319   1.603  1.00 57.92           C  \\nATOM    513  C   LYS A  70      -3.648 -12.496   0.262  1.00 57.92           C  \\nATOM    514  O   LYS A  70      -3.970 -13.619  -0.133  1.00 57.92           O  \\nATOM    515  CB  LYS A  70      -3.820 -12.863   2.732  1.00 57.92           C  \\nATOM    516  CG  LYS A  70      -3.109 -12.964   4.074  1.00 57.92           C  \\nATOM    517  CD  LYS A  70      -3.926 -13.766   5.080  1.00 57.92           C  \\nATOM    518  CE  LYS A  70      -3.239 -13.825   6.438  1.00 57.92           C  \\nATOM    519  NZ  LYS A  70      -4.030 -14.620   7.424  1.00 57.92           N  \\nATOM    520  N   GLN A  71      -3.894 -11.388  -0.392  1.00 44.71           N  \\nATOM    521  CA  GLN A  71      -4.543 -11.564  -1.687  1.00 44.71           C  \\nATOM    522  C   GLN A  71      -3.512 -11.696  -2.805  1.00 44.71           C  \\nATOM    523  O   GLN A  71      -2.551 -10.926  -2.865  1.00 44.71           O  \\nATOM    524  CB  GLN A  71      -5.486 -10.396  -1.979  1.00 44.71           C  \\nATOM    525  CG  GLN A  71      -6.810 -10.473  -1.230  1.00 44.71           C  \\nATOM    526  CD  GLN A  71      -7.803  -9.420  -1.684  1.00 44.71           C  \\nATOM    527  OE1 GLN A  71      -7.441  -8.465  -2.380  1.00 44.71           O  \\nATOM    528  NE2 GLN A  71      -9.062  -9.585  -1.294  1.00 44.71           N  \\nATOM    529  N   ARG A  72      -3.045 -12.885  -2.965  1.00 38.15           N  \\nATOM    530  CA  ARG A  72      -2.279 -13.122  -4.184  1.00 38.15           C  \\nATOM    531  C   ARG A  72      -2.847 -12.323  -5.352  1.00 38.15           C  \\nATOM    532  O   ARG A  72      -4.063 -12.157  -5.465  1.00 38.15           O  \\nATOM    533  CB  ARG A  72      -2.263 -14.613  -4.528  1.00 38.15           C  \\nATOM    534  CG  ARG A  72      -1.258 -15.420  -3.721  1.00 38.15           C  \\nATOM    535  CD  ARG A  72      -0.875 -16.712  -4.429  1.00 38.15           C  \\nATOM    536  NE  ARG A  72      -1.709 -17.831  -3.999  1.00 38.15           N  \\nATOM    537  CZ  ARG A  72      -1.343 -19.109  -4.040  1.00 38.15           C  \\nATOM    538  NH1 ARG A  72      -0.145 -19.457  -4.495  1.00 38.15           N  \\nATOM    539  NH2 ARG A  72      -2.181 -20.047  -3.623  1.00 38.15           N  \\nATOM    540  N   PRO A  73      -2.193 -11.351  -5.823  1.00 39.85           N  \\nATOM    541  CA  PRO A  73      -2.871 -10.856  -7.023  1.00 39.85           C  \\nATOM    542  C   PRO A  73      -3.473 -11.977  -7.867  1.00 39.85           C  \\nATOM    543  O   PRO A  73      -2.965 -13.102  -7.858  1.00 39.85           O  \\nATOM    544  CB  PRO A  73      -1.755 -10.138  -7.787  1.00 39.85           C  \\nATOM    545  CG  PRO A  73      -0.563 -10.220  -6.888  1.00 39.85           C  \\nATOM    546  CD  PRO A  73      -0.910 -11.092  -5.715  1.00 39.85           C  \\nATOM    547  N   GLY A  74      -4.765 -12.199  -7.720  1.00 26.77           N  \\nATOM    548  CA  GLY A  74      -5.372 -12.941  -8.813  1.00 26.77           C  \\nATOM    549  C   GLY A  74      -4.542 -12.921 -10.083  1.00 26.77           C  \\nATOM    550  O   GLY A  74      -4.736 -13.753 -10.971  1.00 26.77           O  \\nATOM    551  N   VAL B   1       0.078  -1.309 -13.985  1.00 31.29           N  \\nATOM    552  CA  VAL B   1       1.503  -1.616 -14.068  1.00 31.29           C  \\nATOM    553  C   VAL B   1       2.113  -1.617 -12.668  1.00 31.29           C  \\nATOM    554  O   VAL B   1       2.060  -0.609 -11.960  1.00 31.29           O  \\nATOM    555  CB  VAL B   1       2.248  -0.611 -14.974  1.00 31.29           C  \\nATOM    556  CG1 VAL B   1       3.693  -1.054 -15.197  1.00 31.29           C  \\nATOM    557  CG2 VAL B   1       1.521  -0.456 -16.309  1.00 31.29           C  \\nATOM    558  N   TYR B   2       2.007  -2.649 -11.965  1.00 35.57           N  \\nATOM    559  CA  TYR B   2       2.483  -2.978 -10.626  1.00 35.57           C  \\nATOM    560  C   TYR B   2       4.000  -2.853 -10.541  1.00 35.57           C  \\nATOM    561  O   TYR B   2       4.725  -3.472 -11.324  1.00 35.57           O  \\nATOM    562  CB  TYR B   2       2.054  -4.396 -10.236  1.00 35.57           C  \\nATOM    563  CG  TYR B   2       0.967  -4.434  -9.189  1.00 35.57           C  \\nATOM    564  CD1 TYR B   2       1.281  -4.432  -7.831  1.00 35.57           C  \\nATOM    565  CD2 TYR B   2      -0.374  -4.473  -9.554  1.00 35.57           C  \\nATOM    566  CE1 TYR B   2       0.284  -4.470  -6.863  1.00 35.57           C  \\nATOM    567  CE2 TYR B   2      -1.380  -4.511  -8.593  1.00 35.57           C  \\nATOM    568  CZ  TYR B   2      -1.042  -4.508  -7.253  1.00 35.57           C  \\nATOM    569  OH  TYR B   2      -2.033  -4.545  -6.298  1.00 35.57           O  \\nATOM    570  N   TYR B   3       4.430  -1.713 -10.138  1.00 30.82           N  \\nATOM    571  CA  TYR B   3       5.869  -1.604  -9.925  1.00 30.82           C  \\nATOM    572  C   TYR B   3       6.345  -2.609  -8.883  1.00 30.82           C  \\nATOM    573  O   TYR B   3       5.884  -2.592  -7.739  1.00 30.82           O  \\nATOM    574  CB  TYR B   3       6.242  -0.184  -9.489  1.00 30.82           C  \\nATOM    575  CG  TYR B   3       6.166   0.833 -10.602  1.00 30.82           C  \\nATOM    576  CD1 TYR B   3       7.242   1.031 -11.465  1.00 30.82           C  \\nATOM    577  CD2 TYR B   3       5.021   1.597 -10.793  1.00 30.82           C  \\nATOM    578  CE1 TYR B   3       7.178   1.968 -12.491  1.00 30.82           C  \\nATOM    579  CE2 TYR B   3       4.945   2.537 -11.816  1.00 30.82           C  \\nATOM    580  CZ  TYR B   3       6.027   2.715 -12.659  1.00 30.82           C  \\nATOM    581  OH  TYR B   3       5.958   3.644 -13.673  1.00 30.82           O  \\nATOM    582  N   THR B   4       6.232  -3.856  -9.170  1.00 38.87           N  \\nATOM    583  CA  THR B   4       6.806  -4.829  -8.247  1.00 38.87           C  \\nATOM    584  C   THR B   4       8.280  -4.528  -7.992  1.00 38.87           C  \\nATOM    585  O   THR B   4       8.954  -3.934  -8.837  1.00 38.87           O  \\nATOM    586  CB  THR B   4       6.658  -6.264  -8.785  1.00 38.87           C  \\nATOM    587  OG1 THR B   4       7.187  -6.326 -10.115  1.00 38.87           O  \\nATOM    588  CG2 THR B   4       5.195  -6.693  -8.812  1.00 38.87           C  \\nATOM    589  N   CYS B   5       8.605  -4.168  -6.759  1.00 37.39           N  \\nATOM    590  CA  CYS B   5       9.837  -3.762  -6.092  1.00 37.39           C  \\nATOM    591  C   CYS B   5      10.941  -4.789  -6.313  1.00 37.39           C  \\nATOM    592  O   CYS B   5      10.667  -5.984  -6.436  1.00 37.39           O  \\nATOM    593  CB  CYS B   5       9.599  -3.570  -4.595  1.00 37.39           C  \\nATOM    594  SG  CYS B   5       9.356  -5.115  -3.692  1.00 37.39           S  \\nATOM    595  N   CYS B   6      11.996  -4.428  -7.215  1.00 37.58           N  \\nATOM    596  CA  CYS B   6      13.369  -4.793  -7.548  1.00 37.58           C  \\nATOM    597  C   CYS B   6      13.515  -5.058  -9.042  1.00 37.58           C  \\nATOM    598  O   CYS B   6      13.104  -6.111  -9.533  1.00 37.58           O  \\nATOM    599  CB  CYS B   6      13.802  -6.027  -6.757  1.00 37.58           C  \\nATOM    600  SG  CYS B   6      13.778  -5.790  -4.967  1.00 37.58           S  \\nATOM    601  N   PRO B   7      13.289  -4.234  -9.972  1.00 32.80           N  \\nATOM    602  CA  PRO B   7      13.792  -4.748 -11.248  1.00 32.80           C  \\nATOM    603  C   PRO B   7      15.033  -5.623 -11.083  1.00 32.80           C  \\nATOM    604  O   PRO B   7      15.298  -6.488 -11.921  1.00 32.80           O  \\nATOM    605  CB  PRO B   7      14.121  -3.477 -12.035  1.00 32.80           C  \\nATOM    606  CG  PRO B   7      14.076  -2.378 -11.022  1.00 32.80           C  \\nATOM    607  CD  PRO B   7      13.473  -2.919  -9.758  1.00 32.80           C  \\nATOM    608  N   ASP B   8      15.813  -5.433  -9.999  1.00 31.91           N  \\nATOM    609  CA  ASP B   8      17.098  -6.117 -10.109  1.00 31.91           C  \\nATOM    610  C   ASP B   8      17.061  -7.471  -9.404  1.00 31.91           C  \\nATOM    611  O   ASP B   8      18.106  -8.080  -9.163  1.00 31.91           O  \\nATOM    612  CB  ASP B   8      18.218  -5.252  -9.529  1.00 31.91           C  \\nATOM    613  CG  ASP B   8      18.346  -3.905 -10.220  1.00 31.91           C  \\nATOM    614  OD1 ASP B   8      17.975  -3.792 -11.408  1.00 31.91           O  \\nATOM    615  OD2 ASP B   8      18.826  -2.950  -9.571  1.00 31.91           O  \\nATOM    616  N   THR B   9      15.945  -7.887  -9.001  1.00 30.07           N  \\nATOM    617  CA  THR B   9      16.124  -9.308  -8.728  1.00 30.07           C  \\nATOM    618  C   THR B   9      15.493 -10.154  -9.831  1.00 30.07           C  \\nATOM    619  O   THR B   9      14.374  -9.879 -10.268  1.00 30.07           O  \\nATOM    620  CB  THR B   9      15.517  -9.698  -7.368  1.00 30.07           C  \\nATOM    621  OG1 THR B   9      14.114  -9.407  -7.377  1.00 30.07           O  \\nATOM    622  CG2 THR B   9      16.177  -8.925  -6.230  1.00 30.07           C  \\nATOM    623  N   PRO B  10      16.296 -10.669 -10.713  1.00 27.88           N  \\nATOM    624  CA  PRO B  10      15.785 -11.636 -11.687  1.00 27.88           C  \\nATOM    625  C   PRO B  10      14.845 -12.664 -11.060  1.00 27.88           C  \\nATOM    626  O   PRO B  10      14.922 -12.923  -9.857  1.00 27.88           O  \\nATOM    627  CB  PRO B  10      17.054 -12.309 -12.215  1.00 27.88           C  \\nATOM    628  CG  PRO B  10      18.155 -11.777 -11.355  1.00 27.88           C  \\nATOM    629  CD  PRO B  10      17.581 -10.736 -10.437  1.00 27.88           C  \\nATOM    630  N   TYR B  11      13.539 -12.352 -11.102  1.00 27.43           N  \\nATOM    631  CA  TYR B  11      12.508 -13.369 -10.927  1.00 27.43           C  \\nATOM    632  C   TYR B  11      13.094 -14.643 -10.330  1.00 27.43           C  \\nATOM    633  O   TYR B  11      13.947 -15.288 -10.943  1.00 27.43           O  \\nATOM    634  CB  TYR B  11      11.830 -13.683 -12.263  1.00 27.43           C  \\nATOM    635  CG  TYR B  11      10.739 -12.708 -12.634  1.00 27.43           C  \\nATOM    636  CD1 TYR B  11       9.446 -12.856 -12.136  1.00 27.43           C  \\nATOM    637  CD2 TYR B  11      10.997 -11.639 -13.484  1.00 27.43           C  \\nATOM    638  CE1 TYR B  11       8.437 -11.961 -12.476  1.00 27.43           C  \\nATOM    639  CE2 TYR B  11       9.996 -10.738 -13.832  1.00 27.43           C  \\nATOM    640  CZ  TYR B  11       8.721 -10.907 -13.323  1.00 27.43           C  \\nATOM    641  OH  TYR B  11       7.726 -10.018 -13.664  1.00 27.43           O  \\nATOM    642  N   LEU B  12      13.435 -14.634  -9.064  1.00 23.86           N  \\nATOM    643  CA  LEU B  12      13.308 -15.956  -8.460  1.00 23.86           C  \\nATOM    644  C   LEU B  12      11.861 -16.436  -8.503  1.00 23.86           C  \\nATOM    645  O   LEU B  12      11.600 -17.639  -8.443  1.00 23.86           O  \\nATOM    646  CB  LEU B  12      13.807 -15.934  -7.013  1.00 23.86           C  \\nATOM    647  CG  LEU B  12      15.292 -15.627  -6.813  1.00 23.86           C  \\nATOM    648  CD1 LEU B  12      15.604 -15.463  -5.329  1.00 23.86           C  \\nATOM    649  CD2 LEU B  12      16.153 -16.726  -7.427  1.00 23.86           C  \\nATOM    650  N   THR C   1      -4.270 -16.499  22.464  1.00 63.35           N  \\nATOM    651  CA  THR C   1      -4.469 -17.732  21.709  1.00 63.35           C  \\nATOM    652  C   THR C   1      -4.464 -17.454  20.209  1.00 63.35           C  \\nATOM    653  O   THR C   1      -4.811 -16.354  19.774  1.00 63.35           O  \\nATOM    654  CB  THR C   1      -5.790 -18.420  22.102  1.00 63.35           C  \\nATOM    655  OG1 THR C   1      -6.878 -17.515  21.878  1.00 63.35           O  \\nATOM    656  CG2 THR C   1      -5.780 -18.831  23.571  1.00 63.35           C  \\nATOM    657  N   ASP C   2      -3.702 -18.208  19.492  1.00 61.79           N  \\nATOM    658  CA  ASP C   2      -3.706 -18.145  18.033  1.00 61.79           C  \\nATOM    659  C   ASP C   2      -4.500 -19.304  17.436  1.00 61.79           C  \\nATOM    660  O   ASP C   2      -4.538 -20.396  18.006  1.00 61.79           O  \\nATOM    661  CB  ASP C   2      -2.275 -18.152  17.492  1.00 61.79           C  \\nATOM    662  CG  ASP C   2      -2.018 -17.049  16.480  1.00 61.79           C  \\nATOM    663  OD1 ASP C   2      -2.985 -16.395  16.033  1.00 61.79           O  \\nATOM    664  OD2 ASP C   2      -0.839 -16.834  16.125  1.00 61.79           O  \\nATOM    665  N   THR C   3      -5.403 -18.980  16.602  1.00 67.28           N  \\nATOM    666  CA  THR C   3      -6.193 -19.997  15.918  1.00 67.28           C  \\nATOM    667  C   THR C   3      -5.548 -20.381  14.589  1.00 67.28           C  \\nATOM    668  O   THR C   3      -5.358 -19.531  13.717  1.00 67.28           O  \\nATOM    669  CB  THR C   3      -7.634 -19.512  15.671  1.00 67.28           C  \\nATOM    670  OG1 THR C   3      -8.154 -18.942  16.878  1.00 67.28           O  \\nATOM    671  CG2 THR C   3      -8.535 -20.664  15.237  1.00 67.28           C  \\nATOM    672  N   ILE C   4      -4.949 -21.526  14.491  1.00 67.51           N  \\nATOM    673  CA  ILE C   4      -4.363 -22.106  13.288  1.00 67.51           C  \\nATOM    674  C   ILE C   4      -5.217 -23.280  12.812  1.00 67.51           C  \\nATOM    675  O   ILE C   4      -5.454 -24.228  13.565  1.00 67.51           O  \\nATOM    676  CB  ILE C   4      -2.909 -22.566  13.533  1.00 67.51           C  \\nATOM    677  CG1 ILE C   4      -2.067 -21.407  14.078  1.00 67.51           C  \\nATOM    678  CG2 ILE C   4      -2.297 -23.129  12.247  1.00 67.51           C  \\nATOM    679  CD1 ILE C   4      -0.744 -21.839  14.695  1.00 67.51           C  \\nATOM    680  N   ASP C   5      -5.791 -23.185  11.657  1.00 70.23           N  \\nATOM    681  CA  ASP C   5      -6.631 -24.188  11.009  1.00 70.23           C  \\nATOM    682  C   ASP C   5      -7.828 -24.550  11.886  1.00 70.23           C  \\nATOM    683  O   ASP C   5      -8.149 -25.729  12.050  1.00 70.23           O  \\nATOM    684  CB  ASP C   5      -5.817 -25.442  10.684  1.00 70.23           C  \\nATOM    685  CG  ASP C   5      -6.300 -26.154   9.433  1.00 70.23           C  \\nATOM    686  OD1 ASP C   5      -7.157 -25.603   8.710  1.00 70.23           O  \\nATOM    687  OD2 ASP C   5      -5.821 -27.279   9.170  1.00 70.23           O  \\nATOM    688  N   GLY C   6      -8.443 -23.626  12.539  1.00 71.94           N  \\nATOM    689  CA  GLY C   6      -9.658 -23.800  13.320  1.00 71.94           C  \\nATOM    690  C   GLY C   6      -9.394 -24.294  14.730  1.00 71.94           C  \\nATOM    691  O   GLY C   6     -10.331 -24.567  15.483  1.00 71.94           O  \\nATOM    692  N   LYS C   7      -8.153 -24.498  14.983  1.00 73.69           N  \\nATOM    693  CA  LYS C   7      -7.796 -24.914  16.336  1.00 73.69           C  \\nATOM    694  C   LYS C   7      -7.153 -23.767  17.111  1.00 73.69           C  \\nATOM    695  O   LYS C   7      -6.400 -22.973  16.545  1.00 73.69           O  \\nATOM    696  CB  LYS C   7      -6.850 -26.115  16.296  1.00 73.69           C  \\nATOM    697  CG  LYS C   7      -7.532 -27.429  15.945  1.00 73.69           C  \\nATOM    698  CD  LYS C   7      -6.588 -28.612  16.115  1.00 73.69           C  \\nATOM    699  CE  LYS C   7      -7.251 -29.921  15.708  1.00 73.69           C  \\nATOM    700  NZ  LYS C   7      -6.359 -31.093  15.952  1.00 73.69           N  \\nATOM    701  N   ASP C   8      -7.459 -23.599  18.403  1.00 71.95           N  \\nATOM    702  CA  ASP C   8      -6.953 -22.528  19.255  1.00 71.95           C  \\nATOM    703  C   ASP C   8      -5.687 -22.963  19.990  1.00 71.95           C  \\nATOM    704  O   ASP C   8      -5.689 -23.974  20.696  1.00 71.95           O  \\nATOM    705  CB  ASP C   8      -8.021 -22.092  20.261  1.00 71.95           C  \\nATOM    706  CG  ASP C   8      -9.080 -21.193  19.647  1.00 71.95           C  \\nATOM    707  OD1 ASP C   8      -8.797 -20.521  18.632  1.00 71.95           O  \\nATOM    708  OD2 ASP C   8     -10.208 -21.156  20.185  1.00 71.95           O  \\nATOM    709  N   TYR C   9      -4.617 -22.273  19.778  1.00 60.14           N  \\nATOM    710  CA  TYR C   9      -3.369 -22.600  20.460  1.00 60.14           C  \\nATOM    711  C   TYR C   9      -2.927 -21.458  21.367  1.00 60.14           C  \\nATOM    712  O   TYR C   9      -3.094 -20.285  21.024  1.00 60.14           O  \\nATOM    713  CB  TYR C   9      -2.268 -22.917  19.444  1.00 60.14           C  \\nATOM    714  CG  TYR C   9      -2.562 -24.124  18.587  1.00 60.14           C  \\nATOM    715  CD1 TYR C   9      -2.249 -25.408  19.028  1.00 60.14           C  \\nATOM    716  CD2 TYR C   9      -3.150 -23.983  17.335  1.00 60.14           C  \\nATOM    717  CE1 TYR C   9      -2.516 -26.524  18.240  1.00 60.14           C  \\nATOM    718  CE2 TYR C   9      -3.422 -25.092  16.539  1.00 60.14           C  \\nATOM    719  CZ  TYR C   9      -3.102 -26.355  17.000  1.00 60.14           C  \\nATOM    720  OH  TYR C   9      -3.368 -27.456  16.216  1.00 60.14           O  \\nATOM    721  N   PRO C  10      -2.565 -21.798  22.597  1.00 63.23           N  \\nATOM    722  CA  PRO C  10      -1.937 -20.726  23.372  1.00 63.23           C  \\nATOM    723  C   PRO C  10      -0.661 -20.197  22.721  1.00 63.23           C  \\nATOM    724  O   PRO C  10       0.107 -20.969  22.142  1.00 63.23           O  \\nATOM    725  CB  PRO C  10      -1.629 -21.395  24.714  1.00 63.23           C  \\nATOM    726  CG  PRO C  10      -1.840 -22.854  24.470  1.00 63.23           C  \\nATOM    727  CD  PRO C  10      -2.519 -23.023  23.142  1.00 63.23           C  \\nATOM    728  N   ILE C  11      -0.465 -18.969  22.584  1.00 62.21           N  \\nATOM    729  CA  ILE C  11       0.657 -18.305  21.930  1.00 62.21           C  \\nATOM    730  C   ILE C  11       1.970 -18.790  22.540  1.00 62.21           C  \\nATOM    731  O   ILE C  11       2.995 -18.849  21.857  1.00 62.21           O  \\nATOM    732  CB  ILE C  11       0.549 -16.768  22.044  1.00 62.21           C  \\nATOM    733  CG1 ILE C  11      -0.700 -16.265  21.311  1.00 62.21           C  \\nATOM    734  CG2 ILE C  11       1.812 -16.096  21.498  1.00 62.21           C  \\nATOM    735  CD1 ILE C  11      -0.955 -14.773  21.475  1.00 62.21           C  \\nATOM    736  N   GLU C  12       1.934 -19.227  23.826  1.00 56.37           N  \\nATOM    737  CA  GLU C  12       3.193 -19.552  24.488  1.00 56.37           C  \\nATOM    738  C   GLU C  12       3.845 -20.781  23.860  1.00 56.37           C  \\nATOM    739  O   GLU C  12       5.071 -20.914  23.871  1.00 56.37           O  \\nATOM    740  CB  GLU C  12       2.970 -19.783  25.985  1.00 56.37           C  \\nATOM    741  CG  GLU C  12       2.959 -18.503  26.809  1.00 56.37           C  \\nATOM    742  CD  GLU C  12       2.786 -18.751  28.299  1.00 56.37           C  \\nATOM    743  OE1 GLU C  12       2.791 -17.773  29.081  1.00 56.37           O  \\nATOM    744  OE2 GLU C  12       2.644 -19.932  28.687  1.00 56.37           O  \\nATOM    745  N   TRP C  13       2.974 -21.702  23.337  1.00 52.00           N  \\nATOM    746  CA  TRP C  13       3.572 -22.943  22.857  1.00 52.00           C  \\nATOM    747  C   TRP C  13       4.050 -22.796  21.416  1.00 52.00           C  \\nATOM    748  O   TRP C  13       4.549 -23.753  20.820  1.00 52.00           O  \\nATOM    749  CB  TRP C  13       2.572 -24.098  22.960  1.00 52.00           C  \\nATOM    750  CG  TRP C  13       2.178 -24.439  24.366  1.00 52.00           C  \\nATOM    751  CD1 TRP C  13       1.354 -23.722  25.188  1.00 52.00           C  \\nATOM    752  CD2 TRP C  13       2.597 -25.583  25.117  1.00 52.00           C  \\nATOM    753  NE1 TRP C  13       1.235 -24.351  26.405  1.00 52.00           N  \\nATOM    754  CE2 TRP C  13       1.987 -25.495  26.388  1.00 52.00           C  \\nATOM    755  CE3 TRP C  13       3.429 -26.675  24.838  1.00 52.00           C  \\nATOM    756  CZ2 TRP C  13       2.184 -26.460  27.379  1.00 52.00           C  \\nATOM    757  CZ3 TRP C  13       3.624 -27.634  25.825  1.00 52.00           C  \\nATOM    758  CH2 TRP C  13       3.003 -27.518  27.080  1.00 52.00           C  \\nATOM    759  N   ILE C  14       3.956 -21.561  20.832  1.00 49.35           N  \\nATOM    760  CA  ILE C  14       4.401 -21.532  19.444  1.00 49.35           C  \\nATOM    761  C   ILE C  14       5.877 -21.145  19.383  1.00 49.35           C  \\nATOM    762  O   ILE C  14       6.225 -19.973  19.543  1.00 49.35           O  \\nATOM    763  CB  ILE C  14       3.556 -20.553  18.599  1.00 49.35           C  \\nATOM    764  CG1 ILE C  14       2.071 -20.926  18.677  1.00 49.35           C  \\nATOM    765  CG2 ILE C  14       4.040 -20.536  17.146  1.00 49.35           C  \\nATOM    766  CD1 ILE C  14       1.144 -19.922  18.006  1.00 49.35           C  \\nATOM    767  N   ILE C  15       6.745 -21.757  20.149  1.00 52.16           N  \\nATOM    768  CA  ILE C  15       8.161 -21.469  19.946  1.00 52.16           C  \\nATOM    769  C   ILE C  15       8.592 -21.949  18.562  1.00 52.16           C  \\nATOM    770  O   ILE C  15       8.437 -23.126  18.230  1.00 52.16           O  \\nATOM    771  CB  ILE C  15       9.034 -22.127  21.038  1.00 52.16           C  \\nATOM    772  CG1 ILE C  15       8.536 -21.729  22.432  1.00 52.16           C  \\nATOM    773  CG2 ILE C  15      10.506 -21.749  20.853  1.00 52.16           C  \\nATOM    774  CD1 ILE C  15       9.287 -22.401  23.573  1.00 52.16           C  \\nATOM    775  N   ILE C  16       8.684 -21.048  17.693  1.00 51.74           N  \\nATOM    776  CA  ILE C  16       9.129 -21.280  16.323  1.00 51.74           C  \\nATOM    777  C   ILE C  16      10.648 -21.434  16.292  1.00 51.74           C  \\nATOM    778  O   ILE C  16      11.378 -20.532  16.710  1.00 51.74           O  \\nATOM    779  CB  ILE C  16       8.687 -20.135  15.384  1.00 51.74           C  \\nATOM    780  CG1 ILE C  16       7.181 -19.884  15.521  1.00 51.74           C  \\nATOM    781  CG2 ILE C  16       9.060 -20.452  13.933  1.00 51.74           C  \\nATOM    782  CD1 ILE C  16       6.681 -18.677  14.738  1.00 51.74           C  \\nATOM    783  N   ASP C  17      11.158 -22.604  16.467  1.00 50.53           N  \\nATOM    784  CA  ASP C  17      12.561 -22.834  16.137  1.00 50.53           C  \\nATOM    785  C   ASP C  17      12.837 -22.524  14.667  1.00 50.53           C  \\nATOM    786  O   ASP C  17      12.345 -23.221  13.777  1.00 50.53           O  \\nATOM    787  CB  ASP C  17      12.957 -24.278  16.453  1.00 50.53           C  \\nATOM    788  CG  ASP C  17      14.450 -24.525  16.321  1.00 50.53           C  \\nATOM    789  OD1 ASP C  17      15.178 -23.625  15.850  1.00 50.53           O  \\nATOM    790  OD2 ASP C  17      14.901 -25.632  16.688  1.00 50.53           O  \\nATOM    791  N   PRO C  18      13.294 -21.354  14.340  1.00 54.37           N  \\nATOM    792  CA  PRO C  18      13.523 -21.055  12.924  1.00 54.37           C  \\nATOM    793  C   PRO C  18      14.165 -22.218  12.172  1.00 54.37           C  \\nATOM    794  O   PRO C  18      14.016 -22.327  10.952  1.00 54.37           O  \\nATOM    795  CB  PRO C  18      14.462 -19.847  12.966  1.00 54.37           C  \\nATOM    796  CG  PRO C  18      14.767 -19.650  14.416  1.00 54.37           C  \\nATOM    797  CD  PRO C  18      13.965 -20.640  15.211  1.00 54.37           C  \\nATOM    798  N   GLU C  19      14.944 -22.949  12.898  1.00 55.11           N  \\nATOM    799  CA  GLU C  19      15.581 -24.055  12.189  1.00 55.11           C  \\nATOM    800  C   GLU C  19      14.579 -25.166  11.886  1.00 55.11           C  \\nATOM    801  O   GLU C  19      14.881 -26.091  11.129  1.00 55.11           O  \\nATOM    802  CB  GLU C  19      16.753 -24.611  13.002  1.00 55.11           C  \\nATOM    803  CG  GLU C  19      17.964 -23.691  13.043  1.00 55.11           C  \\nATOM    804  CD  GLU C  19      19.142 -24.283  13.801  1.00 55.11           C  \\nATOM    805  OE1 GLU C  19      20.223 -23.652  13.833  1.00 55.11           O  \\nATOM    806  OE2 GLU C  19      18.982 -25.388  14.368  1.00 55.11           O  \\nATOM    807  N   ALA C  20      13.523 -25.158  12.684  1.00 54.58           N  \\nATOM    808  CA  ALA C  20      12.509 -26.190  12.486  1.00 54.58           C  \\nATOM    809  C   ALA C  20      11.716 -25.942  11.206  1.00 54.58           C  \\nATOM    810  O   ALA C  20      10.902 -26.775  10.801  1.00 54.58           O  \\nATOM    811  CB  ALA C  20      11.568 -26.250  13.687  1.00 54.58           C  \\nATOM    812  N   PHE C  21      12.021 -24.865  10.502  1.00 49.15           N  \\nATOM    813  CA  PHE C  21      11.395 -24.552   9.223  1.00 49.15           C  \\nATOM    814  C   PHE C  21      11.785 -25.576   8.164  1.00 49.15           C  \\nATOM    815  O   PHE C  21      12.953 -25.664   7.777  1.00 49.15           O  \\nATOM    816  CB  PHE C  21      11.787 -23.145   8.761  1.00 49.15           C  \\nATOM    817  CG  PHE C  21      10.617 -22.213   8.595  1.00 49.15           C  \\nATOM    818  CD1 PHE C  21      10.013 -22.046   7.355  1.00 49.15           C  \\nATOM    819  CD2 PHE C  21      10.122 -21.502   9.681  1.00 49.15           C  \\nATOM    820  CE1 PHE C  21       8.930 -21.184   7.199  1.00 49.15           C  \\nATOM    821  CE2 PHE C  21       9.040 -20.639   9.533  1.00 49.15           C  \\nATOM    822  CZ  PHE C  21       8.446 -20.480   8.291  1.00 49.15           C  \\nATOM    823  N   THR C  22      11.370 -26.823   8.332  1.00 50.46           N  \\nATOM    824  CA  THR C  22      11.738 -27.728   7.249  1.00 50.46           C  \\nATOM    825  C   THR C  22      11.310 -27.158   5.899  1.00 50.46           C  \\nATOM    826  O   THR C  22      10.450 -26.277   5.836  1.00 50.46           O  \\nATOM    827  CB  THR C  22      11.108 -29.119   7.445  1.00 50.46           C  \\nATOM    828  OG1 THR C  22       9.685 -28.984   7.544  1.00 50.46           O  \\nATOM    829  CG2 THR C  22      11.633 -29.787   8.712  1.00 50.46           C  \\nATOM    830  N   GLU C  23      12.295 -26.939   5.072  1.00 51.69           N  \\nATOM    831  CA  GLU C  23      12.155 -26.581   3.664  1.00 51.69           C  \\nATOM    832  C   GLU C  23      10.749 -26.887   3.154  1.00 51.69           C  \\nATOM    833  O   GLU C  23      10.218 -26.163   2.310  1.00 51.69           O  \\nATOM    834  CB  GLU C  23      13.194 -27.319   2.816  1.00 51.69           C  \\nATOM    835  CG  GLU C  23      14.573 -26.676   2.836  1.00 51.69           C  \\nATOM    836  CD  GLU C  23      15.548 -27.316   1.861  1.00 51.69           C  \\nATOM    837  OE1 GLU C  23      16.676 -26.796   1.700  1.00 51.69           O  \\nATOM    838  OE2 GLU C  23      15.181 -28.345   1.252  1.00 51.69           O  \\nATOM    839  N   ASN C  24      10.156 -27.883   3.743  1.00 54.52           N  \\nATOM    840  CA  ASN C  24       8.864 -28.149   3.119  1.00 54.52           C  \\nATOM    841  C   ASN C  24       7.742 -27.369   3.797  1.00 54.52           C  \\nATOM    842  O   ASN C  24       6.574 -27.510   3.431  1.00 54.52           O  \\nATOM    843  CB  ASN C  24       8.557 -29.648   3.140  1.00 54.52           C  \\nATOM    844  CG  ASN C  24       9.730 -30.491   2.678  1.00 54.52           C  \\nATOM    845  OD1 ASN C  24      10.682 -29.979   2.083  1.00 54.52           O  \\nATOM    846  ND2 ASN C  24       9.670 -31.789   2.948  1.00 54.52           N  \\nATOM    847  N   GLY C  25       8.155 -26.385   4.532  1.00 53.27           N  \\nATOM    848  CA  GLY C  25       7.177 -25.451   5.065  1.00 53.27           C  \\nATOM    849  C   GLY C  25       6.254 -26.075   6.094  1.00 53.27           C  \\nATOM    850  O   GLY C  25       5.198 -25.521   6.407  1.00 53.27           O  \\nATOM    851  N   GLU C  26       6.600 -27.292   6.455  1.00 53.20           N  \\nATOM    852  CA  GLU C  26       5.745 -27.941   7.444  1.00 53.20           C  \\nATOM    853  C   GLU C  26       6.181 -27.594   8.864  1.00 53.20           C  \\nATOM    854  O   GLU C  26       7.378 -27.560   9.161  1.00 53.20           O  \\nATOM    855  CB  GLU C  26       5.752 -29.460   7.248  1.00 53.20           C  \\nATOM    856  CG  GLU C  26       4.768 -29.948   6.195  1.00 53.20           C  \\nATOM    857  CD  GLU C  26       4.588 -31.458   6.196  1.00 53.20           C  \\nATOM    858  OE1 GLU C  26       3.758 -31.971   5.412  1.00 53.20           O  \\nATOM    859  OE2 GLU C  26       5.283 -32.133   6.989  1.00 53.20           O  \\nATOM    860  N   TRP C  27       5.361 -26.919   9.508  1.00 56.20           N  \\nATOM    861  CA  TRP C  27       5.598 -26.543  10.898  1.00 56.20           C  \\nATOM    862  C   TRP C  27       5.536 -27.763  11.811  1.00 56.20           C  \\nATOM    863  O   TRP C  27       4.637 -28.596  11.682  1.00 56.20           O  \\nATOM    864  CB  TRP C  27       4.578 -25.496  11.354  1.00 56.20           C  \\nATOM    865  CG  TRP C  27       4.637 -24.212  10.582  1.00 56.20           C  \\nATOM    866  CD1 TRP C  27       3.846 -23.847   9.528  1.00 56.20           C  \\nATOM    867  CD2 TRP C  27       5.539 -23.123  10.803  1.00 56.20           C  \\nATOM    868  NE1 TRP C  27       4.203 -22.596   9.080  1.00 56.20           N  \\nATOM    869  CE2 TRP C  27       5.238 -22.130   9.845  1.00 56.20           C  \\nATOM    870  CE3 TRP C  27       6.573 -22.891  11.720  1.00 56.20           C  \\nATOM    871  CZ2 TRP C  27       5.936 -20.922   9.778  1.00 56.20           C  \\nATOM    872  CZ3 TRP C  27       7.267 -21.688  11.651  1.00 56.20           C  \\nATOM    873  CH2 TRP C  27       6.943 -20.720  10.686  1.00 56.20           C  \\nATOM    874  N   GLU C  28       6.588 -28.226  12.288  1.00 51.30           N  \\nATOM    875  CA  GLU C  28       6.456 -29.220  13.349  1.00 51.30           C  \\nATOM    876  C   GLU C  28       6.186 -28.556  14.696  1.00 51.30           C  \\nATOM    877  O   GLU C  28       6.875 -27.607  15.076  1.00 51.30           O  \\nATOM    878  CB  GLU C  28       7.715 -30.087  13.433  1.00 51.30           C  \\nATOM    879  CG  GLU C  28       7.447 -31.519  13.875  1.00 51.30           C  \\nATOM    880  CD  GLU C  28       8.685 -32.401  13.832  1.00 51.30           C  \\nATOM    881  OE1 GLU C  28       8.563 -33.628  14.048  1.00 51.30           O  \\nATOM    882  OE2 GLU C  28       9.785 -31.860  13.583  1.00 51.30           O  \\nATOM    883  N   ILE C  29       5.015 -28.680  15.088  1.00 55.68           N  \\nATOM    884  CA  ILE C  29       4.639 -28.168  16.401  1.00 55.68           C  \\nATOM    885  C   ILE C  29       5.220 -29.067  17.490  1.00 55.68           C  \\nATOM    886  O   ILE C  29       4.987 -30.278  17.495  1.00 55.68           O  \\nATOM    887  CB  ILE C  29       3.104 -28.069  16.550  1.00 55.68           C  \\nATOM    888  CG1 ILE C  29       2.517 -27.181  15.447  1.00 55.68           C  \\nATOM    889  CG2 ILE C  29       2.730 -27.539  17.938  1.00 55.68           C  \\nATOM    890  CD1 ILE C  29       0.995 -27.153  15.420  1.00 55.68           C  \\nATOM    891  N   ILE C  30       6.355 -28.764  17.921  1.00 50.37           N  \\nATOM    892  CA  ILE C  30       6.840 -29.570  19.036  1.00 50.37           C  \\nATOM    893  C   ILE C  30       6.191 -29.099  20.335  1.00 50.37           C  \\nATOM    894  O   ILE C  30       5.987 -27.899  20.535  1.00 50.37           O  \\nATOM    895  CB  ILE C  30       8.380 -29.505  19.152  1.00 50.37           C  \\nATOM    896  CG1 ILE C  30       8.975 -28.766  17.948  1.00 50.37           C  \\nATOM    897  CG2 ILE C  30       8.971 -30.912  19.277  1.00 50.37           C  \\nATOM    898  CD1 ILE C  30      10.465 -28.479  18.073  1.00 50.37           C  \",\"pdb\",{\"hbondCutoff\": 4.0});\n",
              "\tviewer_16665919167499092.setStyle({\"cartoon\": {\"colorscheme\": {\"prop\": \"b\", \"gradient\": \"roygb\", \"min\": 50, \"max\": 90}}});\n",
              "\tviewer_16665919167499092.zoomTo();\n",
              "viewer_16665919167499092.render();\n",
              "});\n",
              "</script>"
            ]
          },
          "metadata": {}
        }
      ]
    },
    {
      "cell_type": "code",
      "source": [
        "with open(\"tmp0.pdb\") as ifile:\n",
        "    system = \"\".join([x for x in ifile])\n",
        "system1 = system.split(\"\\n\")\n",
        "system2 = []\n",
        "for x in system1:\n",
        "  if x[:4] == 'ATOM':\n",
        "    system2.append(x)"
      ],
      "metadata": {
        "id": "nU8xVJFtEct1"
      },
      "execution_count": null,
      "outputs": []
    },
    {
      "cell_type": "code",
      "source": [],
      "metadata": {
        "id": "eustl_lSSyzz"
      },
      "execution_count": null,
      "outputs": []
    },
    {
      "cell_type": "code",
      "source": [
        "file = open('pdb.txt', 'w')\n",
        "for i in system2:\n",
        "  file.write(i + '\\n')"
      ],
      "metadata": {
        "id": "yG1ms9xrFjXn"
      },
      "execution_count": null,
      "outputs": []
    },
    {
      "cell_type": "code",
      "source": [
        "system2[200]"
      ],
      "metadata": {
        "colab": {
          "base_uri": "https://localhost:8080/",
          "height": 35
        },
        "id": "nAUvTHFrwpGa",
        "outputId": "ecde3b06-b88c-4aae-81dd-bb3336ed8ca0"
      },
      "execution_count": null,
      "outputs": [
        {
          "output_type": "execute_result",
          "data": {
            "text/plain": [
              "'ATOM    201  N   LYS A  27      -0.478  -7.816  -6.808  1.00 45.91           N  '"
            ],
            "application/vnd.google.colaboratory.intrinsic+json": {
              "type": "string"
            }
          },
          "metadata": {},
          "execution_count": 4
        }
      ]
    },
    {
      "cell_type": "code",
      "source": [
        "CAS = [x for x in system2 if \"CA\" in x]"
      ],
      "metadata": {
        "id": "nYbKa2P6SzYU"
      },
      "execution_count": null,
      "outputs": []
    },
    {
      "cell_type": "code",
      "source": [
        "CAS"
      ],
      "metadata": {
        "id": "MLzNd_Q-TE85"
      },
      "execution_count": null,
      "outputs": []
    },
    {
      "cell_type": "code",
      "source": [
        "CAS = [x.split(' ') for x in CAS]\n",
        "CAS = [[x for x in y if x!=''] for y in CAS ]"
      ],
      "metadata": {
        "id": "0m2rBmu5TmAa"
      },
      "execution_count": null,
      "outputs": []
    },
    {
      "cell_type": "code",
      "source": [
        "CAS[-1]"
      ],
      "metadata": {
        "colab": {
          "base_uri": "https://localhost:8080/"
        },
        "id": "bT1u0fTfTy6G",
        "outputId": "c278b37a-be5e-4285-cba1-5b7e8beb4f1e"
      },
      "execution_count": null,
      "outputs": [
        {
          "output_type": "execute_result",
          "data": {
            "text/plain": [
              "['ATOM',\n",
              " '367',\n",
              " 'CA',\n",
              " 'LEU',\n",
              " 'B',\n",
              " '12',\n",
              " '-1.917',\n",
              " '7.155',\n",
              " '-14.299',\n",
              " '1.00',\n",
              " '35.52',\n",
              " 'C']"
            ]
          },
          "metadata": {},
          "execution_count": 11
        }
      ]
    },
    {
      "cell_type": "code",
      "source": [
        "CAS_A = [x for x in CAS if x[4]=='A']\n",
        "CAS_B = [x for x in CAS if x[4]=='B']"
      ],
      "metadata": {
        "id": "xZ4DkvdUxJR4"
      },
      "execution_count": null,
      "outputs": []
    },
    {
      "cell_type": "code",
      "source": [
        "for i in CAS_A:\n",
        "  print(i)"
      ],
      "metadata": {
        "id": "X0CPwQBtxUVK"
      },
      "execution_count": null,
      "outputs": []
    },
    {
      "cell_type": "code",
      "source": [
        "CAS_A = np.array([np.array([float(x[6]), float(x[7]), float(x[8])]) for x in CAS_A])\n",
        "CAS_B = np.array([np.array([float(x[6]), float(x[7]), float(x[8])]) for x in CAS_B])"
      ],
      "metadata": {
        "id": "-zcGduHUUJta"
      },
      "execution_count": null,
      "outputs": []
    },
    {
      "cell_type": "code",
      "source": [
        "CAS_A"
      ],
      "metadata": {
        "id": "DqsTDzRgzoDj"
      },
      "execution_count": null,
      "outputs": []
    },
    {
      "cell_type": "code",
      "source": [
        "from math import sqrt"
      ],
      "metadata": {
        "id": "JH_IxmL5zvFF"
      },
      "execution_count": null,
      "outputs": []
    },
    {
      "cell_type": "code",
      "source": [
        "CAS_B.shape"
      ],
      "metadata": {
        "colab": {
          "base_uri": "https://localhost:8080/"
        },
        "id": "K9IWa0n9EUc-",
        "outputId": "1e1b93c2-7579-4b8f-ac01-226bbc272723"
      },
      "execution_count": null,
      "outputs": [
        {
          "output_type": "execute_result",
          "data": {
            "text/plain": [
              "(12, 3)"
            ]
          },
          "metadata": {},
          "execution_count": 34
        }
      ]
    },
    {
      "cell_type": "code",
      "source": [
        "sum([sqrt(np.sum((CAS_A - i)**2))/CAS_A.shape[0] for i in CAS_B])/CAS_B.shape[0]"
      ],
      "metadata": {
        "colab": {
          "base_uri": "https://localhost:8080/"
        },
        "id": "LhHQIHaHzPZD",
        "outputId": "322ef15d-6286-434f-8059-ecdbbf2be580"
      },
      "execution_count": null,
      "outputs": [
        {
          "output_type": "execute_result",
          "data": {
            "text/plain": [
              "8.918727452607685"
            ]
          },
          "metadata": {},
          "execution_count": 35
        }
      ]
    },
    {
      "cell_type": "code",
      "source": [
        "def take_loss(filename):\n",
        "  with open(filename) as ifile:\n",
        "      system = \"\".join([x for x in ifile])\n",
        "  system1 = system.split(\"\\n\")\n",
        "  system2 = []\n",
        "  for x in system1:\n",
        "    if x[:4] == 'ATOM':\n",
        "      system2.append(x)\n",
        "  CAS = [x for x in system2 if \"CA\" in x]\n",
        "  CAS = [x.split(' ') for x in CAS]\n",
        "  CAS = [[x for x in y if x!=''] for y in CAS ]\n",
        "  CAS_A = [x for x in CAS if x[4]=='A']\n",
        "  CAS_B = [x for x in CAS if x[4]=='B']\n",
        "  CAS_A = np.array([np.array([float(x[6]), float(x[7]), float(x[8])]) for x in CAS_A])\n",
        "  CAS_B = np.array([np.array([float(x[6]), float(x[7]), float(x[8])]) for x in CAS_B])\n",
        "  loss = sum([sqrt(np.sum((CAS_A - i)**2))/CAS_A.shape[0] for i in CAS_B])/CAS_B.shape[0]\n",
        "  return loss"
      ],
      "metadata": {
        "id": "0wLIZFxN0ugP"
      },
      "execution_count": null,
      "outputs": []
    },
    {
      "cell_type": "code",
      "source": [
        "%%time\n",
        "take_loss('tmp.pdb')"
      ],
      "metadata": {
        "colab": {
          "base_uri": "https://localhost:8080/"
        },
        "id": "xWUrGQ8u1Doq",
        "outputId": "41d4ab3a-584e-4d87-fd77-b7a067ee9cc2"
      },
      "execution_count": null,
      "outputs": [
        {
          "output_type": "stream",
          "name": "stdout",
          "text": [
            "CPU times: user 2.37 ms, sys: 29 µs, total: 2.4 ms\n",
            "Wall time: 2.33 ms\n"
          ]
        },
        {
          "output_type": "execute_result",
          "data": {
            "text/plain": [
              "2.5109469971087885"
            ]
          },
          "metadata": {},
          "execution_count": 40
        }
      ]
    },
    {
      "cell_type": "code",
      "source": [
        "from scipy.spatial.distance import pdist, squareform\n",
        "from math import sqrt\n",
        "\n",
        "\n",
        "def take_loss_assembly(target_pdb_name, oligomer, seq_len, hal_region):\n",
        "    losses = []\n",
        "    for i in range(seq_len):\n",
        "      chains_z = open(f'{target_pdb_name}{i}.pdb','r').readlines()\n",
        "      chains_z = [i.split(' ') for i in chains_z]\n",
        "      chains_z = [[i for i in x if i!=''] for x in chains_z if len(x)!=0]\n",
        "      chains_z = [np.array([(float(x)) for x in i[6:9]]) for i in chains_z if i[2]=='CA']\n",
        "      chains_z = np.array(chains_z[hal_region[0]:hal_region[1]])\n",
        "      atom_coord = []\n",
        "      for i in range(oligomer):\n",
        "        z1 = int(chains_z.shape[0]/oligomer)\n",
        "        atom_coord += [chains_z[x] for x in range(z1*i, z1*(i+1))]\n",
        "      atom_coord = np.array(atom_coord)\n",
        "      atom_coord = squareform(pdist(atom_coord, metric='euclidean'))\n",
        "      losses.append(atom_coord)\n",
        "    losses = np.array(losses)\n",
        "    return torch.tensor(losses).float()"
      ],
      "metadata": {
        "id": "jQqaQU-H7ew2"
      },
      "execution_count": null,
      "outputs": []
    },
    {
      "cell_type": "code",
      "source": [
        "atom_coord = np.array(CAS_F)\n",
        "atom_coord = squareform(pdist(atom_coord, metric='euclidean'))\n",
        "np.save('hal.npy', atom_coord)"
      ],
      "metadata": {
        "id": "AacpatGd7etg"
      },
      "execution_count": null,
      "outputs": []
    },
    {
      "cell_type": "code",
      "source": [
        "plt.imshow(atom_coord)"
      ],
      "metadata": {
        "id": "MyaXNSK-8fw-"
      },
      "execution_count": null,
      "outputs": []
    },
    {
      "cell_type": "code",
      "source": [
        "sheet = take_loss_assembly('tmp', 1, 1, (0, -1))"
      ],
      "metadata": {
        "id": "if1khRUB8ncW"
      },
      "execution_count": null,
      "outputs": []
    },
    {
      "cell_type": "code",
      "source": [
        "plt.imshow(sheet[0])"
      ],
      "metadata": {
        "id": "wZ-i5H_R_O8W"
      },
      "execution_count": null,
      "outputs": []
    },
    {
      "cell_type": "code",
      "source": [
        "plt.imshow(atom_coord-sheet[0].cpu().detach().numpy())\n",
        "print(criterion(torch.Tensor(atom_coord).float(),sheet[0]))"
      ],
      "metadata": {
        "id": "en05PHr2_a0u"
      },
      "execution_count": null,
      "outputs": []
    },
    {
      "cell_type": "code",
      "source": [
        "hal_region = (27, 38)\n",
        "chains_z = open(f'tmp0.pdb','r').readlines()\n",
        "chains_z = [i.split(' ') for i in chains_z]\n",
        "chains_z = [[i for i in x if i!=''] for x in chains_z if len(x)!=0]\n",
        "chains_z = [np.array([(float(x)) for x in i[6:9]]) for i in chains_z if i[2]=='CA']\n",
        "chains_z = np.array(chains_z[hal_region[0]:hal_region[1]])"
      ],
      "metadata": {
        "id": "f-mBVVs99RAO"
      },
      "execution_count": null,
      "outputs": []
    },
    {
      "cell_type": "code",
      "source": [
        "atom_coord = []\n",
        "for i in range(1):\n",
        "      z1 = int(chains_z.shape[0]/1)\n",
        "      atom_coord += [chains_z[x] for x in range(z1*i, z1*(i+1))]"
      ],
      "metadata": {
        "id": "87J7ICei9Yu5"
      },
      "execution_count": null,
      "outputs": []
    },
    {
      "cell_type": "code",
      "source": [
        "atom_coord = np.array(atom_coord)\n",
        "atom_coord = squareform(pdist(atom_coord, metric='euclidean'))"
      ],
      "metadata": {
        "id": "t5-3Q-xY9j8C"
      },
      "execution_count": null,
      "outputs": []
    },
    {
      "cell_type": "code",
      "source": [
        "plt.imshow(atom_coord)"
      ],
      "metadata": {
        "id": "yvhGMa1R9lbW"
      },
      "execution_count": null,
      "outputs": []
    },
    {
      "cell_type": "code",
      "source": [
        "!pip install Bio"
      ],
      "metadata": {
        "colab": {
          "base_uri": "https://localhost:8080/"
        },
        "id": "UgYL0sbGi3li",
        "outputId": "2b9c8b97-b09e-4ba8-bc7b-d13ae735c3a4"
      },
      "execution_count": null,
      "outputs": [
        {
          "output_type": "stream",
          "name": "stdout",
          "text": [
            "Looking in indexes: https://pypi.org/simple, https://us-python.pkg.dev/colab-wheels/public/simple/\n",
            "Collecting Bio\n",
            "  Downloading bio-1.4.0-py3-none-any.whl (270 kB)\n",
            "\u001b[K     |████████████████████████████████| 270 kB 4.3 MB/s \n",
            "\u001b[?25hRequirement already satisfied: biopython>=1.79 in /usr/local/lib/python3.7/dist-packages (from Bio) (1.79)\n",
            "Requirement already satisfied: tqdm in /usr/local/lib/python3.7/dist-packages (from Bio) (4.64.1)\n",
            "Requirement already satisfied: requests in /usr/local/lib/python3.7/dist-packages (from Bio) (2.23.0)\n",
            "Collecting mygene\n",
            "  Downloading mygene-3.2.2-py2.py3-none-any.whl (5.4 kB)\n",
            "Requirement already satisfied: numpy in /usr/local/lib/python3.7/dist-packages (from biopython>=1.79->Bio) (1.21.6)\n",
            "Collecting biothings-client>=0.2.6\n",
            "  Downloading biothings_client-0.2.6-py2.py3-none-any.whl (37 kB)\n",
            "Requirement already satisfied: urllib3!=1.25.0,!=1.25.1,<1.26,>=1.21.1 in /usr/local/lib/python3.7/dist-packages (from requests->Bio) (1.24.3)\n",
            "Requirement already satisfied: certifi>=2017.4.17 in /usr/local/lib/python3.7/dist-packages (from requests->Bio) (2022.9.24)\n",
            "Requirement already satisfied: chardet<4,>=3.0.2 in /usr/local/lib/python3.7/dist-packages (from requests->Bio) (3.0.4)\n",
            "Requirement already satisfied: idna<3,>=2.5 in /usr/local/lib/python3.7/dist-packages (from requests->Bio) (2.10)\n",
            "Installing collected packages: biothings-client, mygene, Bio\n",
            "Successfully installed Bio-1.4.0 biothings-client-0.2.6 mygene-3.2.2\n"
          ]
        }
      ]
    }
  ]
}